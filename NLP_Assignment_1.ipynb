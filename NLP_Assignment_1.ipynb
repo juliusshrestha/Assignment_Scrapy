{
  "nbformat": 4,
  "nbformat_minor": 0,
  "metadata": {
    "colab": {
      "name": "NLP_Assignment_1.ipynb",
      "provenance": [],
      "mount_file_id": "1XEnv9IAIN1V1_X4wH4lirun73oLRUrt7",
      "authorship_tag": "ABX9TyMs3rQqat0Dk4eZXT5Lp49V",
      "include_colab_link": true
    },
    "kernelspec": {
      "name": "python3",
      "display_name": "Python 3"
    },
    "language_info": {
      "name": "python"
    }
  },
  "cells": [
    {
      "cell_type": "markdown",
      "metadata": {
        "id": "view-in-github",
        "colab_type": "text"
      },
      "source": [
        "<a href=\"https://colab.research.google.com/github/juliusshrestha/Assignment_Scrapy/blob/main/NLP_Assignment_1.ipynb\" target=\"_parent\"><img src=\"https://colab.research.google.com/assets/colab-badge.svg\" alt=\"Open In Colab\"/></a>"
      ]
    },
    {
      "cell_type": "markdown",
      "source": [
        "Pandas"
      ],
      "metadata": {
        "id": "2ZNFqeSNbROR"
      }
    },
    {
      "cell_type": "code",
      "source": [
        "import pandas as pd\n",
        "data = pd.read_csv(\"/content/drive/MyDrive/flight_data.csv\")\n",
        "data.groupby(\"ORIGIN\").mean()[\"DEP_DELAY\"].idxmax()"
      ],
      "metadata": {
        "colab": {
          "base_uri": "https://localhost:8080/",
          "height": 35
        },
        "id": "CALg7w8_bPv_",
        "outputId": "34b684fc-4a3b-4a80-bc6a-12bc97c99a58"
      },
      "execution_count": null,
      "outputs": [
        {
          "output_type": "execute_result",
          "data": {
            "text/plain": [
              "'PPG'"
            ],
            "application/vnd.google.colaboratory.intrinsic+json": {
              "type": "string"
            }
          },
          "metadata": {},
          "execution_count": 5
        }
      ]
    },
    {
      "cell_type": "markdown",
      "source": [
        "Scikitlearn"
      ],
      "metadata": {
        "id": "emDkxqXcbxgf"
      }
    },
    {
      "cell_type": "code",
      "source": [
        "from sklearn.feature_extraction.text import CountVectorizer\n",
        "sentence = [\"How to change payment method and payment frequency\"]\n",
        "vectorizer = CountVectorizer(stop_words='english')\n",
        "vectorizer.fit_transform(sentence).todense()"
      ],
      "metadata": {
        "colab": {
          "base_uri": "https://localhost:8080/"
        },
        "id": "qP3wVzg3bzwG",
        "outputId": "050d0077-55ed-408f-fedb-59861b80834d"
      },
      "execution_count": null,
      "outputs": [
        {
          "output_type": "execute_result",
          "data": {
            "text/plain": [
              "matrix([[1, 1, 1, 2]])"
            ]
          },
          "metadata": {},
          "execution_count": 6
        }
      ]
    },
    {
      "cell_type": "markdown",
      "source": [
        "NLTK"
      ],
      "metadata": {
        "id": "Uljw2i9TcPNm"
      }
    },
    {
      "cell_type": "code",
      "source": [
        "import nltk\n",
        "nltk.download('punkt')\n",
        "text = \"Who would have thought that computer programs would be analyzing human sentiments\"\n",
        "from nltk.tokenize import word_tokenize\n",
        "tokens = word_tokenize(text)\n",
        "print(tokens)"
      ],
      "metadata": {
        "colab": {
          "base_uri": "https://localhost:8080/"
        },
        "id": "GZOp7R6Nb1OG",
        "outputId": "688a7453-2eb4-4fc3-b5b1-410dd39ee8fe"
      },
      "execution_count": null,
      "outputs": [
        {
          "output_type": "stream",
          "name": "stdout",
          "text": [
            "[nltk_data] Downloading package punkt to /root/nltk_data...\n",
            "[nltk_data]   Unzipping tokenizers/punkt.zip.\n",
            "['Who', 'would', 'have', 'thought', 'that', 'computer', 'programs', 'would', 'be', 'analyzing', 'human', 'sentiments']\n"
          ]
        }
      ]
    },
    {
      "cell_type": "markdown",
      "source": [
        "NLTK Corpora\n",
        "Stopwords"
      ],
      "metadata": {
        "id": "0_WglGS7cQ7-"
      }
    },
    {
      "cell_type": "code",
      "source": [
        "nltk.download('stopwords')\n",
        "stopwords = nltk.corpus.stopwords.words('english')\n",
        "print(stopwords)"
      ],
      "metadata": {
        "colab": {
          "base_uri": "https://localhost:8080/"
        },
        "id": "_TGIrVxcb0y_",
        "outputId": "b7788fcd-77ec-4029-8330-bdcdfd919f38"
      },
      "execution_count": null,
      "outputs": [
        {
          "output_type": "stream",
          "name": "stdout",
          "text": [
            "[nltk_data] Downloading package stopwords to /root/nltk_data...\n",
            "[nltk_data]   Package stopwords is already up-to-date!\n",
            "['i', 'me', 'my', 'myself', 'we', 'our', 'ours', 'ourselves', 'you', \"you're\", \"you've\", \"you'll\", \"you'd\", 'your', 'yours', 'yourself', 'yourselves', 'he', 'him', 'his', 'himself', 'she', \"she's\", 'her', 'hers', 'herself', 'it', \"it's\", 'its', 'itself', 'they', 'them', 'their', 'theirs', 'themselves', 'what', 'which', 'who', 'whom', 'this', 'that', \"that'll\", 'these', 'those', 'am', 'is', 'are', 'was', 'were', 'be', 'been', 'being', 'have', 'has', 'had', 'having', 'do', 'does', 'did', 'doing', 'a', 'an', 'the', 'and', 'but', 'if', 'or', 'because', 'as', 'until', 'while', 'of', 'at', 'by', 'for', 'with', 'about', 'against', 'between', 'into', 'through', 'during', 'before', 'after', 'above', 'below', 'to', 'from', 'up', 'down', 'in', 'out', 'on', 'off', 'over', 'under', 'again', 'further', 'then', 'once', 'here', 'there', 'when', 'where', 'why', 'how', 'all', 'any', 'both', 'each', 'few', 'more', 'most', 'other', 'some', 'such', 'no', 'nor', 'not', 'only', 'own', 'same', 'so', 'than', 'too', 'very', 's', 't', 'can', 'will', 'just', 'don', \"don't\", 'should', \"should've\", 'now', 'd', 'll', 'm', 'o', 're', 've', 'y', 'ain', 'aren', \"aren't\", 'couldn', \"couldn't\", 'didn', \"didn't\", 'doesn', \"doesn't\", 'hadn', \"hadn't\", 'hasn', \"hasn't\", 'haven', \"haven't\", 'isn', \"isn't\", 'ma', 'mightn', \"mightn't\", 'mustn', \"mustn't\", 'needn', \"needn't\", 'shan', \"shan't\", 'shouldn', \"shouldn't\", 'wasn', \"wasn't\", 'weren', \"weren't\", 'won', \"won't\", 'wouldn', \"wouldn't\"]\n"
          ]
        }
      ]
    },
    {
      "cell_type": "code",
      "source": [
        "[word for word in tokens if word not in stopwords]"
      ],
      "metadata": {
        "colab": {
          "base_uri": "https://localhost:8080/"
        },
        "id": "7WOYrNQtb8eO",
        "outputId": "d0854ba2-39af-4fd0-a224-f37ce67be977"
      },
      "execution_count": null,
      "outputs": [
        {
          "output_type": "execute_result",
          "data": {
            "text/plain": [
              "['Who',\n",
              " 'would',\n",
              " 'thought',\n",
              " 'computer',\n",
              " 'programs',\n",
              " 'would',\n",
              " 'analyzing',\n",
              " 'human',\n",
              " 'sentiments']"
            ]
          },
          "metadata": {},
          "execution_count": 13
        }
      ]
    },
    {
      "cell_type": "markdown",
      "source": [
        "Lemmatization\n"
      ],
      "metadata": {
        "id": "HNIQqubpcT3Z"
      }
    },
    {
      "cell_type": "code",
      "source": [
        "from nltk.stem import WordNetLemmatizer\n",
        "nltk.download('wordnet')\n",
        "text = \"Who would have thought that computer programs would be analyzing human sentiments\"\n",
        "tokens = word_tokenize(text)\n",
        "lemmatizer = WordNetLemmatizer()\n",
        "tokens=[lemmatizer.lemmatize(word) for word in tokens]\n",
        "print(tokens)"
      ],
      "metadata": {
        "colab": {
          "base_uri": "https://localhost:8080/"
        },
        "id": "Yb7z_4VMb9EG",
        "outputId": "939049ad-a58b-4ba5-8525-87e253773164"
      },
      "execution_count": null,
      "outputs": [
        {
          "output_type": "stream",
          "name": "stdout",
          "text": [
            "[nltk_data] Downloading package wordnet to /root/nltk_data...\n",
            "[nltk_data]   Unzipping corpora/wordnet.zip.\n",
            "['Who', 'would', 'have', 'thought', 'that', 'computer', 'program', 'would', 'be', 'analyzing', 'human', 'sentiment']\n"
          ]
        }
      ]
    },
    {
      "cell_type": "markdown",
      "source": [
        "Stemming"
      ],
      "metadata": {
        "id": "PHI8wNXFcXG-"
      }
    },
    {
      "cell_type": "code",
      "source": [
        "from nltk.stem import PorterStemmer\n",
        "text = \"Who would have thought that computer programs would be analyzing human sentiments\"\n",
        "tokens=word_tokenize(text.lower())\n",
        "ps = PorterStemmer()\n",
        "tokens=[ps.stem(word) for word in tokens]\n",
        "print(tokens)"
      ],
      "metadata": {
        "colab": {
          "base_uri": "https://localhost:8080/"
        },
        "id": "wgWkbLolb-oe",
        "outputId": "bb699652-d39a-4249-cd56-88101422f598"
      },
      "execution_count": null,
      "outputs": [
        {
          "output_type": "stream",
          "name": "stdout",
          "text": [
            "['who', 'would', 'have', 'thought', 'that', 'comput', 'program', 'would', 'be', 'analyz', 'human', 'sentiment']\n"
          ]
        }
      ]
    },
    {
      "cell_type": "markdown",
      "source": [
        "Part of Speech "
      ],
      "metadata": {
        "id": "IESLZTqmcZ6A"
      }
    },
    {
      "cell_type": "code",
      "source": [
        "nltk.download('averaged_perceptron_tagger')\n",
        "nltk.pos_tag([\"your\"])\n",
        "nltk.pos_tag([\"beautiful\"])\n",
        "nltk.pos_tag([\"eat\"])"
      ],
      "metadata": {
        "colab": {
          "base_uri": "https://localhost:8080/"
        },
        "id": "Vb5TZ51Rb-lG",
        "outputId": "ce41aa9b-0227-4657-af2c-5c1d84d9efa8"
      },
      "execution_count": null,
      "outputs": [
        {
          "output_type": "stream",
          "name": "stdout",
          "text": [
            "[nltk_data] Downloading package averaged_perceptron_tagger to\n",
            "[nltk_data]     /root/nltk_data...\n",
            "[nltk_data]   Unzipping taggers/averaged_perceptron_tagger.zip.\n"
          ]
        },
        {
          "output_type": "execute_result",
          "data": {
            "text/plain": [
              "[('eat', 'NN')]"
            ]
          },
          "metadata": {},
          "execution_count": 18
        }
      ]
    },
    {
      "cell_type": "code",
      "source": [
        "text = \"Usain Bolt is the fastest runner in the world\"\n",
        "tokens = word_tokenize(text)\n",
        "[nltk.pos_tag([word]) for word in tokens]"
      ],
      "metadata": {
        "colab": {
          "base_uri": "https://localhost:8080/"
        },
        "id": "--dtYdFlcCkG",
        "outputId": "ed5cbba8-f20a-49dc-afb7-e244692dbb73"
      },
      "execution_count": null,
      "outputs": [
        {
          "output_type": "execute_result",
          "data": {
            "text/plain": [
              "[[('Usain', 'NN')],\n",
              " [('Bolt', 'NN')],\n",
              " [('is', 'VBZ')],\n",
              " [('the', 'DT')],\n",
              " [('fastest', 'JJS')],\n",
              " [('runner', 'NN')],\n",
              " [('in', 'IN')],\n",
              " [('the', 'DT')],\n",
              " [('world', 'NN')]]"
            ]
          },
          "metadata": {},
          "execution_count": 19
        }
      ]
    },
    {
      "cell_type": "code",
      "source": [
        "nltk.download('tagsets')\n"
      ],
      "metadata": {
        "colab": {
          "base_uri": "https://localhost:8080/"
        },
        "id": "dMjZ35HNC_GV",
        "outputId": "1ca12554-a42f-4ac2-89ad-91ca64aa20fc"
      },
      "execution_count": null,
      "outputs": [
        {
          "output_type": "stream",
          "name": "stdout",
          "text": [
            "[nltk_data] Downloading package tagsets to /root/nltk_data...\n",
            "[nltk_data]   Unzipping help/tagsets.zip.\n"
          ]
        },
        {
          "output_type": "execute_result",
          "data": {
            "text/plain": [
              "True"
            ]
          },
          "metadata": {},
          "execution_count": 20
        }
      ]
    },
    {
      "cell_type": "code",
      "source": [
        "nltk.help.upenn_tagset()"
      ],
      "metadata": {
        "colab": {
          "base_uri": "https://localhost:8080/"
        },
        "id": "Bsfehp--DE99",
        "outputId": "f36c1f4e-d4cc-4f83-ea5f-6c0ea14fadab"
      },
      "execution_count": null,
      "outputs": [
        {
          "output_type": "stream",
          "name": "stdout",
          "text": [
            "$: dollar\n",
            "    $ -$ --$ A$ C$ HK$ M$ NZ$ S$ U.S.$ US$\n",
            "'': closing quotation mark\n",
            "    ' ''\n",
            "(: opening parenthesis\n",
            "    ( [ {\n",
            "): closing parenthesis\n",
            "    ) ] }\n",
            ",: comma\n",
            "    ,\n",
            "--: dash\n",
            "    --\n",
            ".: sentence terminator\n",
            "    . ! ?\n",
            ":: colon or ellipsis\n",
            "    : ; ...\n",
            "CC: conjunction, coordinating\n",
            "    & 'n and both but either et for less minus neither nor or plus so\n",
            "    therefore times v. versus vs. whether yet\n",
            "CD: numeral, cardinal\n",
            "    mid-1890 nine-thirty forty-two one-tenth ten million 0.5 one forty-\n",
            "    seven 1987 twenty '79 zero two 78-degrees eighty-four IX '60s .025\n",
            "    fifteen 271,124 dozen quintillion DM2,000 ...\n",
            "DT: determiner\n",
            "    all an another any both del each either every half la many much nary\n",
            "    neither no some such that the them these this those\n",
            "EX: existential there\n",
            "    there\n",
            "FW: foreign word\n",
            "    gemeinschaft hund ich jeux habeas Haementeria Herr K'ang-si vous\n",
            "    lutihaw alai je jour objets salutaris fille quibusdam pas trop Monte\n",
            "    terram fiche oui corporis ...\n",
            "IN: preposition or conjunction, subordinating\n",
            "    astride among uppon whether out inside pro despite on by throughout\n",
            "    below within for towards near behind atop around if like until below\n",
            "    next into if beside ...\n",
            "JJ: adjective or numeral, ordinal\n",
            "    third ill-mannered pre-war regrettable oiled calamitous first separable\n",
            "    ectoplasmic battery-powered participatory fourth still-to-be-named\n",
            "    multilingual multi-disciplinary ...\n",
            "JJR: adjective, comparative\n",
            "    bleaker braver breezier briefer brighter brisker broader bumper busier\n",
            "    calmer cheaper choosier cleaner clearer closer colder commoner costlier\n",
            "    cozier creamier crunchier cuter ...\n",
            "JJS: adjective, superlative\n",
            "    calmest cheapest choicest classiest cleanest clearest closest commonest\n",
            "    corniest costliest crassest creepiest crudest cutest darkest deadliest\n",
            "    dearest deepest densest dinkiest ...\n",
            "LS: list item marker\n",
            "    A A. B B. C C. D E F First G H I J K One SP-44001 SP-44002 SP-44005\n",
            "    SP-44007 Second Third Three Two * a b c d first five four one six three\n",
            "    two\n",
            "MD: modal auxiliary\n",
            "    can cannot could couldn't dare may might must need ought shall should\n",
            "    shouldn't will would\n",
            "NN: noun, common, singular or mass\n",
            "    common-carrier cabbage knuckle-duster Casino afghan shed thermostat\n",
            "    investment slide humour falloff slick wind hyena override subhumanity\n",
            "    machinist ...\n",
            "NNP: noun, proper, singular\n",
            "    Motown Venneboerger Czestochwa Ranzer Conchita Trumplane Christos\n",
            "    Oceanside Escobar Kreisler Sawyer Cougar Yvette Ervin ODI Darryl CTCA\n",
            "    Shannon A.K.C. Meltex Liverpool ...\n",
            "NNPS: noun, proper, plural\n",
            "    Americans Americas Amharas Amityvilles Amusements Anarcho-Syndicalists\n",
            "    Andalusians Andes Andruses Angels Animals Anthony Antilles Antiques\n",
            "    Apache Apaches Apocrypha ...\n",
            "NNS: noun, common, plural\n",
            "    undergraduates scotches bric-a-brac products bodyguards facets coasts\n",
            "    divestitures storehouses designs clubs fragrances averages\n",
            "    subjectivists apprehensions muses factory-jobs ...\n",
            "PDT: pre-determiner\n",
            "    all both half many quite such sure this\n",
            "POS: genitive marker\n",
            "    ' 's\n",
            "PRP: pronoun, personal\n",
            "    hers herself him himself hisself it itself me myself one oneself ours\n",
            "    ourselves ownself self she thee theirs them themselves they thou thy us\n",
            "PRP$: pronoun, possessive\n",
            "    her his mine my our ours their thy your\n",
            "RB: adverb\n",
            "    occasionally unabatingly maddeningly adventurously professedly\n",
            "    stirringly prominently technologically magisterially predominately\n",
            "    swiftly fiscally pitilessly ...\n",
            "RBR: adverb, comparative\n",
            "    further gloomier grander graver greater grimmer harder harsher\n",
            "    healthier heavier higher however larger later leaner lengthier less-\n",
            "    perfectly lesser lonelier longer louder lower more ...\n",
            "RBS: adverb, superlative\n",
            "    best biggest bluntest earliest farthest first furthest hardest\n",
            "    heartiest highest largest least less most nearest second tightest worst\n",
            "RP: particle\n",
            "    aboard about across along apart around aside at away back before behind\n",
            "    by crop down ever fast for forth from go high i.e. in into just later\n",
            "    low more off on open out over per pie raising start teeth that through\n",
            "    under unto up up-pp upon whole with you\n",
            "SYM: symbol\n",
            "    % & ' '' ''. ) ). * + ,. < = > @ A[fj] U.S U.S.S.R * ** ***\n",
            "TO: \"to\" as preposition or infinitive marker\n",
            "    to\n",
            "UH: interjection\n",
            "    Goodbye Goody Gosh Wow Jeepers Jee-sus Hubba Hey Kee-reist Oops amen\n",
            "    huh howdy uh dammit whammo shucks heck anyways whodunnit honey golly\n",
            "    man baby diddle hush sonuvabitch ...\n",
            "VB: verb, base form\n",
            "    ask assemble assess assign assume atone attention avoid bake balkanize\n",
            "    bank begin behold believe bend benefit bevel beware bless boil bomb\n",
            "    boost brace break bring broil brush build ...\n",
            "VBD: verb, past tense\n",
            "    dipped pleaded swiped regummed soaked tidied convened halted registered\n",
            "    cushioned exacted snubbed strode aimed adopted belied figgered\n",
            "    speculated wore appreciated contemplated ...\n",
            "VBG: verb, present participle or gerund\n",
            "    telegraphing stirring focusing angering judging stalling lactating\n",
            "    hankerin' alleging veering capping approaching traveling besieging\n",
            "    encrypting interrupting erasing wincing ...\n",
            "VBN: verb, past participle\n",
            "    multihulled dilapidated aerosolized chaired languished panelized used\n",
            "    experimented flourished imitated reunifed factored condensed sheared\n",
            "    unsettled primed dubbed desired ...\n",
            "VBP: verb, present tense, not 3rd person singular\n",
            "    predominate wrap resort sue twist spill cure lengthen brush terminate\n",
            "    appear tend stray glisten obtain comprise detest tease attract\n",
            "    emphasize mold postpone sever return wag ...\n",
            "VBZ: verb, present tense, 3rd person singular\n",
            "    bases reconstructs marks mixes displeases seals carps weaves snatches\n",
            "    slumps stretches authorizes smolders pictures emerges stockpiles\n",
            "    seduces fizzes uses bolsters slaps speaks pleads ...\n",
            "WDT: WH-determiner\n",
            "    that what whatever which whichever\n",
            "WP: WH-pronoun\n",
            "    that what whatever whatsoever which who whom whosoever\n",
            "WP$: WH-pronoun, possessive\n",
            "    whose\n",
            "WRB: Wh-adverb\n",
            "    how however whence whenever where whereby whereever wherein whereof why\n",
            "``: opening quotation mark\n",
            "    ` ``\n"
          ]
        }
      ]
    },
    {
      "cell_type": "markdown",
      "source": [
        "Sentiment Analysis"
      ],
      "metadata": {
        "id": "4a-3du8KDVPi"
      }
    },
    {
      "cell_type": "code",
      "source": [
        "!python -m textblob.download_corpora"
      ],
      "metadata": {
        "colab": {
          "base_uri": "https://localhost:8080/"
        },
        "id": "VQk7D4ryDtxB",
        "outputId": "983be42f-d546-45ff-ff14-47d4bc952baa"
      },
      "execution_count": null,
      "outputs": [
        {
          "output_type": "stream",
          "name": "stdout",
          "text": [
            "[nltk_data] Downloading package brown to /root/nltk_data...\n",
            "[nltk_data]   Unzipping corpora/brown.zip.\n",
            "[nltk_data] Downloading package punkt to /root/nltk_data...\n",
            "[nltk_data]   Unzipping tokenizers/punkt.zip.\n",
            "[nltk_data] Downloading package wordnet to /root/nltk_data...\n",
            "[nltk_data]   Unzipping corpora/wordnet.zip.\n",
            "[nltk_data] Downloading package averaged_perceptron_tagger to\n",
            "[nltk_data]     /root/nltk_data...\n",
            "[nltk_data]   Unzipping taggers/averaged_perceptron_tagger.zip.\n",
            "[nltk_data] Downloading package conll2000 to /root/nltk_data...\n",
            "[nltk_data]   Unzipping corpora/conll2000.zip.\n",
            "[nltk_data] Downloading package movie_reviews to /root/nltk_data...\n",
            "[nltk_data]   Unzipping corpora/movie_reviews.zip.\n",
            "Finished.\n"
          ]
        }
      ]
    },
    {
      "cell_type": "code",
      "source": [
        "from textblob import TextBlob"
      ],
      "metadata": {
        "id": "n5XlouNyD24H"
      },
      "execution_count": null,
      "outputs": []
    },
    {
      "cell_type": "code",
      "source": [
        "TextBlob(\"I love pizza\").sentiment"
      ],
      "metadata": {
        "colab": {
          "base_uri": "https://localhost:8080/"
        },
        "id": "QqUQ8I4KEKNM",
        "outputId": "cfbdc40b-d3fe-4714-f953-0f4247b03f22"
      },
      "execution_count": null,
      "outputs": [
        {
          "output_type": "execute_result",
          "data": {
            "text/plain": [
              "Sentiment(polarity=0.5, subjectivity=0.6)"
            ]
          },
          "metadata": {},
          "execution_count": 10
        }
      ]
    },
    {
      "cell_type": "code",
      "source": [
        "TextBlob(\"The weather is excellent\").sentiment"
      ],
      "metadata": {
        "colab": {
          "base_uri": "https://localhost:8080/"
        },
        "id": "KgQK0cLaERbV",
        "outputId": "f87459ac-5574-4181-85ca-2343a4a7f10d"
      },
      "execution_count": null,
      "outputs": [
        {
          "output_type": "execute_result",
          "data": {
            "text/plain": [
              "Sentiment(polarity=1.0, subjectivity=1.0)"
            ]
          },
          "metadata": {},
          "execution_count": 11
        }
      ]
    },
    {
      "cell_type": "code",
      "source": [
        "TextBlob(\"What a terrible thing to say\").sentiment"
      ],
      "metadata": {
        "colab": {
          "base_uri": "https://localhost:8080/"
        },
        "id": "cjMyProuElTo",
        "outputId": "e9a5c569-1714-40e9-fb29-5ff81e23bf0b"
      },
      "execution_count": null,
      "outputs": [
        {
          "output_type": "execute_result",
          "data": {
            "text/plain": [
              "Sentiment(polarity=-1.0, subjectivity=1.0)"
            ]
          },
          "metadata": {},
          "execution_count": 13
        }
      ]
    },
    {
      "cell_type": "markdown",
      "source": [
        "Machine Translation"
      ],
      "metadata": {
        "id": "eREv7A14FCSU"
      }
    },
    {
      "cell_type": "code",
      "source": [
        "from textblob import TextBlob\n",
        "languages = ['fr','zh-CN','hi']\n",
        "for language in languages:\n",
        " print(TextBlob(\"Who knew translation could be fun\").translate(from_lang=\"en\", to=language))"
      ],
      "metadata": {
        "colab": {
          "base_uri": "https://localhost:8080/"
        },
        "id": "UCoFCMTWEw3j",
        "outputId": "5bb6b7fe-e392-4406-9ec1-9fb23d5b3878"
      },
      "execution_count": null,
      "outputs": [
        {
          "output_type": "stream",
          "name": "stdout",
          "text": [
            "Qui savait que la traduction pourrait être amusante\n",
            "谁知道翻译可能很有趣\n",
            "कौन जानता था कि अनुवाद मजेदार हो सकता है\n"
          ]
        }
      ]
    },
    {
      "cell_type": "markdown",
      "source": [
        "Part of speech tagging using TextBlob"
      ],
      "metadata": {
        "id": "IEwXVCHbIoJP"
      }
    },
    {
      "cell_type": "code",
      "source": [
        "TextBlob(\"The Global economy is expected to grow this year\").tags"
      ],
      "metadata": {
        "colab": {
          "base_uri": "https://localhost:8080/"
        },
        "id": "4viHj23zFhwk",
        "outputId": "b9be63f2-2b32-40ee-e1d5-940a9b99ffb5"
      },
      "execution_count": null,
      "outputs": [
        {
          "output_type": "execute_result",
          "data": {
            "text/plain": [
              "[('The', 'DT'),\n",
              " ('Global', 'NNP'),\n",
              " ('economy', 'NN'),\n",
              " ('is', 'VBZ'),\n",
              " ('expected', 'VBN'),\n",
              " ('to', 'TO'),\n",
              " ('grow', 'VB'),\n",
              " ('this', 'DT'),\n",
              " ('year', 'NN')]"
            ]
          },
          "metadata": {},
          "execution_count": 18
        }
      ]
    },
    {
      "cell_type": "markdown",
      "source": [
        "Valence Aware Dictionary and sEntiment Reasoner (VADER)"
      ],
      "metadata": {
        "id": "Zar2GeKzIyBD"
      }
    },
    {
      "cell_type": "code",
      "source": [
        "from vaderSentiment.vaderSentiment import SentimentIntensityAnalyzer\n",
        "analyzer = SentimentIntensityAnalyzer()\n",
        "analyzer.polarity_scores(\"This book is very good\")"
      ],
      "metadata": {
        "colab": {
          "base_uri": "https://localhost:8080/"
        },
        "id": "lKP7I2f0I2yf",
        "outputId": "dcca66b0-e72c-4b88-c058-3210c1e44150"
      },
      "execution_count": null,
      "outputs": [
        {
          "output_type": "execute_result",
          "data": {
            "text/plain": [
              "{'compound': 0.4927, 'neg': 0.0, 'neu': 0.556, 'pos': 0.444}"
            ]
          },
          "metadata": {},
          "execution_count": 20
        }
      ]
    },
    {
      "cell_type": "code",
      "source": [
        "analyzer.polarity_scores(\"OMG! This book is very good\")"
      ],
      "metadata": {
        "colab": {
          "base_uri": "https://localhost:8080/"
        },
        "id": "OoiL-d-pJKqR",
        "outputId": "7979379d-ebb3-45f9-9f5c-dffe374c41c2"
      },
      "execution_count": null,
      "outputs": [
        {
          "output_type": "execute_result",
          "data": {
            "text/plain": [
              "{'compound': 0.54, 'neg': 0.0, 'neu': 0.589, 'pos': 0.411}"
            ]
          },
          "metadata": {},
          "execution_count": 21
        }
      ]
    },
    {
      "cell_type": "markdown",
      "source": [
        "Web Scrapping with BeautifulSoup"
      ],
      "metadata": {
        "id": "8aD13W9NJU6b"
      }
    },
    {
      "cell_type": "code",
      "source": [
        "import requests\n",
        "from bs4 import BeautifulSoup\n",
        "import pandas as pd"
      ],
      "metadata": {
        "id": "QOREpIaxJsG8"
      },
      "execution_count": null,
      "outputs": []
    },
    {
      "cell_type": "code",
      "source": [
        "url ='https://webscraper.io/test-sites/e-commerce/allinone/computers/laptops'\n",
        "request = requests.get(url)"
      ],
      "metadata": {
        "id": "JxTrg9oWJ-TQ"
      },
      "execution_count": null,
      "outputs": []
    },
    {
      "cell_type": "code",
      "source": [
        "request.text"
      ],
      "metadata": {
        "colab": {
          "base_uri": "https://localhost:8080/",
          "height": 243
        },
        "id": "vzwSruyeKLDE",
        "outputId": "a5f08e3e-3ab5-4e62-90e2-9e2974921d58"
      },
      "execution_count": null,
      "outputs": [
        {
          "output_type": "execute_result",
          "data": {
            "text/plain": [
              "'<!DOCTYPE html>\\n<html lang=\"en\">\\n<head>\\n\\n\\t\\t\\t<!-- Anti-flicker snippet (recommended)  -->\\n<style>.async-hide {\\n\\t\\topacity: 0 !important\\n\\t} </style>\\n<script>(function (a, s, y, n, c, h, i, d, e) {\\n\\t\\ts.className += \\' \\' + y;\\n\\t\\th.start = 1 * new Date;\\n\\t\\th.end = i = function () {\\n\\t\\t\\ts.className = s.className.replace(RegExp(\\' ?\\' + y), \\'\\')\\n\\t\\t};\\n\\t\\t(a[n] = a[n] || []).hide = h;\\n\\t\\tsetTimeout(function () {\\n\\t\\t\\ti();\\n\\t\\t\\th.end = null\\n\\t\\t}, c);\\n\\t\\th.timeout = c;\\n\\t})(window, document.documentElement, \\'async-hide\\', \\'dataLayer\\', 4000,\\n\\t\\t{\\'GTM-NVFPDWB\\': true});</script>\\n\\t\\n\\t<!-- Google Tag Manager -->\\n<script>(function (w, d, s, l, i) {\\n\\t\\tw[l] = w[l] || [];\\n\\t\\tw[l].push({\\n\\t\\t\\t\\'gtm.start\\':\\n\\t\\t\\t\\tnew Date().getTime(), event: \\'gtm.js\\'\\n\\t\\t});\\n\\t\\tvar f = d.getElementsByTagName(s)[0],\\n\\t\\t\\tj = d.createElement(s), dl = l != \\'dataLayer\\' ? \\'&l=\\' + l : \\'\\';\\n\\t\\tj.async = true;\\n\\t\\tj.src =\\n\\t\\t\\t\\'https://www.googletagmanager.com/gtm.js?id=\\' + i + dl;\\n\\t\\tf.parentNode.insertBefore(j, f);\\n\\t})(window, document, \\'script\\', \\'dataLayer\\', \\'GTM-NVFPDWB\\');</script>\\n<!-- End Google Tag Manager -->\\n\\t<title>Web Scraper Test Sites</title>\\n\\t<meta charset=\"utf-8\">\\n\\t<meta http-equiv=\"X-UA-Compatible\" content=\"IE=edge,chrome=1\">\\n\\n\\t<meta name=\"keywords\"\\n\\t      content=\"web scraping,Web Scraper,Chrome extension,Crawling,Cross platform scraper\"/>\\n\\t<meta name=\"description\"\\n\\t      content=\"The most popular web scraping extension. Start scraping in minutes. Automate your tasks with our Cloud Scraper. No software to download, no coding needed.\"/>\\n\\t<link rel=\"icon\" sizes=\"128x128\" href=\"/favicon.png\">\\n\\n\\t<meta name=\"viewport\" content=\"width=device-width, initial-scale=1.0\">\\n\\t\\n\\t<link rel=\"stylesheet\" href=\"/css/app.css?id=e30a09b05325a08d79dd\">\\n\\n\\t<link rel=\"canonical\" href=\"https://webscraper.io/test-sites/e-commerce/allinone/computers/laptops\">\\n\\t<link rel=\"apple-touch-icon\" href=\"/img/logo-icon.png\">\\n\\n\\t\\t<script defer src=\"/js/app.js?id=1c1cafc4a642f71eb469\"></script>\\n\\n\\t\\n</head>\\n<body>\\n<!-- Google Tag Manager (noscript) -->\\n<noscript>\\n\\t<iframe src=\"https://www.googletagmanager.com/ns.html?id=GTM-NVFPDWB\"\\n\\t        height=\"0\" width=\"0\" style=\"display:none;visibility:hidden\"></iframe>\\n</noscript>\\n<!-- End Google Tag Manager (noscript) -->\\n<header role=\"banner\" class=\"navbar navbar-fixed-top navbar-static\">\\n\\t<div class=\"container\">\\n\\n\\t\\t<div class=\"navbar-header\">\\n\\n\\t\\t\\t<a data-toggle=\"collapse-side\" data-target=\".side-collapse\" data-target-2=\".side-collapse-container\">\\n\\t\\t\\t\\t<button type=\"button\" class=\"navbar-toggle pull-right collapsed\" data-toggle=\"collapse\"\\n\\t\\t\\t\\t        data-target=\"#navbar\" data-target-2=\".side-collapse-container\" data-target-3=\".side-collapse\"\\n\\t\\t\\t\\t        aria-expanded=\"false\" aria-controls=\"navbar\">\\n\\n\\t\\t\\t\\t\\t<span class=\"sr-only\">Toggle navigation</span>\\n\\t\\t\\t\\t\\t<span class=\"icon-bar top-bar\"></span>\\n\\t\\t\\t\\t\\t<span class=\"icon-bar middle-bar\"></span>\\n\\t\\t\\t\\t\\t<span class=\"icon-bar bottom-bar\"></span>\\n\\n\\t\\t\\t\\t</button>\\n\\t\\t\\t</a>\\n\\t\\t\\t<div class=\"navbar-brand\">\\n\\t\\t\\t\\t<a href=\"/\"><img src=\"/img/logo_white.svg\" alt=\"Web Scraper\"></a>\\n\\t\\t\\t</div>\\n\\t\\t</div>\\n\\n\\t\\t<div class=\"side-collapse in\">\\n\\t\\t\\t<nav id=\"navbar\" role=\"navigation\" class=\"navbar-collapse collapse\">\\n\\t\\t\\t\\t<ul class=\"nav navbar-nav navbar-right\">\\n\\t\\t\\t\\t\\t<li class=\"hidden\">\\n\\t\\t\\t\\t\\t\\t<a href=\"#page-top\"></a>\\n\\t\\t\\t\\t\\t</li>\\n\\t\\t\\t\\t\\t\\n\\t\\t\\t\\t\\t\\n\\t\\t\\t\\t\\t\\n\\t\\t\\t\\t\\t\\n\\t\\t\\t\\t\\t\\n\\t\\t\\t\\t\\t\\n\\t\\t\\t\\t\\t\\n\\t\\t\\t\\t\\t<li>\\n\\t\\t\\t\\t\\t\\t<a href=\"/\" class=\"menuitm\">\\n\\t\\t\\t\\t\\t\\t\\t<p>Web Scraper</p>\\n\\t\\t\\t\\t\\t\\t\\t<div class=\"crta\"></div>\\n\\t\\t\\t\\t\\t\\t</a>\\n\\t\\t\\t\\t\\t</li>\\n\\t\\t\\t\\t\\t<li>\\n\\t\\t\\t\\t\\t\\t<a href=\"/cloud-scraper\" class=\"menuitm\">\\n\\t\\t\\t\\t\\t\\t\\t<p>Cloud Scraper</p>\\n\\t\\t\\t\\t\\t\\t\\t<div class=\"crta\"></div>\\n\\t\\t\\t\\t\\t\\t</a>\\n\\t\\t\\t\\t\\t</li>\\n\\t\\t\\t\\t\\t<li>\\n\\t\\t\\t\\t\\t\\t<a href=\"/pricing\" class=\"menuitm\">\\n\\t\\t\\t\\t\\t\\t\\t<p>Pricing</p>\\n\\t\\t\\t\\t\\t\\t\\t<div class=\"crta\"></div>\\n\\t\\t\\t\\t\\t\\t</a>\\n\\t\\t\\t\\t\\t</li>\\n\\t\\t\\t\\t\\t\\n\\t\\t\\t\\t\\t\\n\\t\\t\\t\\t\\t\\n\\t\\t\\t\\t\\t\\n\\t\\t\\t\\t\\t\\n\\t\\t\\t\\t\\t\\n\\t\\t\\t\\t\\t\\n\\t\\t\\t\\t\\t\\n\\t\\t\\t\\t\\t\\n\\t\\t\\t\\t\\t\\n\\t\\t\\t\\t\\t<li class=\"dropdown\">\\n\\t\\t\\t\\t\\t\\t<a href=\"#section3\" class=\"menuitm dropdown-toggle\" data-toggle=\"dropdown\">\\n\\t\\t\\t\\t\\t\\t\\t<p>Learn</p>\\n\\t\\t\\t\\t\\t\\t\\t<div class=\"crta\"></div>\\n\\t\\t\\t\\t\\t\\t</a>\\n\\t\\t\\t\\t\\t\\t<ul class=\"dropdown-menu\">\\n\\t\\t\\t\\t\\t\\t\\t<li>\\n\\t\\t\\t\\t\\t\\t\\t\\t<a href=\"/documentation\">Documentation</a>\\n\\t\\t\\t\\t\\t\\t\\t</li>\\n\\t\\t\\t\\t\\t\\t\\t<li>\\n\\t\\t\\t\\t\\t\\t\\t\\t<a href=\"/tutorials\">Video Tutorials</a>\\n\\t\\t\\t\\t\\t\\t\\t</li>\\n\\t\\t\\t\\t\\t\\t\\t<li>\\n\\t\\t\\t\\t\\t\\t\\t\\t<a href=\"/how-to-videos\">How to</a>\\n\\t\\t\\t\\t\\t\\t\\t</li>\\n\\t\\t\\t\\t\\t\\t\\t<li>\\n\\t\\t\\t\\t\\t\\t\\t\\t<a href=\"/test-sites\">Test Sites</a>\\n\\t\\t\\t\\t\\t\\t\\t</li>\\n\\t\\t\\t\\t\\t\\t\\t<li>\\n\\t\\t\\t\\t\\t\\t\\t\\t<a href=\"https://forum.webscraper.io/\" target=\"_blank\" rel=\"noopener\">Forum</a>\\n\\t\\t\\t\\t\\t\\t\\t</li>\\n\\t\\t\\t\\t\\t\\t</ul>\\n\\t\\t\\t\\t\\t</li>\\n\\t\\t\\t\\t\\t<li>\\n\\t\\t\\t\\t\\t\\t<a target=\"_blank\" href=\"https://chrome.google.com/webstore/detail/web-scraper/jnhgnonknehpejjnehehllkliplmbmhn?hl=en\" class=\"btn-menu1 install-extension\" rel=\"noopener\">Install</a>\\n\\t\\t\\t\\t\\t</li>\\n\\t\\t\\t\\t\\t<li>\\n\\t\\t\\t\\t\\t\\t<a href=\"https://cloud.webscraper.io/\" class=\"btn-menu2\">Login</a>\\n\\t\\t\\t\\t\\t</li>\\n\\t\\t\\t\\t</ul>\\n\\t\\t\\t</nav>\\n\\t\\t</div>\\n\\t</div>\\n</header>\\n\\n<div class=\"wrapper\">\\n\\t\\t<div class=\"formenu-here container-fluid\">\\n\\n\\t</div>\\n\\t<div class=\"container-fluid blog-hero\">\\n\\t\\t<div class=\"container\">\\n\\t\\t\\t<div class=\"row\">\\n\\t\\t\\t\\t<div class=\"col-md-12\">\\n\\t\\t\\t\\t\\t<h1>Test Sites</h1>\\n\\t\\t\\t\\t</div>\\n\\t\\t\\t</div>\\n\\t\\t</div>\\n\\t</div>\\n\\n\\t<div class=\"container test-site\">\\n\\t\\t<div class=\"row\">\\n\\t\\t\\t<div class=\"col-md-3 sidebar\">\\n\\t\\t\\t\\t\\t<div class=\"navbar-default sidebar\" role=\"navigation\">\\n\\t<div class=\"sidebar-nav navbar-collapse\">\\n\\t\\t<ul class=\"nav\" id=\"side-menu\">\\n\\n\\t\\t\\t<li >\\n\\t\\t\\t\\t<a href=\"/test-sites/e-commerce/allinone\">Home</a>\\n\\t\\t\\t</li>\\n\\n\\t\\t\\t\\t\\t\\t<li  class=\"active\" >\\n\\t\\t\\t\\t<a href=\"/test-sites/e-commerce/allinone/computers\" class=\"category-link \">\\n\\t\\t\\t\\t\\tComputers\\n\\t\\t\\t\\t\\t<span class=\"fa arrow\"></span>\\n\\t\\t\\t\\t</a>\\n\\n\\t\\t\\t\\t\\t\\t\\t\\t<ul class=\"nav nav-second-level collapse in\">\\n\\t\\t\\t\\t\\t\\t\\t\\t\\t\\t<li>\\n\\t\\t\\t\\t\\t\\t<a href=\"/test-sites/e-commerce/allinone/computers/laptops\" class=\"subcategory-link  active \">\\n\\t\\t\\t\\t\\t\\t\\tLaptops\\n\\t\\t\\t\\t\\t\\t</a>\\n\\t\\t\\t\\t\\t</li>\\n\\t\\t\\t\\t\\t\\t\\t\\t\\t\\t<li>\\n\\t\\t\\t\\t\\t\\t<a href=\"/test-sites/e-commerce/allinone/computers/tablets\" class=\"subcategory-link \">\\n\\t\\t\\t\\t\\t\\t\\tTablets\\n\\t\\t\\t\\t\\t\\t</a>\\n\\t\\t\\t\\t\\t</li>\\n\\t\\t\\t\\t\\t\\t\\t\\t\\t</ul>\\n\\t\\t\\t\\t\\t\\t\\t</li>\\n\\t\\t\\t\\t\\t\\t<li >\\n\\t\\t\\t\\t<a href=\"/test-sites/e-commerce/allinone/phones\" class=\"category-link \">\\n\\t\\t\\t\\t\\tPhones\\n\\t\\t\\t\\t\\t<span class=\"fa arrow\"></span>\\n\\t\\t\\t\\t</a>\\n\\n\\t\\t\\t\\t\\t\\t\\t</li>\\n\\t\\t\\t\\t\\t</ul>\\n\\t</div>\\n</div>\\n\\n\\t\\t\\t</div>\\n\\t\\t\\t<div class=\"col-md-9\">\\n\\t\\t\\t\\t\\t<h1 class=\"page-header\">Computers / Laptops</h1>\\n\\n<div class=\"row\">\\n\\t\\t\\t<div class=\"col-sm-4 col-lg-4 col-md-4\">\\n\\t<div class=\"thumbnail\">\\n\\t\\t<img class=\"img-responsive\" alt=\"item\"\\n\\t\\t     src=\"/images/test-sites/e-commerce/items/cart2.png\">\\n\\t\\t<div class=\"caption\">\\n\\t\\t\\t<h4 class=\"pull-right price\">$295.99</h4>\\n\\t\\t\\t<h4>\\n\\t\\t\\t\\t\\t\\t\\t\\t\\t<a href=\"/test-sites/e-commerce/allinone/product/545\" class=\"title\" title=\"Asus VivoBook X441NA-GA190\">Asus VivoBook X4...</a>\\n\\t\\t\\t\\t\\t\\t\\t</h4>\\n\\t\\t\\t<p class=\"description\">Asus VivoBook X441NA-GA190 Chocolate Black, 14&quot;, Celeron N3450, 4GB, 128GB SSD, Endless OS, ENG kbd</p>\\n\\n\\t\\t</div>\\n\\t\\t<div class=\"ratings\">\\n\\t\\t\\t<p class=\"pull-right\">14 reviews</p>\\n\\t\\t\\t<p data-rating=\"3\">\\n\\t\\t\\t\\t\\t\\t\\t\\t<span class=\"glyphicon glyphicon-star\"></span>\\n\\t\\t\\t\\t\\t\\t\\t\\t<span class=\"glyphicon glyphicon-star\"></span>\\n\\t\\t\\t\\t\\t\\t\\t\\t<span class=\"glyphicon glyphicon-star\"></span>\\n\\t\\t\\t\\t\\t\\t\\t</p>\\n\\t\\t</div>\\n\\t</div>\\n</div>\\n\\t\\t\\t<div class=\"col-sm-4 col-lg-4 col-md-4\">\\n\\t<div class=\"thumbnail\">\\n\\t\\t<img class=\"img-responsive\" alt=\"item\"\\n\\t\\t     src=\"/images/test-sites/e-commerce/items/cart2.png\">\\n\\t\\t<div class=\"caption\">\\n\\t\\t\\t<h4 class=\"pull-right price\">$299.00</h4>\\n\\t\\t\\t<h4>\\n\\t\\t\\t\\t\\t\\t\\t\\t\\t<a href=\"/test-sites/e-commerce/allinone/product/546\" class=\"title\" title=\"Prestigio SmartBook 133S Dark Grey\">Prestigio SmartB...</a>\\n\\t\\t\\t\\t\\t\\t\\t</h4>\\n\\t\\t\\t<p class=\"description\">Prestigio SmartBook 133S Dark Grey, 13.3&quot; FHD IPS, Celeron N3350 1.1GHz, 4GB, 32GB, Windows 10 Pro + Office 365 1 gadam</p>\\n\\n\\t\\t</div>\\n\\t\\t<div class=\"ratings\">\\n\\t\\t\\t<p class=\"pull-right\">8 reviews</p>\\n\\t\\t\\t<p data-rating=\"2\">\\n\\t\\t\\t\\t\\t\\t\\t\\t<span class=\"glyphicon glyphicon-star\"></span>\\n\\t\\t\\t\\t\\t\\t\\t\\t<span class=\"glyphicon glyphicon-star\"></span>\\n\\t\\t\\t\\t\\t\\t\\t</p>\\n\\t\\t</div>\\n\\t</div>\\n</div>\\n\\t\\t\\t<div class=\"col-sm-4 col-lg-4 col-md-4\">\\n\\t<div class=\"thumbnail\">\\n\\t\\t<img class=\"img-responsive\" alt=\"item\"\\n\\t\\t     src=\"/images/test-sites/e-commerce/items/cart2.png\">\\n\\t\\t<div class=\"caption\">\\n\\t\\t\\t<h4 class=\"pull-right price\">$299.00</h4>\\n\\t\\t\\t<h4>\\n\\t\\t\\t\\t\\t\\t\\t\\t\\t<a href=\"/test-sites/e-commerce/allinone/product/547\" class=\"title\" title=\"Prestigio SmartBook 133S Gold\">Prestigio SmartB...</a>\\n\\t\\t\\t\\t\\t\\t\\t</h4>\\n\\t\\t\\t<p class=\"description\">Prestigio SmartBook 133S Gold, 13.3&quot; FHD IPS, Celeron N3350 1.1GHz, 4GB, 32GB, Windows 10 Pro + Office 365 1 gadam</p>\\n\\n\\t\\t</div>\\n\\t\\t<div class=\"ratings\">\\n\\t\\t\\t<p class=\"pull-right\">12 reviews</p>\\n\\t\\t\\t<p data-rating=\"4\">\\n\\t\\t\\t\\t\\t\\t\\t\\t<span class=\"glyphicon glyphicon-star\"></span>\\n\\t\\t\\t\\t\\t\\t\\t\\t<span class=\"glyphicon glyphicon-star\"></span>\\n\\t\\t\\t\\t\\t\\t\\t\\t<span class=\"glyphicon glyphicon-star\"></span>\\n\\t\\t\\t\\t\\t\\t\\t\\t<span class=\"glyphicon glyphicon-star\"></span>\\n\\t\\t\\t\\t\\t\\t\\t</p>\\n\\t\\t</div>\\n\\t</div>\\n</div>\\n\\t\\t\\t<div class=\"col-sm-4 col-lg-4 col-md-4\">\\n\\t<div class=\"thumbnail\">\\n\\t\\t<img class=\"img-responsive\" alt=\"item\"\\n\\t\\t     src=\"/images/test-sites/e-commerce/items/cart2.png\">\\n\\t\\t<div class=\"caption\">\\n\\t\\t\\t<h4 class=\"pull-right price\">$306.99</h4>\\n\\t\\t\\t<h4>\\n\\t\\t\\t\\t\\t\\t\\t\\t\\t<a href=\"/test-sites/e-commerce/allinone/product/517\" class=\"title\" title=\"Aspire E1-510\">Aspire E1-510</a>\\n\\t\\t\\t\\t\\t\\t\\t</h4>\\n\\t\\t\\t<p class=\"description\">15.6&quot;, Pentium N3520 2.16GHz, 4GB, 500GB, Linux</p>\\n\\n\\t\\t</div>\\n\\t\\t<div class=\"ratings\">\\n\\t\\t\\t<p class=\"pull-right\">2 reviews</p>\\n\\t\\t\\t<p data-rating=\"3\">\\n\\t\\t\\t\\t\\t\\t\\t\\t<span class=\"glyphicon glyphicon-star\"></span>\\n\\t\\t\\t\\t\\t\\t\\t\\t<span class=\"glyphicon glyphicon-star\"></span>\\n\\t\\t\\t\\t\\t\\t\\t\\t<span class=\"glyphicon glyphicon-star\"></span>\\n\\t\\t\\t\\t\\t\\t\\t</p>\\n\\t\\t</div>\\n\\t</div>\\n</div>\\n\\t\\t\\t<div class=\"col-sm-4 col-lg-4 col-md-4\">\\n\\t<div class=\"thumbnail\">\\n\\t\\t<img class=\"img-responsive\" alt=\"item\"\\n\\t\\t     src=\"/images/test-sites/e-commerce/items/cart2.png\">\\n\\t\\t<div class=\"caption\">\\n\\t\\t\\t<h4 class=\"pull-right price\">$321.94</h4>\\n\\t\\t\\t<h4>\\n\\t\\t\\t\\t\\t\\t\\t\\t\\t<a href=\"/test-sites/e-commerce/allinone/product/548\" class=\"title\" title=\"Lenovo V110-15IAP\">Lenovo V110-15IA...</a>\\n\\t\\t\\t\\t\\t\\t\\t</h4>\\n\\t\\t\\t<p class=\"description\">Lenovo V110-15IAP, 15.6&quot; HD, Celeron N3350 1.1GHz, 4GB, 128GB SSD, Windows 10 Home</p>\\n\\n\\t\\t</div>\\n\\t\\t<div class=\"ratings\">\\n\\t\\t\\t<p class=\"pull-right\">5 reviews</p>\\n\\t\\t\\t<p data-rating=\"3\">\\n\\t\\t\\t\\t\\t\\t\\t\\t<span class=\"glyphicon glyphicon-star\"></span>\\n\\t\\t\\t\\t\\t\\t\\t\\t<span class=\"glyphicon glyphicon-star\"></span>\\n\\t\\t\\t\\t\\t\\t\\t\\t<span class=\"glyphicon glyphicon-star\"></span>\\n\\t\\t\\t\\t\\t\\t\\t</p>\\n\\t\\t</div>\\n\\t</div>\\n</div>\\n\\t\\t\\t<div class=\"col-sm-4 col-lg-4 col-md-4\">\\n\\t<div class=\"thumbnail\">\\n\\t\\t<img class=\"img-responsive\" alt=\"item\"\\n\\t\\t     src=\"/images/test-sites/e-commerce/items/cart2.png\">\\n\\t\\t<div class=\"caption\">\\n\\t\\t\\t<h4 class=\"pull-right price\">$356.49</h4>\\n\\t\\t\\t<h4>\\n\\t\\t\\t\\t\\t\\t\\t\\t\\t<a href=\"/test-sites/e-commerce/allinone/product/549\" class=\"title\" title=\"Lenovo V110-15IAP\">Lenovo V110-15IA...</a>\\n\\t\\t\\t\\t\\t\\t\\t</h4>\\n\\t\\t\\t<p class=\"description\">Asus VivoBook 15 X540NA-GQ008T Chocolate Black, 15.6&quot; HD, Pentium N4200, 4GB, 500GB, Windows 10 Home, En kbd</p>\\n\\n\\t\\t</div>\\n\\t\\t<div class=\"ratings\">\\n\\t\\t\\t<p class=\"pull-right\">6 reviews</p>\\n\\t\\t\\t<p data-rating=\"2\">\\n\\t\\t\\t\\t\\t\\t\\t\\t<span class=\"glyphicon glyphicon-star\"></span>\\n\\t\\t\\t\\t\\t\\t\\t\\t<span class=\"glyphicon glyphicon-star\"></span>\\n\\t\\t\\t\\t\\t\\t\\t</p>\\n\\t\\t</div>\\n\\t</div>\\n</div>\\n\\t\\t\\t<div class=\"col-sm-4 col-lg-4 col-md-4\">\\n\\t<div class=\"thumbnail\">\\n\\t\\t<img class=\"img-responsive\" alt=\"item\"\\n\\t\\t     src=\"/images/test-sites/e-commerce/items/cart2.png\">\\n\\t\\t<div class=\"caption\">\\n\\t\\t\\t<h4 class=\"pull-right price\">$364.46</h4>\\n\\t\\t\\t<h4>\\n\\t\\t\\t\\t\\t\\t\\t\\t\\t<a href=\"/test-sites/e-commerce/allinone/product/550\" class=\"title\" title=\"Hewlett Packard 250 G6 Dark Ash Silver\">Hewlett Packard...</a>\\n\\t\\t\\t\\t\\t\\t\\t</h4>\\n\\t\\t\\t<p class=\"description\">Hewlett Packard 250 G6 Dark Ash Silver, 15.6&quot; HD, Celeron N3060 1.6GHz, 4GB, 128GB SSD, DOS</p>\\n\\n\\t\\t</div>\\n\\t\\t<div class=\"ratings\">\\n\\t\\t\\t<p class=\"pull-right\">12 reviews</p>\\n\\t\\t\\t<p data-rating=\"1\">\\n\\t\\t\\t\\t\\t\\t\\t\\t<span class=\"glyphicon glyphicon-star\"></span>\\n\\t\\t\\t\\t\\t\\t\\t</p>\\n\\t\\t</div>\\n\\t</div>\\n</div>\\n\\t\\t\\t<div class=\"col-sm-4 col-lg-4 col-md-4\">\\n\\t<div class=\"thumbnail\">\\n\\t\\t<img class=\"img-responsive\" alt=\"item\"\\n\\t\\t     src=\"/images/test-sites/e-commerce/items/cart2.png\">\\n\\t\\t<div class=\"caption\">\\n\\t\\t\\t<h4 class=\"pull-right price\">$372.70</h4>\\n\\t\\t\\t<h4>\\n\\t\\t\\t\\t\\t\\t\\t\\t\\t<a href=\"/test-sites/e-commerce/allinone/product/551\" class=\"title\" title=\"Acer Aspire 3 A315-31 Black\">Acer Aspire 3 A3...</a>\\n\\t\\t\\t\\t\\t\\t\\t</h4>\\n\\t\\t\\t<p class=\"description\">Acer Aspire 3 A315-31 Black, 15.6&quot; HD, Celeron N3350 1.1GHz, 4GB, 128GB SSD, Windows 10 Home</p>\\n\\n\\t\\t</div>\\n\\t\\t<div class=\"ratings\">\\n\\t\\t\\t<p class=\"pull-right\">2 reviews</p>\\n\\t\\t\\t<p data-rating=\"2\">\\n\\t\\t\\t\\t\\t\\t\\t\\t<span class=\"glyphicon glyphicon-star\"></span>\\n\\t\\t\\t\\t\\t\\t\\t\\t<span class=\"glyphicon glyphicon-star\"></span>\\n\\t\\t\\t\\t\\t\\t\\t</p>\\n\\t\\t</div>\\n\\t</div>\\n</div>\\n\\t\\t\\t<div class=\"col-sm-4 col-lg-4 col-md-4\">\\n\\t<div class=\"thumbnail\">\\n\\t\\t<img class=\"img-responsive\" alt=\"item\"\\n\\t\\t     src=\"/images/test-sites/e-commerce/items/cart2.png\">\\n\\t\\t<div class=\"caption\">\\n\\t\\t\\t<h4 class=\"pull-right price\">$379.94</h4>\\n\\t\\t\\t<h4>\\n\\t\\t\\t\\t\\t\\t\\t\\t\\t<a href=\"/test-sites/e-commerce/allinone/product/552\" class=\"title\" title=\"Acer Aspire A315-31-C33J\">Acer Aspire A315...</a>\\n\\t\\t\\t\\t\\t\\t\\t</h4>\\n\\t\\t\\t<p class=\"description\">Acer Aspire A315-31-C33J Black 15.6&quot;, HD, Celeron N3350, 4GB DDR3L, 128GB, Windows 10 Home, ENG</p>\\n\\n\\t\\t</div>\\n\\t\\t<div class=\"ratings\">\\n\\t\\t\\t<p class=\"pull-right\">0 reviews</p>\\n\\t\\t\\t<p data-rating=\"2\">\\n\\t\\t\\t\\t\\t\\t\\t\\t<span class=\"glyphicon glyphicon-star\"></span>\\n\\t\\t\\t\\t\\t\\t\\t\\t<span class=\"glyphicon glyphicon-star\"></span>\\n\\t\\t\\t\\t\\t\\t\\t</p>\\n\\t\\t</div>\\n\\t</div>\\n</div>\\n\\t\\t\\t<div class=\"col-sm-4 col-lg-4 col-md-4\">\\n\\t<div class=\"thumbnail\">\\n\\t\\t<img class=\"img-responsive\" alt=\"item\"\\n\\t\\t     src=\"/images/test-sites/e-commerce/items/cart2.png\">\\n\\t\\t<div class=\"caption\">\\n\\t\\t\\t<h4 class=\"pull-right price\">$379.95</h4>\\n\\t\\t\\t<h4>\\n\\t\\t\\t\\t\\t\\t\\t\\t\\t<a href=\"/test-sites/e-commerce/allinone/product/553\" class=\"title\" title=\"Acer Aspire ES1-572 Black\">Acer Aspire ES1-...</a>\\n\\t\\t\\t\\t\\t\\t\\t</h4>\\n\\t\\t\\t<p class=\"description\">Acer Aspire ES1-572 Black, 15.6&quot; HD, Core i3-6006U, 4GB, 128GB SSD, Linux</p>\\n\\n\\t\\t</div>\\n\\t\\t<div class=\"ratings\">\\n\\t\\t\\t<p class=\"pull-right\">9 reviews</p>\\n\\t\\t\\t<p data-rating=\"4\">\\n\\t\\t\\t\\t\\t\\t\\t\\t<span class=\"glyphicon glyphicon-star\"></span>\\n\\t\\t\\t\\t\\t\\t\\t\\t<span class=\"glyphicon glyphicon-star\"></span>\\n\\t\\t\\t\\t\\t\\t\\t\\t<span class=\"glyphicon glyphicon-star\"></span>\\n\\t\\t\\t\\t\\t\\t\\t\\t<span class=\"glyphicon glyphicon-star\"></span>\\n\\t\\t\\t\\t\\t\\t\\t</p>\\n\\t\\t</div>\\n\\t</div>\\n</div>\\n\\t\\t\\t<div class=\"col-sm-4 col-lg-4 col-md-4\">\\n\\t<div class=\"thumbnail\">\\n\\t\\t<img class=\"img-responsive\" alt=\"item\"\\n\\t\\t     src=\"/images/test-sites/e-commerce/items/cart2.png\">\\n\\t\\t<div class=\"caption\">\\n\\t\\t\\t<h4 class=\"pull-right price\">$391.48</h4>\\n\\t\\t\\t<h4>\\n\\t\\t\\t\\t\\t\\t\\t\\t\\t<a href=\"/test-sites/e-commerce/allinone/product/554\" class=\"title\" title=\"Acer Aspire 3 A315-31 Black\">Acer Aspire 3 A3...</a>\\n\\t\\t\\t\\t\\t\\t\\t</h4>\\n\\t\\t\\t<p class=\"description\">Acer Aspire 3 A315-31 Black, 15.6&quot; HD, Pentium N4200 1.1GHz, 4GB, 128GB SSD, Windows 10 Home</p>\\n\\n\\t\\t</div>\\n\\t\\t<div class=\"ratings\">\\n\\t\\t\\t<p class=\"pull-right\">10 reviews</p>\\n\\t\\t\\t<p data-rating=\"4\">\\n\\t\\t\\t\\t\\t\\t\\t\\t<span class=\"glyphicon glyphicon-star\"></span>\\n\\t\\t\\t\\t\\t\\t\\t\\t<span class=\"glyphicon glyphicon-star\"></span>\\n\\t\\t\\t\\t\\t\\t\\t\\t<span class=\"glyphicon glyphicon-star\"></span>\\n\\t\\t\\t\\t\\t\\t\\t\\t<span class=\"glyphicon glyphicon-star\"></span>\\n\\t\\t\\t\\t\\t\\t\\t</p>\\n\\t\\t</div>\\n\\t</div>\\n</div>\\n\\t\\t\\t<div class=\"col-sm-4 col-lg-4 col-md-4\">\\n\\t<div class=\"thumbnail\">\\n\\t\\t<img class=\"img-responsive\" alt=\"item\"\\n\\t\\t     src=\"/images/test-sites/e-commerce/items/cart2.png\">\\n\\t\\t<div class=\"caption\">\\n\\t\\t\\t<h4 class=\"pull-right price\">$393.88</h4>\\n\\t\\t\\t<h4>\\n\\t\\t\\t\\t\\t\\t\\t\\t\\t<a href=\"/test-sites/e-commerce/allinone/product/555\" class=\"title\" title=\"Acer Aspire 3 A315-21\">Acer Aspire 3 A3...</a>\\n\\t\\t\\t\\t\\t\\t\\t</h4>\\n\\t\\t\\t<p class=\"description\">Acer Aspire 3 A315-21, 15.6&quot;, AMD A4-9120. 4GB. 128GB SSD, Linux</p>\\n\\n\\t\\t</div>\\n\\t\\t<div class=\"ratings\">\\n\\t\\t\\t<p class=\"pull-right\">9 reviews</p>\\n\\t\\t\\t<p data-rating=\"3\">\\n\\t\\t\\t\\t\\t\\t\\t\\t<span class=\"glyphicon glyphicon-star\"></span>\\n\\t\\t\\t\\t\\t\\t\\t\\t<span class=\"glyphicon glyphicon-star\"></span>\\n\\t\\t\\t\\t\\t\\t\\t\\t<span class=\"glyphicon glyphicon-star\"></span>\\n\\t\\t\\t\\t\\t\\t\\t</p>\\n\\t\\t</div>\\n\\t</div>\\n</div>\\n\\t\\t\\t<div class=\"col-sm-4 col-lg-4 col-md-4\">\\n\\t<div class=\"thumbnail\">\\n\\t\\t<img class=\"img-responsive\" alt=\"item\"\\n\\t\\t     src=\"/images/test-sites/e-commerce/items/cart2.png\">\\n\\t\\t<div class=\"caption\">\\n\\t\\t\\t<h4 class=\"pull-right price\">$399.00</h4>\\n\\t\\t\\t<h4>\\n\\t\\t\\t\\t\\t\\t\\t\\t\\t<a href=\"/test-sites/e-commerce/allinone/product/530\" class=\"title\" title=\"Asus VivoBook Max\">Asus VivoBook Ma...</a>\\n\\t\\t\\t\\t\\t\\t\\t</h4>\\n\\t\\t\\t<p class=\"description\">Asus VivoBook Max X541NA-GQ041 Black Chocolate, 15.6&quot; HD, Pentium N4200 1.1GHz, 4GB, 500GB, Windows 10 Home</p>\\n\\n\\t\\t</div>\\n\\t\\t<div class=\"ratings\">\\n\\t\\t\\t<p class=\"pull-right\">4 reviews</p>\\n\\t\\t\\t<p data-rating=\"1\">\\n\\t\\t\\t\\t\\t\\t\\t\\t<span class=\"glyphicon glyphicon-star\"></span>\\n\\t\\t\\t\\t\\t\\t\\t</p>\\n\\t\\t</div>\\n\\t</div>\\n</div>\\n\\t\\t\\t<div class=\"col-sm-4 col-lg-4 col-md-4\">\\n\\t<div class=\"thumbnail\">\\n\\t\\t<img class=\"img-responsive\" alt=\"item\"\\n\\t\\t     src=\"/images/test-sites/e-commerce/items/cart2.png\">\\n\\t\\t<div class=\"caption\">\\n\\t\\t\\t<h4 class=\"pull-right price\">$399.99</h4>\\n\\t\\t\\t<h4>\\n\\t\\t\\t\\t\\t\\t\\t\\t\\t<a href=\"/test-sites/e-commerce/allinone/product/556\" class=\"title\" title=\"Asus VivoBook E502NA-GO022T Dark Blue\">Asus VivoBook E5...</a>\\n\\t\\t\\t\\t\\t\\t\\t</h4>\\n\\t\\t\\t<p class=\"description\">Asus VivoBook E502NA-GO022T Dark Blue, 15.6&quot; HD, Pentium N4200 1.1GHz, 4GB, 128GB SSD, Windows 10 Home, En/Ru kbd</p>\\n\\n\\t\\t</div>\\n\\t\\t<div class=\"ratings\">\\n\\t\\t\\t<p class=\"pull-right\">3 reviews</p>\\n\\t\\t\\t<p data-rating=\"4\">\\n\\t\\t\\t\\t\\t\\t\\t\\t<span class=\"glyphicon glyphicon-star\"></span>\\n\\t\\t\\t\\t\\t\\t\\t\\t<span class=\"glyphicon glyphicon-star\"></span>\\n\\t\\t\\t\\t\\t\\t\\t\\t<span class=\"glyphicon glyphicon-star\"></span>\\n\\t\\t\\t\\t\\t\\t\\t\\t<span class=\"glyphicon glyphicon-star\"></span>\\n\\t\\t\\t\\t\\t\\t\\t</p>\\n\\t\\t</div>\\n\\t</div>\\n</div>\\n\\t\\t\\t<div class=\"col-sm-4 col-lg-4 col-md-4\">\\n\\t<div class=\"thumbnail\">\\n\\t\\t<img class=\"img-responsive\" alt=\"item\"\\n\\t\\t     src=\"/images/test-sites/e-commerce/items/cart2.png\">\\n\\t\\t<div class=\"caption\">\\n\\t\\t\\t<h4 class=\"pull-right price\">$404.23</h4>\\n\\t\\t\\t<h4>\\n\\t\\t\\t\\t\\t\\t\\t\\t\\t<a href=\"/test-sites/e-commerce/allinone/product/557\" class=\"title\" title=\"Lenovo ThinkPad E31-80\">Lenovo ThinkPad...</a>\\n\\t\\t\\t\\t\\t\\t\\t</h4>\\n\\t\\t\\t<p class=\"description\">Lenovo ThinkPad E31-80, 13.3&quot; HD, Celeron 3855U 1.6GHz, 4GB, 128GB SSD, Windows 10 Home</p>\\n\\n\\t\\t</div>\\n\\t\\t<div class=\"ratings\">\\n\\t\\t\\t<p class=\"pull-right\">12 reviews</p>\\n\\t\\t\\t<p data-rating=\"1\">\\n\\t\\t\\t\\t\\t\\t\\t\\t<span class=\"glyphicon glyphicon-star\"></span>\\n\\t\\t\\t\\t\\t\\t\\t</p>\\n\\t\\t</div>\\n\\t</div>\\n</div>\\n\\t\\t\\t<div class=\"col-sm-4 col-lg-4 col-md-4\">\\n\\t<div class=\"thumbnail\">\\n\\t\\t<img class=\"img-responsive\" alt=\"item\"\\n\\t\\t     src=\"/images/test-sites/e-commerce/items/cart2.png\">\\n\\t\\t<div class=\"caption\">\\n\\t\\t\\t<h4 class=\"pull-right price\">$408.98</h4>\\n\\t\\t\\t<h4>\\n\\t\\t\\t\\t\\t\\t\\t\\t\\t<a href=\"/test-sites/e-commerce/allinone/product/558\" class=\"title\" title=\"Acer Aspire 3 A315-31 Black\">Acer Aspire 3 A3...</a>\\n\\t\\t\\t\\t\\t\\t\\t</h4>\\n\\t\\t\\t<p class=\"description\">Acer Aspire 3 A315-31 Black, 15.6&quot; HD, Pentium N4200 1.1GHz, 4GB, 128GB SSD, Windows 10 Home</p>\\n\\n\\t\\t</div>\\n\\t\\t<div class=\"ratings\">\\n\\t\\t\\t<p class=\"pull-right\">10 reviews</p>\\n\\t\\t\\t<p data-rating=\"4\">\\n\\t\\t\\t\\t\\t\\t\\t\\t<span class=\"glyphicon glyphicon-star\"></span>\\n\\t\\t\\t\\t\\t\\t\\t\\t<span class=\"glyphicon glyphicon-star\"></span>\\n\\t\\t\\t\\t\\t\\t\\t\\t<span class=\"glyphicon glyphicon-star\"></span>\\n\\t\\t\\t\\t\\t\\t\\t\\t<span class=\"glyphicon glyphicon-star\"></span>\\n\\t\\t\\t\\t\\t\\t\\t</p>\\n\\t\\t</div>\\n\\t</div>\\n</div>\\n\\t\\t\\t<div class=\"col-sm-4 col-lg-4 col-md-4\">\\n\\t<div class=\"thumbnail\">\\n\\t\\t<img class=\"img-responsive\" alt=\"item\"\\n\\t\\t     src=\"/images/test-sites/e-commerce/items/cart2.png\">\\n\\t\\t<div class=\"caption\">\\n\\t\\t\\t<h4 class=\"pull-right price\">$409.63</h4>\\n\\t\\t\\t<h4>\\n\\t\\t\\t\\t\\t\\t\\t\\t\\t<a href=\"/test-sites/e-commerce/allinone/product/559\" class=\"title\" title=\"Lenovo V110-15ISK\">Lenovo V110-15IS...</a>\\n\\t\\t\\t\\t\\t\\t\\t</h4>\\n\\t\\t\\t<p class=\"description\">Lenovo V110-15ISK, 15.6&quot; HD, Core i3-6006U, 8GB, 128GB SSD, Windows 10 Home</p>\\n\\n\\t\\t</div>\\n\\t\\t<div class=\"ratings\">\\n\\t\\t\\t<p class=\"pull-right\">9 reviews</p>\\n\\t\\t\\t<p data-rating=\"3\">\\n\\t\\t\\t\\t\\t\\t\\t\\t<span class=\"glyphicon glyphicon-star\"></span>\\n\\t\\t\\t\\t\\t\\t\\t\\t<span class=\"glyphicon glyphicon-star\"></span>\\n\\t\\t\\t\\t\\t\\t\\t\\t<span class=\"glyphicon glyphicon-star\"></span>\\n\\t\\t\\t\\t\\t\\t\\t</p>\\n\\t\\t</div>\\n\\t</div>\\n</div>\\n\\t\\t\\t<div class=\"col-sm-4 col-lg-4 col-md-4\">\\n\\t<div class=\"thumbnail\">\\n\\t\\t<img class=\"img-responsive\" alt=\"item\"\\n\\t\\t     src=\"/images/test-sites/e-commerce/items/cart2.png\">\\n\\t\\t<div class=\"caption\">\\n\\t\\t\\t<h4 class=\"pull-right price\">$410.46</h4>\\n\\t\\t\\t<h4>\\n\\t\\t\\t\\t\\t\\t\\t\\t\\t<a href=\"/test-sites/e-commerce/allinone/product/560\" class=\"title\" title=\"Acer Aspire ES1-732 Black\">Acer Aspire ES1-...</a>\\n\\t\\t\\t\\t\\t\\t\\t</h4>\\n\\t\\t\\t<p class=\"description\">Acer Aspire ES1-732 Black, 17.3&quot; HD+, Celeron, N3350, 4GB, 1TB, Windows 10 Home</p>\\n\\n\\t\\t</div>\\n\\t\\t<div class=\"ratings\">\\n\\t\\t\\t<p class=\"pull-right\">14 reviews</p>\\n\\t\\t\\t<p data-rating=\"4\">\\n\\t\\t\\t\\t\\t\\t\\t\\t<span class=\"glyphicon glyphicon-star\"></span>\\n\\t\\t\\t\\t\\t\\t\\t\\t<span class=\"glyphicon glyphicon-star\"></span>\\n\\t\\t\\t\\t\\t\\t\\t\\t<span class=\"glyphicon glyphicon-star\"></span>\\n\\t\\t\\t\\t\\t\\t\\t\\t<span class=\"glyphicon glyphicon-star\"></span>\\n\\t\\t\\t\\t\\t\\t\\t</p>\\n\\t\\t</div>\\n\\t</div>\\n</div>\\n\\t\\t\\t<div class=\"col-sm-4 col-lg-4 col-md-4\">\\n\\t<div class=\"thumbnail\">\\n\\t\\t<img class=\"img-responsive\" alt=\"item\"\\n\\t\\t     src=\"/images/test-sites/e-commerce/items/cart2.png\">\\n\\t\\t<div class=\"caption\">\\n\\t\\t\\t<h4 class=\"pull-right price\">$410.66</h4>\\n\\t\\t\\t<h4>\\n\\t\\t\\t\\t\\t\\t\\t\\t\\t<a href=\"/test-sites/e-commerce/allinone/product/561\" class=\"title\" title=\"Asus VivoBook 15 X540NA-GQ026T\">Asus VivoBook 15...</a>\\n\\t\\t\\t\\t\\t\\t\\t</h4>\\n\\t\\t\\t<p class=\"description\">Asus VivoBook 15 X540NA-GQ026T Chocolate Black, 15.6&quot; HD, Pentium N4200, 4GB, 128GB SSD, Windows 10 Home, En/Ru kbd</p>\\n\\n\\t\\t</div>\\n\\t\\t<div class=\"ratings\">\\n\\t\\t\\t<p class=\"pull-right\">4 reviews</p>\\n\\t\\t\\t<p data-rating=\"4\">\\n\\t\\t\\t\\t\\t\\t\\t\\t<span class=\"glyphicon glyphicon-star\"></span>\\n\\t\\t\\t\\t\\t\\t\\t\\t<span class=\"glyphicon glyphicon-star\"></span>\\n\\t\\t\\t\\t\\t\\t\\t\\t<span class=\"glyphicon glyphicon-star\"></span>\\n\\t\\t\\t\\t\\t\\t\\t\\t<span class=\"glyphicon glyphicon-star\"></span>\\n\\t\\t\\t\\t\\t\\t\\t</p>\\n\\t\\t</div>\\n\\t</div>\\n</div>\\n\\t\\t\\t<div class=\"col-sm-4 col-lg-4 col-md-4\">\\n\\t<div class=\"thumbnail\">\\n\\t\\t<img class=\"img-responsive\" alt=\"item\"\\n\\t\\t     src=\"/images/test-sites/e-commerce/items/cart2.png\">\\n\\t\\t<div class=\"caption\">\\n\\t\\t\\t<h4 class=\"pull-right price\">$416.99</h4>\\n\\t\\t\\t<h4>\\n\\t\\t\\t\\t\\t\\t\\t\\t\\t<a href=\"/test-sites/e-commerce/allinone/product/516\" class=\"title\" title=\"Packard 255 G2\">Packard 255 G2</a>\\n\\t\\t\\t\\t\\t\\t\\t</h4>\\n\\t\\t\\t<p class=\"description\">15.6&quot;, AMD E2-3800 1.3GHz, 4GB, 500GB, Windows 8.1</p>\\n\\n\\t\\t</div>\\n\\t\\t<div class=\"ratings\">\\n\\t\\t\\t<p class=\"pull-right\">2 reviews</p>\\n\\t\\t\\t<p data-rating=\"2\">\\n\\t\\t\\t\\t\\t\\t\\t\\t<span class=\"glyphicon glyphicon-star\"></span>\\n\\t\\t\\t\\t\\t\\t\\t\\t<span class=\"glyphicon glyphicon-star\"></span>\\n\\t\\t\\t\\t\\t\\t\\t</p>\\n\\t\\t</div>\\n\\t</div>\\n</div>\\n\\t\\t\\t<div class=\"col-sm-4 col-lg-4 col-md-4\">\\n\\t<div class=\"thumbnail\">\\n\\t\\t<img class=\"img-responsive\" alt=\"item\"\\n\\t\\t     src=\"/images/test-sites/e-commerce/items/cart2.png\">\\n\\t\\t<div class=\"caption\">\\n\\t\\t\\t<h4 class=\"pull-right price\">$433.30</h4>\\n\\t\\t\\t<h4>\\n\\t\\t\\t\\t\\t\\t\\t\\t\\t<a href=\"/test-sites/e-commerce/allinone/product/562\" class=\"title\" title=\"Asus EeeBook R416NA-FA014T\">Asus EeeBook R41...</a>\\n\\t\\t\\t\\t\\t\\t\\t</h4>\\n\\t\\t\\t<p class=\"description\">Asus EeeBook R416NA-FA014T, 14&quot; FHD, Pentium N4200, 4GB, 128GB eMMC, Windows 10 Home, Eng kbd</p>\\n\\n\\t\\t</div>\\n\\t\\t<div class=\"ratings\">\\n\\t\\t\\t<p class=\"pull-right\">1 reviews</p>\\n\\t\\t\\t<p data-rating=\"1\">\\n\\t\\t\\t\\t\\t\\t\\t\\t<span class=\"glyphicon glyphicon-star\"></span>\\n\\t\\t\\t\\t\\t\\t\\t</p>\\n\\t\\t</div>\\n\\t</div>\\n</div>\\n\\t\\t\\t<div class=\"col-sm-4 col-lg-4 col-md-4\">\\n\\t<div class=\"thumbnail\">\\n\\t\\t<img class=\"img-responsive\" alt=\"item\"\\n\\t\\t     src=\"/images/test-sites/e-commerce/items/cart2.png\">\\n\\t\\t<div class=\"caption\">\\n\\t\\t\\t<h4 class=\"pull-right price\">$436.29</h4>\\n\\t\\t\\t<h4>\\n\\t\\t\\t\\t\\t\\t\\t\\t\\t<a href=\"/test-sites/e-commerce/allinone/product/563\" class=\"title\" title=\"Acer Aspire 3 A315-51\">Acer Aspire 3 A3...</a>\\n\\t\\t\\t\\t\\t\\t\\t</h4>\\n\\t\\t\\t<p class=\"description\">Acer Aspire 3 A315-51, 15.6&quot; HD, Core i3-6006U, 4GB, 1TB, Windows 10 Home</p>\\n\\n\\t\\t</div>\\n\\t\\t<div class=\"ratings\">\\n\\t\\t\\t<p class=\"pull-right\">1 reviews</p>\\n\\t\\t\\t<p data-rating=\"1\">\\n\\t\\t\\t\\t\\t\\t\\t\\t<span class=\"glyphicon glyphicon-star\"></span>\\n\\t\\t\\t\\t\\t\\t\\t</p>\\n\\t\\t</div>\\n\\t</div>\\n</div>\\n\\t\\t\\t<div class=\"col-sm-4 col-lg-4 col-md-4\">\\n\\t<div class=\"thumbnail\">\\n\\t\\t<img class=\"img-responsive\" alt=\"item\"\\n\\t\\t     src=\"/images/test-sites/e-commerce/items/cart2.png\">\\n\\t\\t<div class=\"caption\">\\n\\t\\t\\t<h4 class=\"pull-right price\">$436.29</h4>\\n\\t\\t\\t<h4>\\n\\t\\t\\t\\t\\t\\t\\t\\t\\t<a href=\"/test-sites/e-commerce/allinone/product/564\" class=\"title\" title=\"Acer Aspire ES1-572 Black\">Acer Aspire ES1-...</a>\\n\\t\\t\\t\\t\\t\\t\\t</h4>\\n\\t\\t\\t<p class=\"description\">Acer Aspire ES1-572 Black, 15.6&quot; HD, Core i3-6006U, 4GB, 500GB, Windows 10 Home</p>\\n\\n\\t\\t</div>\\n\\t\\t<div class=\"ratings\">\\n\\t\\t\\t<p class=\"pull-right\">2 reviews</p>\\n\\t\\t\\t<p data-rating=\"1\">\\n\\t\\t\\t\\t\\t\\t\\t\\t<span class=\"glyphicon glyphicon-star\"></span>\\n\\t\\t\\t\\t\\t\\t\\t</p>\\n\\t\\t</div>\\n\\t</div>\\n</div>\\n\\t\\t\\t<div class=\"col-sm-4 col-lg-4 col-md-4\">\\n\\t<div class=\"thumbnail\">\\n\\t\\t<img class=\"img-responsive\" alt=\"item\"\\n\\t\\t     src=\"/images/test-sites/e-commerce/items/cart2.png\">\\n\\t\\t<div class=\"caption\">\\n\\t\\t\\t<h4 class=\"pull-right price\">$439.73</h4>\\n\\t\\t\\t<h4>\\n\\t\\t\\t\\t\\t\\t\\t\\t\\t<a href=\"/test-sites/e-commerce/allinone/product/565\" class=\"title\" title=\"Acer Extensa 15 (2540) Black\">Acer Extensa 15...</a>\\n\\t\\t\\t\\t\\t\\t\\t</h4>\\n\\t\\t\\t<p class=\"description\">Acer Extensa 15 (2540) Black, 15.6&quot; HD, Core i5-7200U, 4GB, 500GB, Linux</p>\\n\\n\\t\\t</div>\\n\\t\\t<div class=\"ratings\">\\n\\t\\t\\t<p class=\"pull-right\">6 reviews</p>\\n\\t\\t\\t<p data-rating=\"4\">\\n\\t\\t\\t\\t\\t\\t\\t\\t<span class=\"glyphicon glyphicon-star\"></span>\\n\\t\\t\\t\\t\\t\\t\\t\\t<span class=\"glyphicon glyphicon-star\"></span>\\n\\t\\t\\t\\t\\t\\t\\t\\t<span class=\"glyphicon glyphicon-star\"></span>\\n\\t\\t\\t\\t\\t\\t\\t\\t<span class=\"glyphicon glyphicon-star\"></span>\\n\\t\\t\\t\\t\\t\\t\\t</p>\\n\\t\\t</div>\\n\\t</div>\\n</div>\\n\\t\\t\\t<div class=\"col-sm-4 col-lg-4 col-md-4\">\\n\\t<div class=\"thumbnail\">\\n\\t\\t<img class=\"img-responsive\" alt=\"item\"\\n\\t\\t     src=\"/images/test-sites/e-commerce/items/cart2.png\">\\n\\t\\t<div class=\"caption\">\\n\\t\\t\\t<h4 class=\"pull-right price\">$454.62</h4>\\n\\t\\t\\t<h4>\\n\\t\\t\\t\\t\\t\\t\\t\\t\\t<a href=\"/test-sites/e-commerce/allinone/product/566\" class=\"title\" title=\"Acer Aspire ES1-572 Black\">Acer Aspire ES1-...</a>\\n\\t\\t\\t\\t\\t\\t\\t</h4>\\n\\t\\t\\t<p class=\"description\">Acer Aspire ES1-572 Black, 15.6&quot; HD, Core i5-7200U, 4GB, 500GB, Linux</p>\\n\\n\\t\\t</div>\\n\\t\\t<div class=\"ratings\">\\n\\t\\t\\t<p class=\"pull-right\">9 reviews</p>\\n\\t\\t\\t<p data-rating=\"1\">\\n\\t\\t\\t\\t\\t\\t\\t\\t<span class=\"glyphicon glyphicon-star\"></span>\\n\\t\\t\\t\\t\\t\\t\\t</p>\\n\\t\\t</div>\\n\\t</div>\\n</div>\\n\\t\\t\\t<div class=\"col-sm-4 col-lg-4 col-md-4\">\\n\\t<div class=\"thumbnail\">\\n\\t\\t<img class=\"img-responsive\" alt=\"item\"\\n\\t\\t     src=\"/images/test-sites/e-commerce/items/cart2.png\">\\n\\t\\t<div class=\"caption\">\\n\\t\\t\\t<h4 class=\"pull-right price\">$454.73</h4>\\n\\t\\t\\t<h4>\\n\\t\\t\\t\\t\\t\\t\\t\\t\\t<a href=\"/test-sites/e-commerce/allinone/product/567\" class=\"title\" title=\"Lenovo V110-15ISK\">Lenovo V110-15IS...</a>\\n\\t\\t\\t\\t\\t\\t\\t</h4>\\n\\t\\t\\t<p class=\"description\">Lenovo V110-15ISK, 15.6&quot; HD, Core i3-6006U, 4GB, 128GB SSD, Windows 10 Pro</p>\\n\\n\\t\\t</div>\\n\\t\\t<div class=\"ratings\">\\n\\t\\t\\t<p class=\"pull-right\">2 reviews</p>\\n\\t\\t\\t<p data-rating=\"2\">\\n\\t\\t\\t\\t\\t\\t\\t\\t<span class=\"glyphicon glyphicon-star\"></span>\\n\\t\\t\\t\\t\\t\\t\\t\\t<span class=\"glyphicon glyphicon-star\"></span>\\n\\t\\t\\t\\t\\t\\t\\t</p>\\n\\t\\t</div>\\n\\t</div>\\n</div>\\n\\t\\t\\t<div class=\"col-sm-4 col-lg-4 col-md-4\">\\n\\t<div class=\"thumbnail\">\\n\\t\\t<img class=\"img-responsive\" alt=\"item\"\\n\\t\\t     src=\"/images/test-sites/e-commerce/items/cart2.png\">\\n\\t\\t<div class=\"caption\">\\n\\t\\t\\t<h4 class=\"pull-right price\">$457.38</h4>\\n\\t\\t\\t<h4>\\n\\t\\t\\t\\t\\t\\t\\t\\t\\t<a href=\"/test-sites/e-commerce/allinone/product/568\" class=\"title\" title=\"Acer Aspire A315-51-33TG\">Acer Aspire A315...</a>\\n\\t\\t\\t\\t\\t\\t\\t</h4>\\n\\t\\t\\t<p class=\"description\">Acer Aspire A315-51-33TG, Black 15.6&quot; HD, Core i3-7100U, 4GB DDR4, 128GB SSD, Windows 10 Home, ENG</p>\\n\\n\\t\\t</div>\\n\\t\\t<div class=\"ratings\">\\n\\t\\t\\t<p class=\"pull-right\">9 reviews</p>\\n\\t\\t\\t<p data-rating=\"3\">\\n\\t\\t\\t\\t\\t\\t\\t\\t<span class=\"glyphicon glyphicon-star\"></span>\\n\\t\\t\\t\\t\\t\\t\\t\\t<span class=\"glyphicon glyphicon-star\"></span>\\n\\t\\t\\t\\t\\t\\t\\t\\t<span class=\"glyphicon glyphicon-star\"></span>\\n\\t\\t\\t\\t\\t\\t\\t</p>\\n\\t\\t</div>\\n\\t</div>\\n</div>\\n\\t\\t\\t<div class=\"col-sm-4 col-lg-4 col-md-4\">\\n\\t<div class=\"thumbnail\">\\n\\t\\t<img class=\"img-responsive\" alt=\"item\"\\n\\t\\t     src=\"/images/test-sites/e-commerce/items/cart2.png\">\\n\\t\\t<div class=\"caption\">\\n\\t\\t\\t<h4 class=\"pull-right price\">$465.95</h4>\\n\\t\\t\\t<h4>\\n\\t\\t\\t\\t\\t\\t\\t\\t\\t<a href=\"/test-sites/e-commerce/allinone/product/569\" class=\"title\" title=\"Lenovo V110-15IKB\">Lenovo V110-15IK...</a>\\n\\t\\t\\t\\t\\t\\t\\t</h4>\\n\\t\\t\\t<p class=\"description\">Lenovo V110-15IKB, 15.6&quot; HD, Core i5-7200U, 4GB, 500GB, DOS</p>\\n\\n\\t\\t</div>\\n\\t\\t<div class=\"ratings\">\\n\\t\\t\\t<p class=\"pull-right\">7 reviews</p>\\n\\t\\t\\t<p data-rating=\"1\">\\n\\t\\t\\t\\t\\t\\t\\t\\t<span class=\"glyphicon glyphicon-star\"></span>\\n\\t\\t\\t\\t\\t\\t\\t</p>\\n\\t\\t</div>\\n\\t</div>\\n</div>\\n\\t\\t\\t<div class=\"col-sm-4 col-lg-4 col-md-4\">\\n\\t<div class=\"thumbnail\">\\n\\t\\t<img class=\"img-responsive\" alt=\"item\"\\n\\t\\t     src=\"/images/test-sites/e-commerce/items/cart2.png\">\\n\\t\\t<div class=\"caption\">\\n\\t\\t\\t<h4 class=\"pull-right price\">$468.56</h4>\\n\\t\\t\\t<h4>\\n\\t\\t\\t\\t\\t\\t\\t\\t\\t<a href=\"/test-sites/e-commerce/allinone/product/570\" class=\"title\" title=\"Asus VivoBook 15 X540UA-DM260 Chocolate Black\">Asus VivoBook 15...</a>\\n\\t\\t\\t\\t\\t\\t\\t</h4>\\n\\t\\t\\t<p class=\"description\">Asus VivoBook 15 X540UA-DM260 Chocolate Black, 15.6&quot; FHD, Core i3-6006U, 4GB, 256GB SSD, Endless OS, En kbd</p>\\n\\n\\t\\t</div>\\n\\t\\t<div class=\"ratings\">\\n\\t\\t\\t<p class=\"pull-right\">1 reviews</p>\\n\\t\\t\\t<p data-rating=\"3\">\\n\\t\\t\\t\\t\\t\\t\\t\\t<span class=\"glyphicon glyphicon-star\"></span>\\n\\t\\t\\t\\t\\t\\t\\t\\t<span class=\"glyphicon glyphicon-star\"></span>\\n\\t\\t\\t\\t\\t\\t\\t\\t<span class=\"glyphicon glyphicon-star\"></span>\\n\\t\\t\\t\\t\\t\\t\\t</p>\\n\\t\\t</div>\\n\\t</div>\\n</div>\\n\\t\\t\\t<div class=\"col-sm-4 col-lg-4 col-md-4\">\\n\\t<div class=\"thumbnail\">\\n\\t\\t<img class=\"img-responsive\" alt=\"item\"\\n\\t\\t     src=\"/images/test-sites/e-commerce/items/cart2.png\">\\n\\t\\t<div class=\"caption\">\\n\\t\\t\\t<h4 class=\"pull-right price\">$469.10</h4>\\n\\t\\t\\t<h4>\\n\\t\\t\\t\\t\\t\\t\\t\\t\\t<a href=\"/test-sites/e-commerce/allinone/product/571\" class=\"title\" title=\"Acer Aspire ES1-572 Black\">Acer Aspire ES1-...</a>\\n\\t\\t\\t\\t\\t\\t\\t</h4>\\n\\t\\t\\t<p class=\"description\">Acer Aspire ES1-572 Black, 15.6&quot; HD, Core i3-6006U, 4GB, 128GB SSD, Windows 10 Home</p>\\n\\n\\t\\t</div>\\n\\t\\t<div class=\"ratings\">\\n\\t\\t\\t<p class=\"pull-right\">5 reviews</p>\\n\\t\\t\\t<p data-rating=\"3\">\\n\\t\\t\\t\\t\\t\\t\\t\\t<span class=\"glyphicon glyphicon-star\"></span>\\n\\t\\t\\t\\t\\t\\t\\t\\t<span class=\"glyphicon glyphicon-star\"></span>\\n\\t\\t\\t\\t\\t\\t\\t\\t<span class=\"glyphicon glyphicon-star\"></span>\\n\\t\\t\\t\\t\\t\\t\\t</p>\\n\\t\\t</div>\\n\\t</div>\\n</div>\\n\\t\\t\\t<div class=\"col-sm-4 col-lg-4 col-md-4\">\\n\\t<div class=\"thumbnail\">\\n\\t\\t<img class=\"img-responsive\" alt=\"item\"\\n\\t\\t     src=\"/images/test-sites/e-commerce/items/cart2.png\">\\n\\t\\t<div class=\"caption\">\\n\\t\\t\\t<h4 class=\"pull-right price\">$484.23</h4>\\n\\t\\t\\t<h4>\\n\\t\\t\\t\\t\\t\\t\\t\\t\\t<a href=\"/test-sites/e-commerce/allinone/product/572\" class=\"title\" title=\"Lenovo V510 Black\">Lenovo V510 Blac...</a>\\n\\t\\t\\t\\t\\t\\t\\t</h4>\\n\\t\\t\\t<p class=\"description\">Lenovo V510 Black, 14&quot; HD, Core i3-6006U, 4GB, 128GB SSD, Windows 10 Home</p>\\n\\n\\t\\t</div>\\n\\t\\t<div class=\"ratings\">\\n\\t\\t\\t<p class=\"pull-right\">8 reviews</p>\\n\\t\\t\\t<p data-rating=\"3\">\\n\\t\\t\\t\\t\\t\\t\\t\\t<span class=\"glyphicon glyphicon-star\"></span>\\n\\t\\t\\t\\t\\t\\t\\t\\t<span class=\"glyphicon glyphicon-star\"></span>\\n\\t\\t\\t\\t\\t\\t\\t\\t<span class=\"glyphicon glyphicon-star\"></span>\\n\\t\\t\\t\\t\\t\\t\\t</p>\\n\\t\\t</div>\\n\\t</div>\\n</div>\\n\\t\\t\\t<div class=\"col-sm-4 col-lg-4 col-md-4\">\\n\\t<div class=\"thumbnail\">\\n\\t\\t<img class=\"img-responsive\" alt=\"item\"\\n\\t\\t     src=\"/images/test-sites/e-commerce/items/cart2.png\">\\n\\t\\t<div class=\"caption\">\\n\\t\\t\\t<h4 class=\"pull-right price\">$485.90</h4>\\n\\t\\t\\t<h4>\\n\\t\\t\\t\\t\\t\\t\\t\\t\\t<a href=\"/test-sites/e-commerce/allinone/product/573\" class=\"title\" title=\"Acer Aspire ES1-572 Black\">Acer Aspire ES1-...</a>\\n\\t\\t\\t\\t\\t\\t\\t</h4>\\n\\t\\t\\t<p class=\"description\">Acer Aspire ES1-572 Black, 15.6&quot; HD, Core i5-7200U, 4GB, 128GB SSD, Linux</p>\\n\\n\\t\\t</div>\\n\\t\\t<div class=\"ratings\">\\n\\t\\t\\t<p class=\"pull-right\">6 reviews</p>\\n\\t\\t\\t<p data-rating=\"3\">\\n\\t\\t\\t\\t\\t\\t\\t\\t<span class=\"glyphicon glyphicon-star\"></span>\\n\\t\\t\\t\\t\\t\\t\\t\\t<span class=\"glyphicon glyphicon-star\"></span>\\n\\t\\t\\t\\t\\t\\t\\t\\t<span class=\"glyphicon glyphicon-star\"></span>\\n\\t\\t\\t\\t\\t\\t\\t</p>\\n\\t\\t</div>\\n\\t</div>\\n</div>\\n\\t\\t\\t<div class=\"col-sm-4 col-lg-4 col-md-4\">\\n\\t<div class=\"thumbnail\">\\n\\t\\t<img class=\"img-responsive\" alt=\"item\"\\n\\t\\t     src=\"/images/test-sites/e-commerce/items/cart2.png\">\\n\\t\\t<div class=\"caption\">\\n\\t\\t\\t<h4 class=\"pull-right price\">$487.80</h4>\\n\\t\\t\\t<h4>\\n\\t\\t\\t\\t\\t\\t\\t\\t\\t<a href=\"/test-sites/e-commerce/allinone/product/574\" class=\"title\" title=\"Lenovo V510 Black\">Lenovo V510 Blac...</a>\\n\\t\\t\\t\\t\\t\\t\\t</h4>\\n\\t\\t\\t<p class=\"description\">Lenovo V510 Black, 15.6&quot; HD, Core i3-6006U, 4GB, 128GB SSD, Windows 10 Home</p>\\n\\n\\t\\t</div>\\n\\t\\t<div class=\"ratings\">\\n\\t\\t\\t<p class=\"pull-right\">9 reviews</p>\\n\\t\\t\\t<p data-rating=\"2\">\\n\\t\\t\\t\\t\\t\\t\\t\\t<span class=\"glyphicon glyphicon-star\"></span>\\n\\t\\t\\t\\t\\t\\t\\t\\t<span class=\"glyphicon glyphicon-star\"></span>\\n\\t\\t\\t\\t\\t\\t\\t</p>\\n\\t\\t</div>\\n\\t</div>\\n</div>\\n\\t\\t\\t<div class=\"col-sm-4 col-lg-4 col-md-4\">\\n\\t<div class=\"thumbnail\">\\n\\t\\t<img class=\"img-responsive\" alt=\"item\"\\n\\t\\t     src=\"/images/test-sites/e-commerce/items/cart2.png\">\\n\\t\\t<div class=\"caption\">\\n\\t\\t\\t<h4 class=\"pull-right price\">$488.64</h4>\\n\\t\\t\\t<h4>\\n\\t\\t\\t\\t\\t\\t\\t\\t\\t<a href=\"/test-sites/e-commerce/allinone/product/575\" class=\"title\" title=\"Acer Swift 1 SF113-31 Silver\">Acer Swift 1 SF1...</a>\\n\\t\\t\\t\\t\\t\\t\\t</h4>\\n\\t\\t\\t<p class=\"description\">Acer Swift 1 SF113-31 Silver, 13.3&quot; FHD, Pentium N4200, 4GB, 128GB SSD, Windows 10 Home</p>\\n\\n\\t\\t</div>\\n\\t\\t<div class=\"ratings\">\\n\\t\\t\\t<p class=\"pull-right\">4 reviews</p>\\n\\t\\t\\t<p data-rating=\"3\">\\n\\t\\t\\t\\t\\t\\t\\t\\t<span class=\"glyphicon glyphicon-star\"></span>\\n\\t\\t\\t\\t\\t\\t\\t\\t<span class=\"glyphicon glyphicon-star\"></span>\\n\\t\\t\\t\\t\\t\\t\\t\\t<span class=\"glyphicon glyphicon-star\"></span>\\n\\t\\t\\t\\t\\t\\t\\t</p>\\n\\t\\t</div>\\n\\t</div>\\n</div>\\n\\t\\t\\t<div class=\"col-sm-4 col-lg-4 col-md-4\">\\n\\t<div class=\"thumbnail\">\\n\\t\\t<img class=\"img-responsive\" alt=\"item\"\\n\\t\\t     src=\"/images/test-sites/e-commerce/items/cart2.png\">\\n\\t\\t<div class=\"caption\">\\n\\t\\t\\t<h4 class=\"pull-right price\">$488.78</h4>\\n\\t\\t\\t<h4>\\n\\t\\t\\t\\t\\t\\t\\t\\t\\t<a href=\"/test-sites/e-commerce/allinone/product/531\" class=\"title\" title=\"Dell Vostro 15\">Dell Vostro 15</a>\\n\\t\\t\\t\\t\\t\\t\\t</h4>\\n\\t\\t\\t<p class=\"description\">Dell Vostro 15 (3568) Black, 15.6&quot; FHD, Core i5-7200U, 4GB, 128GB SSD, Radeon R5 M420 2GB, Linux</p>\\n\\n\\t\\t</div>\\n\\t\\t<div class=\"ratings\">\\n\\t\\t\\t<p class=\"pull-right\">14 reviews</p>\\n\\t\\t\\t<p data-rating=\"4\">\\n\\t\\t\\t\\t\\t\\t\\t\\t<span class=\"glyphicon glyphicon-star\"></span>\\n\\t\\t\\t\\t\\t\\t\\t\\t<span class=\"glyphicon glyphicon-star\"></span>\\n\\t\\t\\t\\t\\t\\t\\t\\t<span class=\"glyphicon glyphicon-star\"></span>\\n\\t\\t\\t\\t\\t\\t\\t\\t<span class=\"glyphicon glyphicon-star\"></span>\\n\\t\\t\\t\\t\\t\\t\\t</p>\\n\\t\\t</div>\\n\\t</div>\\n</div>\\n\\t\\t\\t<div class=\"col-sm-4 col-lg-4 col-md-4\">\\n\\t<div class=\"thumbnail\">\\n\\t\\t<img class=\"img-responsive\" alt=\"item\"\\n\\t\\t     src=\"/images/test-sites/e-commerce/items/cart2.png\">\\n\\t\\t<div class=\"caption\">\\n\\t\\t\\t<h4 class=\"pull-right price\">$494.71</h4>\\n\\t\\t\\t<h4>\\n\\t\\t\\t\\t\\t\\t\\t\\t\\t<a href=\"/test-sites/e-commerce/allinone/product/576\" class=\"title\" title=\"Acer Aspire 3 A315-51 Black\">Acer Aspire 3 A3...</a>\\n\\t\\t\\t\\t\\t\\t\\t</h4>\\n\\t\\t\\t<p class=\"description\">Acer Aspire 3 A315-51 Black, 15.6&quot; FHD, Core i3-7100U, 4GB, 500GB + 128GB SSD, Windows 10 Home</p>\\n\\n\\t\\t</div>\\n\\t\\t<div class=\"ratings\">\\n\\t\\t\\t<p class=\"pull-right\">2 reviews</p>\\n\\t\\t\\t<p data-rating=\"4\">\\n\\t\\t\\t\\t\\t\\t\\t\\t<span class=\"glyphicon glyphicon-star\"></span>\\n\\t\\t\\t\\t\\t\\t\\t\\t<span class=\"glyphicon glyphicon-star\"></span>\\n\\t\\t\\t\\t\\t\\t\\t\\t<span class=\"glyphicon glyphicon-star\"></span>\\n\\t\\t\\t\\t\\t\\t\\t\\t<span class=\"glyphicon glyphicon-star\"></span>\\n\\t\\t\\t\\t\\t\\t\\t</p>\\n\\t\\t</div>\\n\\t</div>\\n</div>\\n\\t\\t\\t<div class=\"col-sm-4 col-lg-4 col-md-4\">\\n\\t<div class=\"thumbnail\">\\n\\t\\t<img class=\"img-responsive\" alt=\"item\"\\n\\t\\t     src=\"/images/test-sites/e-commerce/items/cart2.png\">\\n\\t\\t<div class=\"caption\">\\n\\t\\t\\t<h4 class=\"pull-right price\">$497.17</h4>\\n\\t\\t\\t<h4>\\n\\t\\t\\t\\t\\t\\t\\t\\t\\t<a href=\"/test-sites/e-commerce/allinone/product/577\" class=\"title\" title=\"Dell Vostro 15 (3568) Red\">Dell Vostro 15 (...</a>\\n\\t\\t\\t\\t\\t\\t\\t</h4>\\n\\t\\t\\t<p class=\"description\">Dell Vostro 15 (3568) Red, 15.6&quot; HD, Core i5-7200U, 4GB, 1TB, Radeon R5 M420 2GB, Linux</p>\\n\\n\\t\\t</div>\\n\\t\\t<div class=\"ratings\">\\n\\t\\t\\t<p class=\"pull-right\">9 reviews</p>\\n\\t\\t\\t<p data-rating=\"1\">\\n\\t\\t\\t\\t\\t\\t\\t\\t<span class=\"glyphicon glyphicon-star\"></span>\\n\\t\\t\\t\\t\\t\\t\\t</p>\\n\\t\\t</div>\\n\\t</div>\\n</div>\\n\\t\\t\\t<div class=\"col-sm-4 col-lg-4 col-md-4\">\\n\\t<div class=\"thumbnail\">\\n\\t\\t<img class=\"img-responsive\" alt=\"item\"\\n\\t\\t     src=\"/images/test-sites/e-commerce/items/cart2.png\">\\n\\t\\t<div class=\"caption\">\\n\\t\\t\\t<h4 class=\"pull-right price\">$498.23</h4>\\n\\t\\t\\t<h4>\\n\\t\\t\\t\\t\\t\\t\\t\\t\\t<a href=\"/test-sites/e-commerce/allinone/product/578\" class=\"title\" title=\"Lenovo V510 Black\">Lenovo V510 Blac...</a>\\n\\t\\t\\t\\t\\t\\t\\t</h4>\\n\\t\\t\\t<p class=\"description\">Lenovo V510 Black, 15.6&quot; FHD, Core i3-7100U, 4GB, 128GB SSD, Windows 10 Pro</p>\\n\\n\\t\\t</div>\\n\\t\\t<div class=\"ratings\">\\n\\t\\t\\t<p class=\"pull-right\">5 reviews</p>\\n\\t\\t\\t<p data-rating=\"3\">\\n\\t\\t\\t\\t\\t\\t\\t\\t<span class=\"glyphicon glyphicon-star\"></span>\\n\\t\\t\\t\\t\\t\\t\\t\\t<span class=\"glyphicon glyphicon-star\"></span>\\n\\t\\t\\t\\t\\t\\t\\t\\t<span class=\"glyphicon glyphicon-star\"></span>\\n\\t\\t\\t\\t\\t\\t\\t</p>\\n\\t\\t</div>\\n\\t</div>\\n</div>\\n\\t\\t\\t<div class=\"col-sm-4 col-lg-4 col-md-4\">\\n\\t<div class=\"thumbnail\">\\n\\t\\t<img class=\"img-responsive\" alt=\"item\"\\n\\t\\t     src=\"/images/test-sites/e-commerce/items/cart2.png\">\\n\\t\\t<div class=\"caption\">\\n\\t\\t\\t<h4 class=\"pull-right price\">$520.99</h4>\\n\\t\\t\\t<h4>\\n\\t\\t\\t\\t\\t\\t\\t\\t\\t<a href=\"/test-sites/e-commerce/allinone/product/527\" class=\"title\" title=\"HP 250 G3\">HP 250 G3</a>\\n\\t\\t\\t\\t\\t\\t\\t</h4>\\n\\t\\t\\t<p class=\"description\">15.6&quot;, Core\\xa0i5-4210U, 4GB, 500GB, Windows 8.1</p>\\n\\n\\t\\t</div>\\n\\t\\t<div class=\"ratings\">\\n\\t\\t\\t<p class=\"pull-right\">13 reviews</p>\\n\\t\\t\\t<p data-rating=\"2\">\\n\\t\\t\\t\\t\\t\\t\\t\\t<span class=\"glyphicon glyphicon-star\"></span>\\n\\t\\t\\t\\t\\t\\t\\t\\t<span class=\"glyphicon glyphicon-star\"></span>\\n\\t\\t\\t\\t\\t\\t\\t</p>\\n\\t\\t</div>\\n\\t</div>\\n</div>\\n\\t\\t\\t<div class=\"col-sm-4 col-lg-4 col-md-4\">\\n\\t<div class=\"thumbnail\">\\n\\t\\t<img class=\"img-responsive\" alt=\"item\"\\n\\t\\t     src=\"/images/test-sites/e-commerce/items/cart2.png\">\\n\\t\\t<div class=\"caption\">\\n\\t\\t\\t<h4 class=\"pull-right price\">$564.98</h4>\\n\\t\\t\\t<h4>\\n\\t\\t\\t\\t\\t\\t\\t\\t\\t<a href=\"/test-sites/e-commerce/allinone/product/532\" class=\"title\" title=\"Acer Spin 5\">Acer Spin 5</a>\\n\\t\\t\\t\\t\\t\\t\\t</h4>\\n\\t\\t\\t<p class=\"description\">Acer Spin 5 SP513-51 Black, 13.3&quot; FHD Touch, Core i3-7100U, 4GB, 128GB SSD, Windows 10 Home</p>\\n\\n\\t\\t</div>\\n\\t\\t<div class=\"ratings\">\\n\\t\\t\\t<p class=\"pull-right\">0 reviews</p>\\n\\t\\t\\t<p data-rating=\"2\">\\n\\t\\t\\t\\t\\t\\t\\t\\t<span class=\"glyphicon glyphicon-star\"></span>\\n\\t\\t\\t\\t\\t\\t\\t\\t<span class=\"glyphicon glyphicon-star\"></span>\\n\\t\\t\\t\\t\\t\\t\\t</p>\\n\\t\\t</div>\\n\\t</div>\\n</div>\\n\\t\\t\\t<div class=\"col-sm-4 col-lg-4 col-md-4\">\\n\\t<div class=\"thumbnail\">\\n\\t\\t<img class=\"img-responsive\" alt=\"item\"\\n\\t\\t     src=\"/images/test-sites/e-commerce/items/cart2.png\">\\n\\t\\t<div class=\"caption\">\\n\\t\\t\\t<h4 class=\"pull-right price\">$577.99</h4>\\n\\t\\t\\t<h4>\\n\\t\\t\\t\\t\\t\\t\\t\\t\\t<a href=\"/test-sites/e-commerce/allinone/product/529\" class=\"title\" title=\"HP 350 G1\">HP 350 G1</a>\\n\\t\\t\\t\\t\\t\\t\\t</h4>\\n\\t\\t\\t<p class=\"description\">15.6&quot;, Core i5-4200U, 4GB, 750GB, Radeon HD8670M 2GB, Windows</p>\\n\\n\\t\\t</div>\\n\\t\\t<div class=\"ratings\">\\n\\t\\t\\t<p class=\"pull-right\">10 reviews</p>\\n\\t\\t\\t<p data-rating=\"2\">\\n\\t\\t\\t\\t\\t\\t\\t\\t<span class=\"glyphicon glyphicon-star\"></span>\\n\\t\\t\\t\\t\\t\\t\\t\\t<span class=\"glyphicon glyphicon-star\"></span>\\n\\t\\t\\t\\t\\t\\t\\t</p>\\n\\t\\t</div>\\n\\t</div>\\n</div>\\n\\t\\t\\t<div class=\"col-sm-4 col-lg-4 col-md-4\">\\n\\t<div class=\"thumbnail\">\\n\\t\\t<img class=\"img-responsive\" alt=\"item\"\\n\\t\\t     src=\"/images/test-sites/e-commerce/items/cart2.png\">\\n\\t\\t<div class=\"caption\">\\n\\t\\t\\t<h4 class=\"pull-right price\">$581.99</h4>\\n\\t\\t\\t<h4>\\n\\t\\t\\t\\t\\t\\t\\t\\t\\t<a href=\"/test-sites/e-commerce/allinone/product/521\" class=\"title\" title=\"Aspire E1-572G\">Aspire E1-572G</a>\\n\\t\\t\\t\\t\\t\\t\\t</h4>\\n\\t\\t\\t<p class=\"description\">15.6&quot;, Core i5-4200U, 8GB, 1TB, Radeon R7 M265, Windows 8.1</p>\\n\\n\\t\\t</div>\\n\\t\\t<div class=\"ratings\">\\n\\t\\t\\t<p class=\"pull-right\">2 reviews</p>\\n\\t\\t\\t<p data-rating=\"1\">\\n\\t\\t\\t\\t\\t\\t\\t\\t<span class=\"glyphicon glyphicon-star\"></span>\\n\\t\\t\\t\\t\\t\\t\\t</p>\\n\\t\\t</div>\\n\\t</div>\\n</div>\\n\\t\\t\\t<div class=\"col-sm-4 col-lg-4 col-md-4\">\\n\\t<div class=\"thumbnail\">\\n\\t\\t<img class=\"img-responsive\" alt=\"item\"\\n\\t\\t     src=\"/images/test-sites/e-commerce/items/cart2.png\">\\n\\t\\t<div class=\"caption\">\\n\\t\\t\\t<h4 class=\"pull-right price\">$609.99</h4>\\n\\t\\t\\t<h4>\\n\\t\\t\\t\\t\\t\\t\\t\\t\\t<a href=\"/test-sites/e-commerce/allinone/product/523\" class=\"title\" title=\"Pavilion\">Pavilion</a>\\n\\t\\t\\t\\t\\t\\t\\t</h4>\\n\\t\\t\\t<p class=\"description\">15.6&quot;, Core i5-4200U, 6GB, 750GB, Windows 8.1</p>\\n\\n\\t\\t</div>\\n\\t\\t<div class=\"ratings\">\\n\\t\\t\\t<p class=\"pull-right\">4 reviews</p>\\n\\t\\t\\t<p data-rating=\"1\">\\n\\t\\t\\t\\t\\t\\t\\t\\t<span class=\"glyphicon glyphicon-star\"></span>\\n\\t\\t\\t\\t\\t\\t\\t</p>\\n\\t\\t</div>\\n\\t</div>\\n</div>\\n\\t\\t\\t<div class=\"col-sm-4 col-lg-4 col-md-4\">\\n\\t<div class=\"thumbnail\">\\n\\t\\t<img class=\"img-responsive\" alt=\"item\"\\n\\t\\t     src=\"/images/test-sites/e-commerce/items/cart2.png\">\\n\\t\\t<div class=\"caption\">\\n\\t\\t\\t<h4 class=\"pull-right price\">$679.00</h4>\\n\\t\\t\\t<h4>\\n\\t\\t\\t\\t\\t\\t\\t\\t\\t<a href=\"/test-sites/e-commerce/allinone/product/533\" class=\"title\" title=\"Acer Aspire A515-51-5654\">Acer Aspire A515...</a>\\n\\t\\t\\t\\t\\t\\t\\t</h4>\\n\\t\\t\\t<p class=\"description\">Acer Aspire A515-51-5654, Black, 15.6&quot;, FHD, Core i5-8250U, 8GB DDR4, 256GB SSD, Windows 10 Home, ENG</p>\\n\\n\\t\\t</div>\\n\\t\\t<div class=\"ratings\">\\n\\t\\t\\t<p class=\"pull-right\">9 reviews</p>\\n\\t\\t\\t<p data-rating=\"2\">\\n\\t\\t\\t\\t\\t\\t\\t\\t<span class=\"glyphicon glyphicon-star\"></span>\\n\\t\\t\\t\\t\\t\\t\\t\\t<span class=\"glyphicon glyphicon-star\"></span>\\n\\t\\t\\t\\t\\t\\t\\t</p>\\n\\t\\t</div>\\n\\t</div>\\n</div>\\n\\t\\t\\t<div class=\"col-sm-4 col-lg-4 col-md-4\">\\n\\t<div class=\"thumbnail\">\\n\\t\\t<img class=\"img-responsive\" alt=\"item\"\\n\\t\\t     src=\"/images/test-sites/e-commerce/items/cart2.png\">\\n\\t\\t<div class=\"caption\">\\n\\t\\t\\t<h4 class=\"pull-right price\">$679.00</h4>\\n\\t\\t\\t<h4>\\n\\t\\t\\t\\t\\t\\t\\t\\t\\t<a href=\"/test-sites/e-commerce/allinone/product/534\" class=\"title\" title=\"Dell Inspiron 15\">Dell Inspiron 15</a>\\n\\t\\t\\t\\t\\t\\t\\t</h4>\\n\\t\\t\\t<p class=\"description\">Dell Inspiron 15 (5567) Fog Gray, 15.6&quot; FHD, Core i5-7200U, 8GB, 1TB, Radeon R7 M445 4GB, Linux</p>\\n\\n\\t\\t</div>\\n\\t\\t<div class=\"ratings\">\\n\\t\\t\\t<p class=\"pull-right\">7 reviews</p>\\n\\t\\t\\t<p data-rating=\"2\">\\n\\t\\t\\t\\t\\t\\t\\t\\t<span class=\"glyphicon glyphicon-star\"></span>\\n\\t\\t\\t\\t\\t\\t\\t\\t<span class=\"glyphicon glyphicon-star\"></span>\\n\\t\\t\\t\\t\\t\\t\\t</p>\\n\\t\\t</div>\\n\\t</div>\\n</div>\\n\\t\\t\\t<div class=\"col-sm-4 col-lg-4 col-md-4\">\\n\\t<div class=\"thumbnail\">\\n\\t\\t<img class=\"img-responsive\" alt=\"item\"\\n\\t\\t     src=\"/images/test-sites/e-commerce/items/cart2.png\">\\n\\t\\t<div class=\"caption\">\\n\\t\\t\\t<h4 class=\"pull-right price\">$729.00</h4>\\n\\t\\t\\t<h4>\\n\\t\\t\\t\\t\\t\\t\\t\\t\\t<a href=\"/test-sites/e-commerce/allinone/product/535\" class=\"title\" title=\"Asus VivoBook S14\">Asus VivoBook S1...</a>\\n\\t\\t\\t\\t\\t\\t\\t</h4>\\n\\t\\t\\t<p class=\"description\">Asus VivoBook S14 (S406UA-BV041T) Starry Grey, 14&quot;, Core i5-8250U, 8GB, 256GB SSD, Windows 10 Home, Eng kbd</p>\\n\\n\\t\\t</div>\\n\\t\\t<div class=\"ratings\">\\n\\t\\t\\t<p class=\"pull-right\">2 reviews</p>\\n\\t\\t\\t<p data-rating=\"1\">\\n\\t\\t\\t\\t\\t\\t\\t\\t<span class=\"glyphicon glyphicon-star\"></span>\\n\\t\\t\\t\\t\\t\\t\\t</p>\\n\\t\\t</div>\\n\\t</div>\\n</div>\\n\\t\\t\\t<div class=\"col-sm-4 col-lg-4 col-md-4\">\\n\\t<div class=\"thumbnail\">\\n\\t\\t<img class=\"img-responsive\" alt=\"item\"\\n\\t\\t     src=\"/images/test-sites/e-commerce/items/cart2.png\">\\n\\t\\t<div class=\"caption\">\\n\\t\\t\\t<h4 class=\"pull-right price\">$739.99</h4>\\n\\t\\t\\t<h4>\\n\\t\\t\\t\\t\\t\\t\\t\\t\\t<a href=\"/test-sites/e-commerce/allinone/product/519\" class=\"title\" title=\"ProBook\">ProBook</a>\\n\\t\\t\\t\\t\\t\\t\\t</h4>\\n\\t\\t\\t<p class=\"description\">14&quot;, Core i5 2.6GHz, 4GB, 500GB, Win7 Pro 64bit</p>\\n\\n\\t\\t</div>\\n\\t\\t<div class=\"ratings\">\\n\\t\\t\\t<p class=\"pull-right\">8 reviews</p>\\n\\t\\t\\t<p data-rating=\"4\">\\n\\t\\t\\t\\t\\t\\t\\t\\t<span class=\"glyphicon glyphicon-star\"></span>\\n\\t\\t\\t\\t\\t\\t\\t\\t<span class=\"glyphicon glyphicon-star\"></span>\\n\\t\\t\\t\\t\\t\\t\\t\\t<span class=\"glyphicon glyphicon-star\"></span>\\n\\t\\t\\t\\t\\t\\t\\t\\t<span class=\"glyphicon glyphicon-star\"></span>\\n\\t\\t\\t\\t\\t\\t\\t</p>\\n\\t\\t</div>\\n\\t</div>\\n</div>\\n\\t\\t\\t<div class=\"col-sm-4 col-lg-4 col-md-4\">\\n\\t<div class=\"thumbnail\">\\n\\t\\t<img class=\"img-responsive\" alt=\"item\"\\n\\t\\t     src=\"/images/test-sites/e-commerce/items/cart2.png\">\\n\\t\\t<div class=\"caption\">\\n\\t\\t\\t<h4 class=\"pull-right price\">$745.99</h4>\\n\\t\\t\\t<h4>\\n\\t\\t\\t\\t\\t\\t\\t\\t\\t<a href=\"/test-sites/e-commerce/allinone/product/524\" class=\"title\" title=\"Inspiron 15\">Inspiron 15</a>\\n\\t\\t\\t\\t\\t\\t\\t</h4>\\n\\t\\t\\t<p class=\"description\">Moon Silver, 15.6&quot;, Core i7-4510U, 8GB, 1TB, Radeon HD R7 M265 2GB,</p>\\n\\n\\t\\t</div>\\n\\t\\t<div class=\"ratings\">\\n\\t\\t\\t<p class=\"pull-right\">12 reviews</p>\\n\\t\\t\\t<p data-rating=\"3\">\\n\\t\\t\\t\\t\\t\\t\\t\\t<span class=\"glyphicon glyphicon-star\"></span>\\n\\t\\t\\t\\t\\t\\t\\t\\t<span class=\"glyphicon glyphicon-star\"></span>\\n\\t\\t\\t\\t\\t\\t\\t\\t<span class=\"glyphicon glyphicon-star\"></span>\\n\\t\\t\\t\\t\\t\\t\\t</p>\\n\\t\\t</div>\\n\\t</div>\\n</div>\\n\\t\\t\\t<div class=\"col-sm-4 col-lg-4 col-md-4\">\\n\\t<div class=\"thumbnail\">\\n\\t\\t<img class=\"img-responsive\" alt=\"item\"\\n\\t\\t     src=\"/images/test-sites/e-commerce/items/cart2.png\">\\n\\t\\t<div class=\"caption\">\\n\\t\\t\\t<h4 class=\"pull-right price\">$799.00</h4>\\n\\t\\t\\t<h4>\\n\\t\\t\\t\\t\\t\\t\\t\\t\\t<a href=\"/test-sites/e-commerce/allinone/product/536\" class=\"title\" title=\"Asus ROG STRIX GL553VD-DM256\">Asus ROG STRIX G...</a>\\n\\t\\t\\t\\t\\t\\t\\t</h4>\\n\\t\\t\\t<p class=\"description\">Asus ROG STRIX GL553VD-DM256, 15.6&quot; FHD, Core i5-7300HQ, 8GB, 1TB, GeForce GTX 1050 2GB, No OS</p>\\n\\n\\t\\t</div>\\n\\t\\t<div class=\"ratings\">\\n\\t\\t\\t<p class=\"pull-right\">7 reviews</p>\\n\\t\\t\\t<p data-rating=\"2\">\\n\\t\\t\\t\\t\\t\\t\\t\\t<span class=\"glyphicon glyphicon-star\"></span>\\n\\t\\t\\t\\t\\t\\t\\t\\t<span class=\"glyphicon glyphicon-star\"></span>\\n\\t\\t\\t\\t\\t\\t\\t</p>\\n\\t\\t</div>\\n\\t</div>\\n</div>\\n\\t\\t\\t<div class=\"col-sm-4 col-lg-4 col-md-4\">\\n\\t<div class=\"thumbnail\">\\n\\t\\t<img class=\"img-responsive\" alt=\"item\"\\n\\t\\t     src=\"/images/test-sites/e-commerce/items/cart2.png\">\\n\\t\\t<div class=\"caption\">\\n\\t\\t\\t<h4 class=\"pull-right price\">$809.00</h4>\\n\\t\\t\\t<h4>\\n\\t\\t\\t\\t\\t\\t\\t\\t\\t<a href=\"/test-sites/e-commerce/allinone/product/537\" class=\"title\" title=\"Acer Nitro 5 AN515-51\">Acer Nitro 5 AN5...</a>\\n\\t\\t\\t\\t\\t\\t\\t</h4>\\n\\t\\t\\t<p class=\"description\">Acer Nitro 5 AN515-51, 15.6&quot; FHD IPS, Core i5-7300HQ, 8GB, 1TB, GeForce GTX 1050 2GB, Windows 10 Home</p>\\n\\n\\t\\t</div>\\n\\t\\t<div class=\"ratings\">\\n\\t\\t\\t<p class=\"pull-right\">0 reviews</p>\\n\\t\\t\\t<p data-rating=\"1\">\\n\\t\\t\\t\\t\\t\\t\\t\\t<span class=\"glyphicon glyphicon-star\"></span>\\n\\t\\t\\t\\t\\t\\t\\t</p>\\n\\t\\t</div>\\n\\t</div>\\n</div>\\n\\t\\t\\t<div class=\"col-sm-4 col-lg-4 col-md-4\">\\n\\t<div class=\"thumbnail\">\\n\\t\\t<img class=\"img-responsive\" alt=\"item\"\\n\\t\\t     src=\"/images/test-sites/e-commerce/items/cart2.png\">\\n\\t\\t<div class=\"caption\">\\n\\t\\t\\t<h4 class=\"pull-right price\">$899.00</h4>\\n\\t\\t\\t<h4>\\n\\t\\t\\t\\t\\t\\t\\t\\t\\t<a href=\"/test-sites/e-commerce/allinone/product/538\" class=\"title\" title=\"Asus ROG STRIX GL553VD-DM256\">Asus ROG STRIX G...</a>\\n\\t\\t\\t\\t\\t\\t\\t</h4>\\n\\t\\t\\t<p class=\"description\">Asus ROG STRIX GL553VD-DM256, 15.6&quot; FHD, Core i5-7300HQ, 8GB, 1TB, GeForce GTX 1050 2GB, No OS + Windows 10 Home</p>\\n\\n\\t\\t</div>\\n\\t\\t<div class=\"ratings\">\\n\\t\\t\\t<p class=\"pull-right\">7 reviews</p>\\n\\t\\t\\t<p data-rating=\"1\">\\n\\t\\t\\t\\t\\t\\t\\t\\t<span class=\"glyphicon glyphicon-star\"></span>\\n\\t\\t\\t\\t\\t\\t\\t</p>\\n\\t\\t</div>\\n\\t</div>\\n</div>\\n\\t\\t\\t<div class=\"col-sm-4 col-lg-4 col-md-4\">\\n\\t<div class=\"thumbnail\">\\n\\t\\t<img class=\"img-responsive\" alt=\"item\"\\n\\t\\t     src=\"/images/test-sites/e-commerce/items/cart2.png\">\\n\\t\\t<div class=\"caption\">\\n\\t\\t\\t<h4 class=\"pull-right price\">$999.00</h4>\\n\\t\\t\\t<h4>\\n\\t\\t\\t\\t\\t\\t\\t\\t\\t<a href=\"/test-sites/e-commerce/allinone/product/539\" class=\"title\" title=\"Lenovo ThinkPad L570\">Lenovo ThinkPad...</a>\\n\\t\\t\\t\\t\\t\\t\\t</h4>\\n\\t\\t\\t<p class=\"description\">Lenovo ThinkPad L570, 15.6&quot; FHD, Core i7-7500U, 8GB, 256GB SSD, Windows 10 Pro</p>\\n\\n\\t\\t</div>\\n\\t\\t<div class=\"ratings\">\\n\\t\\t\\t<p class=\"pull-right\">11 reviews</p>\\n\\t\\t\\t<p data-rating=\"3\">\\n\\t\\t\\t\\t\\t\\t\\t\\t<span class=\"glyphicon glyphicon-star\"></span>\\n\\t\\t\\t\\t\\t\\t\\t\\t<span class=\"glyphicon glyphicon-star\"></span>\\n\\t\\t\\t\\t\\t\\t\\t\\t<span class=\"glyphicon glyphicon-star\"></span>\\n\\t\\t\\t\\t\\t\\t\\t</p>\\n\\t\\t</div>\\n\\t</div>\\n</div>\\n\\t\\t\\t<div class=\"col-sm-4 col-lg-4 col-md-4\">\\n\\t<div class=\"thumbnail\">\\n\\t\\t<img class=\"img-responsive\" alt=\"item\"\\n\\t\\t     src=\"/images/test-sites/e-commerce/items/cart2.png\">\\n\\t\\t<div class=\"caption\">\\n\\t\\t\\t<h4 class=\"pull-right price\">$1033.99</h4>\\n\\t\\t\\t<h4>\\n\\t\\t\\t\\t\\t\\t\\t\\t\\t<a href=\"/test-sites/e-commerce/allinone/product/522\" class=\"title\" title=\"ThinkPad Yoga\">ThinkPad Yoga</a>\\n\\t\\t\\t\\t\\t\\t\\t</h4>\\n\\t\\t\\t<p class=\"description\">12.5&quot; Touch, Core i3-4010U, 4GB, 500GB + 16GB SSD Cache,</p>\\n\\n\\t\\t</div>\\n\\t\\t<div class=\"ratings\">\\n\\t\\t\\t<p class=\"pull-right\">13 reviews</p>\\n\\t\\t\\t<p data-rating=\"2\">\\n\\t\\t\\t\\t\\t\\t\\t\\t<span class=\"glyphicon glyphicon-star\"></span>\\n\\t\\t\\t\\t\\t\\t\\t\\t<span class=\"glyphicon glyphicon-star\"></span>\\n\\t\\t\\t\\t\\t\\t\\t</p>\\n\\t\\t</div>\\n\\t</div>\\n</div>\\n\\t\\t\\t<div class=\"col-sm-4 col-lg-4 col-md-4\">\\n\\t<div class=\"thumbnail\">\\n\\t\\t<img class=\"img-responsive\" alt=\"item\"\\n\\t\\t     src=\"/images/test-sites/e-commerce/items/cart2.png\">\\n\\t\\t<div class=\"caption\">\\n\\t\\t\\t<h4 class=\"pull-right price\">$1096.02</h4>\\n\\t\\t\\t<h4>\\n\\t\\t\\t\\t\\t\\t\\t\\t\\t<a href=\"/test-sites/e-commerce/allinone/product/579\" class=\"title\" title=\"Lenovo ThinkPad L460\">Lenovo ThinkPad...</a>\\n\\t\\t\\t\\t\\t\\t\\t</h4>\\n\\t\\t\\t<p class=\"description\">Lenovo ThinkPad L460, 14&quot; FHD IPS, Core i7-6600U, 8GB, 256GB SSD, Windows 10 Pro</p>\\n\\n\\t\\t</div>\\n\\t\\t<div class=\"ratings\">\\n\\t\\t\\t<p class=\"pull-right\">14 reviews</p>\\n\\t\\t\\t<p data-rating=\"4\">\\n\\t\\t\\t\\t\\t\\t\\t\\t<span class=\"glyphicon glyphicon-star\"></span>\\n\\t\\t\\t\\t\\t\\t\\t\\t<span class=\"glyphicon glyphicon-star\"></span>\\n\\t\\t\\t\\t\\t\\t\\t\\t<span class=\"glyphicon glyphicon-star\"></span>\\n\\t\\t\\t\\t\\t\\t\\t\\t<span class=\"glyphicon glyphicon-star\"></span>\\n\\t\\t\\t\\t\\t\\t\\t</p>\\n\\t\\t</div>\\n\\t</div>\\n</div>\\n\\t\\t\\t<div class=\"col-sm-4 col-lg-4 col-md-4\">\\n\\t<div class=\"thumbnail\">\\n\\t\\t<img class=\"img-responsive\" alt=\"item\"\\n\\t\\t     src=\"/images/test-sites/e-commerce/items/cart2.png\">\\n\\t\\t<div class=\"caption\">\\n\\t\\t\\t<h4 class=\"pull-right price\">$1098.42</h4>\\n\\t\\t\\t<h4>\\n\\t\\t\\t\\t\\t\\t\\t\\t\\t<a href=\"/test-sites/e-commerce/allinone/product/580\" class=\"title\" title=\"Dell Inspiron 15 (7567) Black\">Dell Inspiron 15...</a>\\n\\t\\t\\t\\t\\t\\t\\t</h4>\\n\\t\\t\\t<p class=\"description\">Dell Inspiron 15 (7567) Black, 15.6&quot; FHD, Core i5-7300HQ, 8GB, 256GB SSD, GeForce GTX 1050 4GB, Windows 10 Home</p>\\n\\n\\t\\t</div>\\n\\t\\t<div class=\"ratings\">\\n\\t\\t\\t<p class=\"pull-right\">7 reviews</p>\\n\\t\\t\\t<p data-rating=\"1\">\\n\\t\\t\\t\\t\\t\\t\\t\\t<span class=\"glyphicon glyphicon-star\"></span>\\n\\t\\t\\t\\t\\t\\t\\t</p>\\n\\t\\t</div>\\n\\t</div>\\n</div>\\n\\t\\t\\t<div class=\"col-sm-4 col-lg-4 col-md-4\">\\n\\t<div class=\"thumbnail\">\\n\\t\\t<img class=\"img-responsive\" alt=\"item\"\\n\\t\\t     src=\"/images/test-sites/e-commerce/items/cart2.png\">\\n\\t\\t<div class=\"caption\">\\n\\t\\t\\t<h4 class=\"pull-right price\">$1099.00</h4>\\n\\t\\t\\t<h4>\\n\\t\\t\\t\\t\\t\\t\\t\\t\\t<a href=\"/test-sites/e-commerce/allinone/product/581\" class=\"title\" title=\"MSI GL72M 7RDX\">MSI GL72M 7RDX</a>\\n\\t\\t\\t\\t\\t\\t\\t</h4>\\n\\t\\t\\t<p class=\"description\">MSI GL72M 7RDX, 17.3&quot; FHD, Core i5-7300HQ, 8GB, 1TB + 128GB SSD, GeForce GTX 1050 2GB, Windows 10 Home</p>\\n\\n\\t\\t</div>\\n\\t\\t<div class=\"ratings\">\\n\\t\\t\\t<p class=\"pull-right\">1 reviews</p>\\n\\t\\t\\t<p data-rating=\"4\">\\n\\t\\t\\t\\t\\t\\t\\t\\t<span class=\"glyphicon glyphicon-star\"></span>\\n\\t\\t\\t\\t\\t\\t\\t\\t<span class=\"glyphicon glyphicon-star\"></span>\\n\\t\\t\\t\\t\\t\\t\\t\\t<span class=\"glyphicon glyphicon-star\"></span>\\n\\t\\t\\t\\t\\t\\t\\t\\t<span class=\"glyphicon glyphicon-star\"></span>\\n\\t\\t\\t\\t\\t\\t\\t</p>\\n\\t\\t</div>\\n\\t</div>\\n</div>\\n\\t\\t\\t<div class=\"col-sm-4 col-lg-4 col-md-4\">\\n\\t<div class=\"thumbnail\">\\n\\t\\t<img class=\"img-responsive\" alt=\"item\"\\n\\t\\t     src=\"/images/test-sites/e-commerce/items/cart2.png\">\\n\\t\\t<div class=\"caption\">\\n\\t\\t\\t<h4 class=\"pull-right price\">$1099.00</h4>\\n\\t\\t\\t<h4>\\n\\t\\t\\t\\t\\t\\t\\t\\t\\t<a href=\"/test-sites/e-commerce/allinone/product/582\" class=\"title\" title=\"MSI GL72M 7RDX\">MSI GL72M 7RDX</a>\\n\\t\\t\\t\\t\\t\\t\\t</h4>\\n\\t\\t\\t<p class=\"description\">Asus ROG Strix GL553VD-DM535T, 15.6&quot; FHD, Core i7-7700HQ, 8GB, 1TB + 128GB SSD, GeForce GTX 1050 2GB, Windows 10 Home, Eng kbd</p>\\n\\n\\t\\t</div>\\n\\t\\t<div class=\"ratings\">\\n\\t\\t\\t<p class=\"pull-right\">9 reviews</p>\\n\\t\\t\\t<p data-rating=\"1\">\\n\\t\\t\\t\\t\\t\\t\\t\\t<span class=\"glyphicon glyphicon-star\"></span>\\n\\t\\t\\t\\t\\t\\t\\t</p>\\n\\t\\t</div>\\n\\t</div>\\n</div>\\n\\t\\t\\t<div class=\"col-sm-4 col-lg-4 col-md-4\">\\n\\t<div class=\"thumbnail\">\\n\\t\\t<img class=\"img-responsive\" alt=\"item\"\\n\\t\\t     src=\"/images/test-sites/e-commerce/items/cart2.png\">\\n\\t\\t<div class=\"caption\">\\n\\t\\t\\t<h4 class=\"pull-right price\">$1101.83</h4>\\n\\t\\t\\t<h4>\\n\\t\\t\\t\\t\\t\\t\\t\\t\\t<a href=\"/test-sites/e-commerce/allinone/product/583\" class=\"title\" title=\"Asus ROG Strix GL553VD-DM535T\">Asus ROG Strix G...</a>\\n\\t\\t\\t\\t\\t\\t\\t</h4>\\n\\t\\t\\t<p class=\"description\">Apple MacBook Air 13.3&quot;, Core i5 1.8GHz, 8GB, 128GB SSD, Intel HD 4000, RUS</p>\\n\\n\\t\\t</div>\\n\\t\\t<div class=\"ratings\">\\n\\t\\t\\t<p class=\"pull-right\">4 reviews</p>\\n\\t\\t\\t<p data-rating=\"2\">\\n\\t\\t\\t\\t\\t\\t\\t\\t<span class=\"glyphicon glyphicon-star\"></span>\\n\\t\\t\\t\\t\\t\\t\\t\\t<span class=\"glyphicon glyphicon-star\"></span>\\n\\t\\t\\t\\t\\t\\t\\t</p>\\n\\t\\t</div>\\n\\t</div>\\n</div>\\n\\t\\t\\t<div class=\"col-sm-4 col-lg-4 col-md-4\">\\n\\t<div class=\"thumbnail\">\\n\\t\\t<img class=\"img-responsive\" alt=\"item\"\\n\\t\\t     src=\"/images/test-sites/e-commerce/items/cart2.png\">\\n\\t\\t<div class=\"caption\">\\n\\t\\t\\t<h4 class=\"pull-right price\">$1102.66</h4>\\n\\t\\t\\t<h4>\\n\\t\\t\\t\\t\\t\\t\\t\\t\\t<a href=\"/test-sites/e-commerce/allinone/product/584\" class=\"title\" title=\"Dell Latitude 5280\">Dell Latitude 52...</a>\\n\\t\\t\\t\\t\\t\\t\\t</h4>\\n\\t\\t\\t<p class=\"description\">Dell Latitude 5280, 12.5&quot; HD, Core i5-7300U, 8GB, 256GB SSD, Windows 10 Pro</p>\\n\\n\\t\\t</div>\\n\\t\\t<div class=\"ratings\">\\n\\t\\t\\t<p class=\"pull-right\">8 reviews</p>\\n\\t\\t\\t<p data-rating=\"1\">\\n\\t\\t\\t\\t\\t\\t\\t\\t<span class=\"glyphicon glyphicon-star\"></span>\\n\\t\\t\\t\\t\\t\\t\\t</p>\\n\\t\\t</div>\\n\\t</div>\\n</div>\\n\\t\\t\\t<div class=\"col-sm-4 col-lg-4 col-md-4\">\\n\\t<div class=\"thumbnail\">\\n\\t\\t<img class=\"img-responsive\" alt=\"item\"\\n\\t\\t     src=\"/images/test-sites/e-commerce/items/cart2.png\">\\n\\t\\t<div class=\"caption\">\\n\\t\\t\\t<h4 class=\"pull-right price\">$1110.14</h4>\\n\\t\\t\\t<h4>\\n\\t\\t\\t\\t\\t\\t\\t\\t\\t<a href=\"/test-sites/e-commerce/allinone/product/585\" class=\"title\" title=\"Dell Latitude 5480\">Dell Latitude 54...</a>\\n\\t\\t\\t\\t\\t\\t\\t</h4>\\n\\t\\t\\t<p class=\"description\">Dell Latitude 5480, 14&quot; FHD, Core i5-7300U, 8GB, 500GB, Linux + Windows 10 Home</p>\\n\\n\\t\\t</div>\\n\\t\\t<div class=\"ratings\">\\n\\t\\t\\t<p class=\"pull-right\">4 reviews</p>\\n\\t\\t\\t<p data-rating=\"3\">\\n\\t\\t\\t\\t\\t\\t\\t\\t<span class=\"glyphicon glyphicon-star\"></span>\\n\\t\\t\\t\\t\\t\\t\\t\\t<span class=\"glyphicon glyphicon-star\"></span>\\n\\t\\t\\t\\t\\t\\t\\t\\t<span class=\"glyphicon glyphicon-star\"></span>\\n\\t\\t\\t\\t\\t\\t\\t</p>\\n\\t\\t</div>\\n\\t</div>\\n</div>\\n\\t\\t\\t<div class=\"col-sm-4 col-lg-4 col-md-4\">\\n\\t<div class=\"thumbnail\">\\n\\t\\t<img class=\"img-responsive\" alt=\"item\"\\n\\t\\t     src=\"/images/test-sites/e-commerce/items/cart2.png\">\\n\\t\\t<div class=\"caption\">\\n\\t\\t\\t<h4 class=\"pull-right price\">$1112.91</h4>\\n\\t\\t\\t<h4>\\n\\t\\t\\t\\t\\t\\t\\t\\t\\t<a href=\"/test-sites/e-commerce/allinone/product/586\" class=\"title\" title=\"Lenovo Legion Y520-15IKBM\">Lenovo Legion Y5...</a>\\n\\t\\t\\t\\t\\t\\t\\t</h4>\\n\\t\\t\\t<p class=\"description\">Lenovo Legion Y520-15IKBM, Black, 15.6&quot; FHD IPS, Core i5-7300HQ, 8 GB, 128GB SSD + 2 TB HDD, NVIDIA GeForce GTX 1060 6 GB, FreeDOS + Windows 10 Home</p>\\n\\n\\t\\t</div>\\n\\t\\t<div class=\"ratings\">\\n\\t\\t\\t<p class=\"pull-right\">1 reviews</p>\\n\\t\\t\\t<p data-rating=\"4\">\\n\\t\\t\\t\\t\\t\\t\\t\\t<span class=\"glyphicon glyphicon-star\"></span>\\n\\t\\t\\t\\t\\t\\t\\t\\t<span class=\"glyphicon glyphicon-star\"></span>\\n\\t\\t\\t\\t\\t\\t\\t\\t<span class=\"glyphicon glyphicon-star\"></span>\\n\\t\\t\\t\\t\\t\\t\\t\\t<span class=\"glyphicon glyphicon-star\"></span>\\n\\t\\t\\t\\t\\t\\t\\t</p>\\n\\t\\t</div>\\n\\t</div>\\n</div>\\n\\t\\t\\t<div class=\"col-sm-4 col-lg-4 col-md-4\">\\n\\t<div class=\"thumbnail\">\\n\\t\\t<img class=\"img-responsive\" alt=\"item\"\\n\\t\\t     src=\"/images/test-sites/e-commerce/items/cart2.png\">\\n\\t\\t<div class=\"caption\">\\n\\t\\t\\t<h4 class=\"pull-right price\">$1114.55</h4>\\n\\t\\t\\t<h4>\\n\\t\\t\\t\\t\\t\\t\\t\\t\\t<a href=\"/test-sites/e-commerce/allinone/product/587\" class=\"title\" title=\"Toshiba Portege Z30-C-16J Grey\">Toshiba Portege...</a>\\n\\t\\t\\t\\t\\t\\t\\t</h4>\\n\\t\\t\\t<p class=\"description\">Toshiba Portege Z30-C-16J Grey, 13.3&quot; FHD, Core i5-6200U, 8GB, 256GB SSD, Windows 10 Pro</p>\\n\\n\\t\\t</div>\\n\\t\\t<div class=\"ratings\">\\n\\t\\t\\t<p class=\"pull-right\">0 reviews</p>\\n\\t\\t\\t<p data-rating=\"1\">\\n\\t\\t\\t\\t\\t\\t\\t\\t<span class=\"glyphicon glyphicon-star\"></span>\\n\\t\\t\\t\\t\\t\\t\\t</p>\\n\\t\\t</div>\\n\\t</div>\\n</div>\\n\\t\\t\\t<div class=\"col-sm-4 col-lg-4 col-md-4\">\\n\\t<div class=\"thumbnail\">\\n\\t\\t<img class=\"img-responsive\" alt=\"item\"\\n\\t\\t     src=\"/images/test-sites/e-commerce/items/cart2.png\">\\n\\t\\t<div class=\"caption\">\\n\\t\\t\\t<h4 class=\"pull-right price\">$1123.87</h4>\\n\\t\\t\\t<h4>\\n\\t\\t\\t\\t\\t\\t\\t\\t\\t<a href=\"/test-sites/e-commerce/allinone/product/588\" class=\"title\" title=\"Acer Predator Helios 300 (PH317-51)\">Acer Predator He...</a>\\n\\t\\t\\t\\t\\t\\t\\t</h4>\\n\\t\\t\\t<p class=\"description\">Acer Predator Helios 300 (PH317-51), 17.3&quot; FHD IPS, Core i5-7300HQ, 8GB, 1TB + 128GB SSD, GeForce GTX 1050Ti 4GB, Windows 10 Home</p>\\n\\n\\t\\t</div>\\n\\t\\t<div class=\"ratings\">\\n\\t\\t\\t<p class=\"pull-right\">1 reviews</p>\\n\\t\\t\\t<p data-rating=\"2\">\\n\\t\\t\\t\\t\\t\\t\\t\\t<span class=\"glyphicon glyphicon-star\"></span>\\n\\t\\t\\t\\t\\t\\t\\t\\t<span class=\"glyphicon glyphicon-star\"></span>\\n\\t\\t\\t\\t\\t\\t\\t</p>\\n\\t\\t</div>\\n\\t</div>\\n</div>\\n\\t\\t\\t<div class=\"col-sm-4 col-lg-4 col-md-4\">\\n\\t<div class=\"thumbnail\">\\n\\t\\t<img class=\"img-responsive\" alt=\"item\"\\n\\t\\t     src=\"/images/test-sites/e-commerce/items/cart2.png\">\\n\\t\\t<div class=\"caption\">\\n\\t\\t\\t<h4 class=\"pull-right price\">$1123.87</h4>\\n\\t\\t\\t<h4>\\n\\t\\t\\t\\t\\t\\t\\t\\t\\t<a href=\"/test-sites/e-commerce/allinone/product/589\" class=\"title\" title=\"Acer Aspire 7 A715-71G\">Acer Aspire 7 A7...</a>\\n\\t\\t\\t\\t\\t\\t\\t</h4>\\n\\t\\t\\t<p class=\"description\">Acer Aspire 7 A715-71G, 15.6&quot; FHD IPS, Core i7-7700HQ, 8GB, 128GB SSD + 1TB HDD, GTX 1050 Ti 4GB, Windows 10 Home</p>\\n\\n\\t\\t</div>\\n\\t\\t<div class=\"ratings\">\\n\\t\\t\\t<p class=\"pull-right\">4 reviews</p>\\n\\t\\t\\t<p data-rating=\"2\">\\n\\t\\t\\t\\t\\t\\t\\t\\t<span class=\"glyphicon glyphicon-star\"></span>\\n\\t\\t\\t\\t\\t\\t\\t\\t<span class=\"glyphicon glyphicon-star\"></span>\\n\\t\\t\\t\\t\\t\\t\\t</p>\\n\\t\\t</div>\\n\\t</div>\\n</div>\\n\\t\\t\\t<div class=\"col-sm-4 col-lg-4 col-md-4\">\\n\\t<div class=\"thumbnail\">\\n\\t\\t<img class=\"img-responsive\" alt=\"item\"\\n\\t\\t     src=\"/images/test-sites/e-commerce/items/cart2.png\">\\n\\t\\t<div class=\"caption\">\\n\\t\\t\\t<h4 class=\"pull-right price\">$1124.20</h4>\\n\\t\\t\\t<h4>\\n\\t\\t\\t\\t\\t\\t\\t\\t\\t<a href=\"/test-sites/e-commerce/allinone/product/590\" class=\"title\" title=\"Dell Inspiron 17 2in1 (7779) Silver\">Dell Inspiron 17...</a>\\n\\t\\t\\t\\t\\t\\t\\t</h4>\\n\\t\\t\\t<p class=\"description\">Dell Inspiron 17 2in1 (7779) Silver, 17.3&quot; FHD Touch, Core i5-7200U, 12GB, 1TB, GeForce GT940MX 2GB, Windows 10 Home</p>\\n\\n\\t\\t</div>\\n\\t\\t<div class=\"ratings\">\\n\\t\\t\\t<p class=\"pull-right\">10 reviews</p>\\n\\t\\t\\t<p data-rating=\"3\">\\n\\t\\t\\t\\t\\t\\t\\t\\t<span class=\"glyphicon glyphicon-star\"></span>\\n\\t\\t\\t\\t\\t\\t\\t\\t<span class=\"glyphicon glyphicon-star\"></span>\\n\\t\\t\\t\\t\\t\\t\\t\\t<span class=\"glyphicon glyphicon-star\"></span>\\n\\t\\t\\t\\t\\t\\t\\t</p>\\n\\t\\t</div>\\n\\t</div>\\n</div>\\n\\t\\t\\t<div class=\"col-sm-4 col-lg-4 col-md-4\">\\n\\t<div class=\"thumbnail\">\\n\\t\\t<img class=\"img-responsive\" alt=\"item\"\\n\\t\\t     src=\"/images/test-sites/e-commerce/items/cart2.png\">\\n\\t\\t<div class=\"caption\">\\n\\t\\t\\t<h4 class=\"pull-right price\">$1133.82</h4>\\n\\t\\t\\t<h4>\\n\\t\\t\\t\\t\\t\\t\\t\\t\\t<a href=\"/test-sites/e-commerce/allinone/product/591\" class=\"title\" title=\"Dell Latitude 5480\">Dell Latitude 54...</a>\\n\\t\\t\\t\\t\\t\\t\\t</h4>\\n\\t\\t\\t<p class=\"description\">Dell Latitude 5480, 14&quot; FHD, Core i5-7300U, 8GB, 500GB, Windows 10 Pro</p>\\n\\n\\t\\t</div>\\n\\t\\t<div class=\"ratings\">\\n\\t\\t\\t<p class=\"pull-right\">14 reviews</p>\\n\\t\\t\\t<p data-rating=\"4\">\\n\\t\\t\\t\\t\\t\\t\\t\\t<span class=\"glyphicon glyphicon-star\"></span>\\n\\t\\t\\t\\t\\t\\t\\t\\t<span class=\"glyphicon glyphicon-star\"></span>\\n\\t\\t\\t\\t\\t\\t\\t\\t<span class=\"glyphicon glyphicon-star\"></span>\\n\\t\\t\\t\\t\\t\\t\\t\\t<span class=\"glyphicon glyphicon-star\"></span>\\n\\t\\t\\t\\t\\t\\t\\t</p>\\n\\t\\t</div>\\n\\t</div>\\n</div>\\n\\t\\t\\t<div class=\"col-sm-4 col-lg-4 col-md-4\">\\n\\t<div class=\"thumbnail\">\\n\\t\\t<img class=\"img-responsive\" alt=\"item\"\\n\\t\\t     src=\"/images/test-sites/e-commerce/items/cart2.png\">\\n\\t\\t<div class=\"caption\">\\n\\t\\t\\t<h4 class=\"pull-right price\">$1133.91</h4>\\n\\t\\t\\t<h4>\\n\\t\\t\\t\\t\\t\\t\\t\\t\\t<a href=\"/test-sites/e-commerce/allinone/product/592\" class=\"title\" title=\"Lenovo Legion Y520\">Lenovo Legion Y5...</a>\\n\\t\\t\\t\\t\\t\\t\\t</h4>\\n\\t\\t\\t<p class=\"description\">Lenovo Legion Y520, 15.6&quot; FHD, Core i7-7700HQ, 8GB, 128 GB SSD + 1TB HDD, GTX 1050 4GB, Windows 10 Home</p>\\n\\n\\t\\t</div>\\n\\t\\t<div class=\"ratings\">\\n\\t\\t\\t<p class=\"pull-right\">13 reviews</p>\\n\\t\\t\\t<p data-rating=\"1\">\\n\\t\\t\\t\\t\\t\\t\\t\\t<span class=\"glyphicon glyphicon-star\"></span>\\n\\t\\t\\t\\t\\t\\t\\t</p>\\n\\t\\t</div>\\n\\t</div>\\n</div>\\n\\t\\t\\t<div class=\"col-sm-4 col-lg-4 col-md-4\">\\n\\t<div class=\"thumbnail\">\\n\\t\\t<img class=\"img-responsive\" alt=\"item\"\\n\\t\\t     src=\"/images/test-sites/e-commerce/items/cart2.png\">\\n\\t\\t<div class=\"caption\">\\n\\t\\t\\t<h4 class=\"pull-right price\">$1139.54</h4>\\n\\t\\t\\t<h4>\\n\\t\\t\\t\\t\\t\\t\\t\\t\\t<a href=\"/test-sites/e-commerce/allinone/product/593\" class=\"title\" title=\"Asus AsusPro Advanced BU401LA-FA271G Dark Grey\">Asus AsusPro Adv...</a>\\n\\t\\t\\t\\t\\t\\t\\t</h4>\\n\\t\\t\\t<p class=\"description\">Asus AsusPro Advanced BU401LA-FA271G Dark Grey, 14&quot;, Core i5-4210U, 4GB, 128GB SSD, Win7 Pro 64bit, ENG</p>\\n\\n\\t\\t</div>\\n\\t\\t<div class=\"ratings\">\\n\\t\\t\\t<p class=\"pull-right\">7 reviews</p>\\n\\t\\t\\t<p data-rating=\"3\">\\n\\t\\t\\t\\t\\t\\t\\t\\t<span class=\"glyphicon glyphicon-star\"></span>\\n\\t\\t\\t\\t\\t\\t\\t\\t<span class=\"glyphicon glyphicon-star\"></span>\\n\\t\\t\\t\\t\\t\\t\\t\\t<span class=\"glyphicon glyphicon-star\"></span>\\n\\t\\t\\t\\t\\t\\t\\t</p>\\n\\t\\t</div>\\n\\t</div>\\n</div>\\n\\t\\t\\t<div class=\"col-sm-4 col-lg-4 col-md-4\">\\n\\t<div class=\"thumbnail\">\\n\\t\\t<img class=\"img-responsive\" alt=\"item\"\\n\\t\\t     src=\"/images/test-sites/e-commerce/items/cart2.png\">\\n\\t\\t<div class=\"caption\">\\n\\t\\t\\t<h4 class=\"pull-right price\">$1140.62</h4>\\n\\t\\t\\t<h4>\\n\\t\\t\\t\\t\\t\\t\\t\\t\\t<a href=\"/test-sites/e-commerce/allinone/product/594\" class=\"title\" title=\"Acer Nitro 5 AN515-51\">Acer Nitro 5 AN5...</a>\\n\\t\\t\\t\\t\\t\\t\\t</h4>\\n\\t\\t\\t<p class=\"description\">Acer Nitro 5 AN515-51, 15.6&quot; FHD IPS, Core i7-7700HQ, 8GB, 256GB SSD +1TB, GeForce GTX 1050 Ti 4GB, Windows 10 Home + Windows 10 Home</p>\\n\\n\\t\\t</div>\\n\\t\\t<div class=\"ratings\">\\n\\t\\t\\t<p class=\"pull-right\">14 reviews</p>\\n\\t\\t\\t<p data-rating=\"3\">\\n\\t\\t\\t\\t\\t\\t\\t\\t<span class=\"glyphicon glyphicon-star\"></span>\\n\\t\\t\\t\\t\\t\\t\\t\\t<span class=\"glyphicon glyphicon-star\"></span>\\n\\t\\t\\t\\t\\t\\t\\t\\t<span class=\"glyphicon glyphicon-star\"></span>\\n\\t\\t\\t\\t\\t\\t\\t</p>\\n\\t\\t</div>\\n\\t</div>\\n</div>\\n\\t\\t\\t<div class=\"col-sm-4 col-lg-4 col-md-4\">\\n\\t<div class=\"thumbnail\">\\n\\t\\t<img class=\"img-responsive\" alt=\"item\"\\n\\t\\t     src=\"/images/test-sites/e-commerce/items/cart2.png\">\\n\\t\\t<div class=\"caption\">\\n\\t\\t\\t<h4 class=\"pull-right price\">$1143.40</h4>\\n\\t\\t\\t<h4>\\n\\t\\t\\t\\t\\t\\t\\t\\t\\t<a href=\"/test-sites/e-commerce/allinone/product/595\" class=\"title\" title=\"Dell Latitude 5480\">Dell Latitude 54...</a>\\n\\t\\t\\t\\t\\t\\t\\t</h4>\\n\\t\\t\\t<p class=\"description\">Dell Latitude 5480, 14&quot; FHD, Core i5-7440HQ, 8GB, 256GB SSD, Windows 10 Pro</p>\\n\\n\\t\\t</div>\\n\\t\\t<div class=\"ratings\">\\n\\t\\t\\t<p class=\"pull-right\">5 reviews</p>\\n\\t\\t\\t<p data-rating=\"4\">\\n\\t\\t\\t\\t\\t\\t\\t\\t<span class=\"glyphicon glyphicon-star\"></span>\\n\\t\\t\\t\\t\\t\\t\\t\\t<span class=\"glyphicon glyphicon-star\"></span>\\n\\t\\t\\t\\t\\t\\t\\t\\t<span class=\"glyphicon glyphicon-star\"></span>\\n\\t\\t\\t\\t\\t\\t\\t\\t<span class=\"glyphicon glyphicon-star\"></span>\\n\\t\\t\\t\\t\\t\\t\\t</p>\\n\\t\\t</div>\\n\\t</div>\\n</div>\\n\\t\\t\\t<div class=\"col-sm-4 col-lg-4 col-md-4\">\\n\\t<div class=\"thumbnail\">\\n\\t\\t<img class=\"img-responsive\" alt=\"item\"\\n\\t\\t     src=\"/images/test-sites/e-commerce/items/cart2.png\">\\n\\t\\t<div class=\"caption\">\\n\\t\\t\\t<h4 class=\"pull-right price\">$1144.20</h4>\\n\\t\\t\\t<h4>\\n\\t\\t\\t\\t\\t\\t\\t\\t\\t<a href=\"/test-sites/e-commerce/allinone/product/596\" class=\"title\" title=\"Dell Inspiron 15 (7567) Black\">Dell Inspiron 15...</a>\\n\\t\\t\\t\\t\\t\\t\\t</h4>\\n\\t\\t\\t<p class=\"description\">Dell Inspiron 15 (7567) Black, 15.6&quot; FHD, Core i7-7700HQ, 8GB, 1TB, GeForce GTX 1050 Ti 4GB, Linux + Windows 10 Home</p>\\n\\n\\t\\t</div>\\n\\t\\t<div class=\"ratings\">\\n\\t\\t\\t<p class=\"pull-right\">2 reviews</p>\\n\\t\\t\\t<p data-rating=\"1\">\\n\\t\\t\\t\\t\\t\\t\\t\\t<span class=\"glyphicon glyphicon-star\"></span>\\n\\t\\t\\t\\t\\t\\t\\t</p>\\n\\t\\t</div>\\n\\t</div>\\n</div>\\n\\t\\t\\t<div class=\"col-sm-4 col-lg-4 col-md-4\">\\n\\t<div class=\"thumbnail\">\\n\\t\\t<img class=\"img-responsive\" alt=\"item\"\\n\\t\\t     src=\"/images/test-sites/e-commerce/items/cart2.png\">\\n\\t\\t<div class=\"caption\">\\n\\t\\t\\t<h4 class=\"pull-right price\">$1144.40</h4>\\n\\t\\t\\t<h4>\\n\\t\\t\\t\\t\\t\\t\\t\\t\\t<a href=\"/test-sites/e-commerce/allinone/product/597\" class=\"title\" title=\"Dell Latitude 5580\">Dell Latitude 55...</a>\\n\\t\\t\\t\\t\\t\\t\\t</h4>\\n\\t\\t\\t<p class=\"description\">Dell Latitude 5580, 15.6&quot; FHD, Core i5-7300U, 8GB, 256GB SSD, Windows 10 Pro</p>\\n\\n\\t\\t</div>\\n\\t\\t<div class=\"ratings\">\\n\\t\\t\\t<p class=\"pull-right\">10 reviews</p>\\n\\t\\t\\t<p data-rating=\"3\">\\n\\t\\t\\t\\t\\t\\t\\t\\t<span class=\"glyphicon glyphicon-star\"></span>\\n\\t\\t\\t\\t\\t\\t\\t\\t<span class=\"glyphicon glyphicon-star\"></span>\\n\\t\\t\\t\\t\\t\\t\\t\\t<span class=\"glyphicon glyphicon-star\"></span>\\n\\t\\t\\t\\t\\t\\t\\t</p>\\n\\t\\t</div>\\n\\t</div>\\n</div>\\n\\t\\t\\t<div class=\"col-sm-4 col-lg-4 col-md-4\">\\n\\t<div class=\"thumbnail\">\\n\\t\\t<img class=\"img-responsive\" alt=\"item\"\\n\\t\\t     src=\"/images/test-sites/e-commerce/items/cart2.png\">\\n\\t\\t<div class=\"caption\">\\n\\t\\t\\t<h4 class=\"pull-right price\">$1149.00</h4>\\n\\t\\t\\t<h4>\\n\\t\\t\\t\\t\\t\\t\\t\\t\\t<a href=\"/test-sites/e-commerce/allinone/product/540\" class=\"title\" title=\"Lenovo Legion Y520-15IKBM\">Lenovo Legion Y5...</a>\\n\\t\\t\\t\\t\\t\\t\\t</h4>\\n\\t\\t\\t<p class=\"description\">Lenovo Legion Y520-15IKBM, 15.6&quot; FHD IPS, Core i7-7700HQ, 8GB, 128GB SSD + 1TB, GeForce GTX 1060 Max-Q 6GB, DOS</p>\\n\\n\\t\\t</div>\\n\\t\\t<div class=\"ratings\">\\n\\t\\t\\t<p class=\"pull-right\">11 reviews</p>\\n\\t\\t\\t<p data-rating=\"3\">\\n\\t\\t\\t\\t\\t\\t\\t\\t<span class=\"glyphicon glyphicon-star\"></span>\\n\\t\\t\\t\\t\\t\\t\\t\\t<span class=\"glyphicon glyphicon-star\"></span>\\n\\t\\t\\t\\t\\t\\t\\t\\t<span class=\"glyphicon glyphicon-star\"></span>\\n\\t\\t\\t\\t\\t\\t\\t</p>\\n\\t\\t</div>\\n\\t</div>\\n</div>\\n\\t\\t\\t<div class=\"col-sm-4 col-lg-4 col-md-4\">\\n\\t<div class=\"thumbnail\">\\n\\t\\t<img class=\"img-responsive\" alt=\"item\"\\n\\t\\t     src=\"/images/test-sites/e-commerce/items/cart2.png\">\\n\\t\\t<div class=\"caption\">\\n\\t\\t\\t<h4 class=\"pull-right price\">$1149.00</h4>\\n\\t\\t\\t<h4>\\n\\t\\t\\t\\t\\t\\t\\t\\t\\t<a href=\"/test-sites/e-commerce/allinone/product/598\" class=\"title\" title=\"MSI GP62M 7RDX Leopard\">MSI GP62M 7RDX L...</a>\\n\\t\\t\\t\\t\\t\\t\\t</h4>\\n\\t\\t\\t<p class=\"description\">MSI GP62M 7RDX Leopard, 15.6&quot; FHD, Core i7-7700HQ, 8GB, 1TB + 128GB SSD, GeForce GTX 1050 2GB, Windows 10 Home</p>\\n\\n\\t\\t</div>\\n\\t\\t<div class=\"ratings\">\\n\\t\\t\\t<p class=\"pull-right\">11 reviews</p>\\n\\t\\t\\t<p data-rating=\"1\">\\n\\t\\t\\t\\t\\t\\t\\t\\t<span class=\"glyphicon glyphicon-star\"></span>\\n\\t\\t\\t\\t\\t\\t\\t</p>\\n\\t\\t</div>\\n\\t</div>\\n</div>\\n\\t\\t\\t<div class=\"col-sm-4 col-lg-4 col-md-4\">\\n\\t<div class=\"thumbnail\">\\n\\t\\t<img class=\"img-responsive\" alt=\"item\"\\n\\t\\t     src=\"/images/test-sites/e-commerce/items/cart2.png\">\\n\\t\\t<div class=\"caption\">\\n\\t\\t\\t<h4 class=\"pull-right price\">$1149.73</h4>\\n\\t\\t\\t<h4>\\n\\t\\t\\t\\t\\t\\t\\t\\t\\t<a href=\"/test-sites/e-commerce/allinone/product/599\" class=\"title\" title=\"Lenovo Yoga 720 Grey\">Lenovo Yoga 720...</a>\\n\\t\\t\\t\\t\\t\\t\\t</h4>\\n\\t\\t\\t<p class=\"description\">Lenovo Yoga 720 Grey, 15.6&quot; FHD IPS, Core i5-7300HQ, 8GB, 256GB SSD, GeForce GTX 1050 2GB, Windows 10 Home</p>\\n\\n\\t\\t</div>\\n\\t\\t<div class=\"ratings\">\\n\\t\\t\\t<p class=\"pull-right\">12 reviews</p>\\n\\t\\t\\t<p data-rating=\"2\">\\n\\t\\t\\t\\t\\t\\t\\t\\t<span class=\"glyphicon glyphicon-star\"></span>\\n\\t\\t\\t\\t\\t\\t\\t\\t<span class=\"glyphicon glyphicon-star\"></span>\\n\\t\\t\\t\\t\\t\\t\\t</p>\\n\\t\\t</div>\\n\\t</div>\\n</div>\\n\\t\\t\\t<div class=\"col-sm-4 col-lg-4 col-md-4\">\\n\\t<div class=\"thumbnail\">\\n\\t\\t<img class=\"img-responsive\" alt=\"item\"\\n\\t\\t     src=\"/images/test-sites/e-commerce/items/cart2.png\">\\n\\t\\t<div class=\"caption\">\\n\\t\\t\\t<h4 class=\"pull-right price\">$1154.04</h4>\\n\\t\\t\\t<h4>\\n\\t\\t\\t\\t\\t\\t\\t\\t\\t<a href=\"/test-sites/e-commerce/allinone/product/600\" class=\"title\" title=\"Toshiba Portege Z30-C-16L Grey\">Toshiba Portege...</a>\\n\\t\\t\\t\\t\\t\\t\\t</h4>\\n\\t\\t\\t<p class=\"description\">Toshiba Portege Z30-C-16L Grey, 13.3&quot; FHD, Core i7-6500U, 8GB, 256GB SSD, Windows 10 Pro</p>\\n\\n\\t\\t</div>\\n\\t\\t<div class=\"ratings\">\\n\\t\\t\\t<p class=\"pull-right\">7 reviews</p>\\n\\t\\t\\t<p data-rating=\"1\">\\n\\t\\t\\t\\t\\t\\t\\t\\t<span class=\"glyphicon glyphicon-star\"></span>\\n\\t\\t\\t\\t\\t\\t\\t</p>\\n\\t\\t</div>\\n\\t</div>\\n</div>\\n\\t\\t\\t<div class=\"col-sm-4 col-lg-4 col-md-4\">\\n\\t<div class=\"thumbnail\">\\n\\t\\t<img class=\"img-responsive\" alt=\"item\"\\n\\t\\t     src=\"/images/test-sites/e-commerce/items/cart2.png\">\\n\\t\\t<div class=\"caption\">\\n\\t\\t\\t<h4 class=\"pull-right price\">$1170.10</h4>\\n\\t\\t\\t<h4>\\n\\t\\t\\t\\t\\t\\t\\t\\t\\t<a href=\"/test-sites/e-commerce/allinone/product/601\" class=\"title\" title=\"Acer TravelMate P645-S-511A Black\">Acer TravelMate...</a>\\n\\t\\t\\t\\t\\t\\t\\t</h4>\\n\\t\\t\\t<p class=\"description\">Acer TravelMate P645-S-511A Black, 14&quot; FHD IPS, Core i5-5200U, 8GB, 256GB SSD, 3G, Windows 10 Pro</p>\\n\\n\\t\\t</div>\\n\\t\\t<div class=\"ratings\">\\n\\t\\t\\t<p class=\"pull-right\">0 reviews</p>\\n\\t\\t\\t<p data-rating=\"1\">\\n\\t\\t\\t\\t\\t\\t\\t\\t<span class=\"glyphicon glyphicon-star\"></span>\\n\\t\\t\\t\\t\\t\\t\\t</p>\\n\\t\\t</div>\\n\\t</div>\\n</div>\\n\\t\\t\\t<div class=\"col-sm-4 col-lg-4 col-md-4\">\\n\\t<div class=\"thumbnail\">\\n\\t\\t<img class=\"img-responsive\" alt=\"item\"\\n\\t\\t     src=\"/images/test-sites/e-commerce/items/cart2.png\">\\n\\t\\t<div class=\"caption\">\\n\\t\\t\\t<h4 class=\"pull-right price\">$1178.19</h4>\\n\\t\\t\\t<h4>\\n\\t\\t\\t\\t\\t\\t\\t\\t\\t<a href=\"/test-sites/e-commerce/allinone/product/602\" class=\"title\" title=\"Dell Latitude 5580\">Dell Latitude 55...</a>\\n\\t\\t\\t\\t\\t\\t\\t</h4>\\n\\t\\t\\t<p class=\"description\">Dell Latitude 5580, 15.6&quot; FHD, Core i5-7300U, 16GB, 256GB SSD, Linux + Windows 10 Home</p>\\n\\n\\t\\t</div>\\n\\t\\t<div class=\"ratings\">\\n\\t\\t\\t<p class=\"pull-right\">6 reviews</p>\\n\\t\\t\\t<p data-rating=\"3\">\\n\\t\\t\\t\\t\\t\\t\\t\\t<span class=\"glyphicon glyphicon-star\"></span>\\n\\t\\t\\t\\t\\t\\t\\t\\t<span class=\"glyphicon glyphicon-star\"></span>\\n\\t\\t\\t\\t\\t\\t\\t\\t<span class=\"glyphicon glyphicon-star\"></span>\\n\\t\\t\\t\\t\\t\\t\\t</p>\\n\\t\\t</div>\\n\\t</div>\\n</div>\\n\\t\\t\\t<div class=\"col-sm-4 col-lg-4 col-md-4\">\\n\\t<div class=\"thumbnail\">\\n\\t\\t<img class=\"img-responsive\" alt=\"item\"\\n\\t\\t     src=\"/images/test-sites/e-commerce/items/cart2.png\">\\n\\t\\t<div class=\"caption\">\\n\\t\\t\\t<h4 class=\"pull-right price\">$1178.99</h4>\\n\\t\\t\\t<h4>\\n\\t\\t\\t\\t\\t\\t\\t\\t\\t<a href=\"/test-sites/e-commerce/allinone/product/518\" class=\"title\" title=\"ThinkPad T540p\">ThinkPad T540p</a>\\n\\t\\t\\t\\t\\t\\t\\t</h4>\\n\\t\\t\\t<p class=\"description\">15.6&quot;, Core i5-4200M, 4GB, 500GB, Win7 Pro 64bit</p>\\n\\n\\t\\t</div>\\n\\t\\t<div class=\"ratings\">\\n\\t\\t\\t<p class=\"pull-right\">2 reviews</p>\\n\\t\\t\\t<p data-rating=\"1\">\\n\\t\\t\\t\\t\\t\\t\\t\\t<span class=\"glyphicon glyphicon-star\"></span>\\n\\t\\t\\t\\t\\t\\t\\t</p>\\n\\t\\t</div>\\n\\t</div>\\n</div>\\n\\t\\t\\t<div class=\"col-sm-4 col-lg-4 col-md-4\">\\n\\t<div class=\"thumbnail\">\\n\\t\\t<img class=\"img-responsive\" alt=\"item\"\\n\\t\\t     src=\"/images/test-sites/e-commerce/items/cart2.png\">\\n\\t\\t<div class=\"caption\">\\n\\t\\t\\t<h4 class=\"pull-right price\">$1179.00</h4>\\n\\t\\t\\t<h4>\\n\\t\\t\\t\\t\\t\\t\\t\\t\\t<a href=\"/test-sites/e-commerce/allinone/product/603\" class=\"title\" title=\"MSI GS63 7RD Stealth\">MSI GS63 7RD Ste...</a>\\n\\t\\t\\t\\t\\t\\t\\t</h4>\\n\\t\\t\\t<p class=\"description\">MSI GS63 7RD Stealth, 15.6&quot; FHD IPS, Core i7-7700HQ, 8GB, 256GB SSD, GeForce GTX 1050 2GB, DOS + Windows 10 Home</p>\\n\\n\\t\\t</div>\\n\\t\\t<div class=\"ratings\">\\n\\t\\t\\t<p class=\"pull-right\">2 reviews</p>\\n\\t\\t\\t<p data-rating=\"1\">\\n\\t\\t\\t\\t\\t\\t\\t\\t<span class=\"glyphicon glyphicon-star\"></span>\\n\\t\\t\\t\\t\\t\\t\\t</p>\\n\\t\\t</div>\\n\\t</div>\\n</div>\\n\\t\\t\\t<div class=\"col-sm-4 col-lg-4 col-md-4\">\\n\\t<div class=\"thumbnail\">\\n\\t\\t<img class=\"img-responsive\" alt=\"item\"\\n\\t\\t     src=\"/images/test-sites/e-commerce/items/cart2.png\">\\n\\t\\t<div class=\"caption\">\\n\\t\\t\\t<h4 class=\"pull-right price\">$1187.88</h4>\\n\\t\\t\\t<h4>\\n\\t\\t\\t\\t\\t\\t\\t\\t\\t<a href=\"/test-sites/e-commerce/allinone/product/604\" class=\"title\" title=\"Dell Latitude 5480\">Dell Latitude 54...</a>\\n\\t\\t\\t\\t\\t\\t\\t</h4>\\n\\t\\t\\t<p class=\"description\">Dell Latitude 5480, 14&quot; FHD, Core i5-7300U, 8GB, 256GB SSD, Windows 10 Pro</p>\\n\\n\\t\\t</div>\\n\\t\\t<div class=\"ratings\">\\n\\t\\t\\t<p class=\"pull-right\">5 reviews</p>\\n\\t\\t\\t<p data-rating=\"3\">\\n\\t\\t\\t\\t\\t\\t\\t\\t<span class=\"glyphicon glyphicon-star\"></span>\\n\\t\\t\\t\\t\\t\\t\\t\\t<span class=\"glyphicon glyphicon-star\"></span>\\n\\t\\t\\t\\t\\t\\t\\t\\t<span class=\"glyphicon glyphicon-star\"></span>\\n\\t\\t\\t\\t\\t\\t\\t</p>\\n\\t\\t</div>\\n\\t</div>\\n</div>\\n\\t\\t\\t<div class=\"col-sm-4 col-lg-4 col-md-4\">\\n\\t<div class=\"thumbnail\">\\n\\t\\t<img class=\"img-responsive\" alt=\"item\"\\n\\t\\t     src=\"/images/test-sites/e-commerce/items/cart2.png\">\\n\\t\\t<div class=\"caption\">\\n\\t\\t\\t<h4 class=\"pull-right price\">$1187.98</h4>\\n\\t\\t\\t<h4>\\n\\t\\t\\t\\t\\t\\t\\t\\t\\t<a href=\"/test-sites/e-commerce/allinone/product/605\" class=\"title\" title=\"Acer Predator Helios 300 (PH317-51)\">Acer Predator He...</a>\\n\\t\\t\\t\\t\\t\\t\\t</h4>\\n\\t\\t\\t<p class=\"description\">Acer Predator Helios 300 (PH317-51), 17.3&quot; FHD IPS, Core i7-7700HQ. 8GB, 128GB SSD +1TB, GeForce GTX 1050Ti 4GB, Linux + Windows 10 Home</p>\\n\\n\\t\\t</div>\\n\\t\\t<div class=\"ratings\">\\n\\t\\t\\t<p class=\"pull-right\">14 reviews</p>\\n\\t\\t\\t<p data-rating=\"3\">\\n\\t\\t\\t\\t\\t\\t\\t\\t<span class=\"glyphicon glyphicon-star\"></span>\\n\\t\\t\\t\\t\\t\\t\\t\\t<span class=\"glyphicon glyphicon-star\"></span>\\n\\t\\t\\t\\t\\t\\t\\t\\t<span class=\"glyphicon glyphicon-star\"></span>\\n\\t\\t\\t\\t\\t\\t\\t</p>\\n\\t\\t</div>\\n\\t</div>\\n</div>\\n\\t\\t\\t<div class=\"col-sm-4 col-lg-4 col-md-4\">\\n\\t<div class=\"thumbnail\">\\n\\t\\t<img class=\"img-responsive\" alt=\"item\"\\n\\t\\t     src=\"/images/test-sites/e-commerce/items/cart2.png\">\\n\\t\\t<div class=\"caption\">\\n\\t\\t\\t<h4 class=\"pull-right price\">$1199.00</h4>\\n\\t\\t\\t<h4>\\n\\t\\t\\t\\t\\t\\t\\t\\t\\t<a href=\"/test-sites/e-commerce/allinone/product/606\" class=\"title\" title=\"MSI GL62M 7REX\">MSI GL62M 7REX</a>\\n\\t\\t\\t\\t\\t\\t\\t</h4>\\n\\t\\t\\t<p class=\"description\">MSI GL62M 7REX, 15.6&quot; FHD, Core i7-7700HQ, 8GB, 1TB + 128GB SSD, GeForce GTX 1050 Ti 2GB, Windows 10 Home</p>\\n\\n\\t\\t</div>\\n\\t\\t<div class=\"ratings\">\\n\\t\\t\\t<p class=\"pull-right\">7 reviews</p>\\n\\t\\t\\t<p data-rating=\"1\">\\n\\t\\t\\t\\t\\t\\t\\t\\t<span class=\"glyphicon glyphicon-star\"></span>\\n\\t\\t\\t\\t\\t\\t\\t</p>\\n\\t\\t</div>\\n\\t</div>\\n</div>\\n\\t\\t\\t<div class=\"col-sm-4 col-lg-4 col-md-4\">\\n\\t<div class=\"thumbnail\">\\n\\t\\t<img class=\"img-responsive\" alt=\"item\"\\n\\t\\t     src=\"/images/test-sites/e-commerce/items/cart2.png\">\\n\\t\\t<div class=\"caption\">\\n\\t\\t\\t<h4 class=\"pull-right price\">$1199.00</h4>\\n\\t\\t\\t<h4>\\n\\t\\t\\t\\t\\t\\t\\t\\t\\t<a href=\"/test-sites/e-commerce/allinone/product/607\" class=\"title\" title=\"MSI GL62M 7REX2\">MSI GL62M 7REX2</a>\\n\\t\\t\\t\\t\\t\\t\\t</h4>\\n\\t\\t\\t<p class=\"description\">MSI GL62M 7REX2, 15.6&quot; FHD, Core i7-7700HQ, 8GB, 1TB + 128GB SSD, GeForce GTX 1050 Ti 2GB, Windows 10 Home</p>\\n\\n\\t\\t</div>\\n\\t\\t<div class=\"ratings\">\\n\\t\\t\\t<p class=\"pull-right\">12 reviews</p>\\n\\t\\t\\t<p data-rating=\"2\">\\n\\t\\t\\t\\t\\t\\t\\t\\t<span class=\"glyphicon glyphicon-star\"></span>\\n\\t\\t\\t\\t\\t\\t\\t\\t<span class=\"glyphicon glyphicon-star\"></span>\\n\\t\\t\\t\\t\\t\\t\\t</p>\\n\\t\\t</div>\\n\\t</div>\\n</div>\\n\\t\\t\\t<div class=\"col-sm-4 col-lg-4 col-md-4\">\\n\\t<div class=\"thumbnail\">\\n\\t\\t<img class=\"img-responsive\" alt=\"item\"\\n\\t\\t     src=\"/images/test-sites/e-commerce/items/cart2.png\">\\n\\t\\t<div class=\"caption\">\\n\\t\\t\\t<h4 class=\"pull-right price\">$1199.73</h4>\\n\\t\\t\\t<h4>\\n\\t\\t\\t\\t\\t\\t\\t\\t\\t<a href=\"/test-sites/e-commerce/allinone/product/608\" class=\"title\" title=\"Lenovo Yoga 910 Grey\">Lenovo Yoga 910...</a>\\n\\t\\t\\t\\t\\t\\t\\t</h4>\\n\\t\\t\\t<p class=\"description\">Lenovo Yoga 910 Grey, 13.9&quot; FHD Touch, Core i5-7200U, 8GB, 256GB SSD, Windows 10 Home</p>\\n\\n\\t\\t</div>\\n\\t\\t<div class=\"ratings\">\\n\\t\\t\\t<p class=\"pull-right\">7 reviews</p>\\n\\t\\t\\t<p data-rating=\"3\">\\n\\t\\t\\t\\t\\t\\t\\t\\t<span class=\"glyphicon glyphicon-star\"></span>\\n\\t\\t\\t\\t\\t\\t\\t\\t<span class=\"glyphicon glyphicon-star\"></span>\\n\\t\\t\\t\\t\\t\\t\\t\\t<span class=\"glyphicon glyphicon-star\"></span>\\n\\t\\t\\t\\t\\t\\t\\t</p>\\n\\t\\t</div>\\n\\t</div>\\n</div>\\n\\t\\t\\t<div class=\"col-sm-4 col-lg-4 col-md-4\">\\n\\t<div class=\"thumbnail\">\\n\\t\\t<img class=\"img-responsive\" alt=\"item\"\\n\\t\\t     src=\"/images/test-sites/e-commerce/items/cart2.png\">\\n\\t\\t<div class=\"caption\">\\n\\t\\t\\t<h4 class=\"pull-right price\">$1203.41</h4>\\n\\t\\t\\t<h4>\\n\\t\\t\\t\\t\\t\\t\\t\\t\\t<a href=\"/test-sites/e-commerce/allinone/product/609\" class=\"title\" title=\"Toshiba Portege X30-D-10J Black/Blue\">Toshiba Portege...</a>\\n\\t\\t\\t\\t\\t\\t\\t</h4>\\n\\t\\t\\t<p class=\"description\">Toshiba Portege X30-D-10J Black/Blue, 13.3&quot; FHD IPS, Core i5-7200U, 8GB, 256GB SSD, Windows 10 Pro</p>\\n\\n\\t\\t</div>\\n\\t\\t<div class=\"ratings\">\\n\\t\\t\\t<p class=\"pull-right\">13 reviews</p>\\n\\t\\t\\t<p data-rating=\"4\">\\n\\t\\t\\t\\t\\t\\t\\t\\t<span class=\"glyphicon glyphicon-star\"></span>\\n\\t\\t\\t\\t\\t\\t\\t\\t<span class=\"glyphicon glyphicon-star\"></span>\\n\\t\\t\\t\\t\\t\\t\\t\\t<span class=\"glyphicon glyphicon-star\"></span>\\n\\t\\t\\t\\t\\t\\t\\t\\t<span class=\"glyphicon glyphicon-star\"></span>\\n\\t\\t\\t\\t\\t\\t\\t</p>\\n\\t\\t</div>\\n\\t</div>\\n</div>\\n\\t\\t\\t<div class=\"col-sm-4 col-lg-4 col-md-4\">\\n\\t<div class=\"thumbnail\">\\n\\t\\t<img class=\"img-responsive\" alt=\"item\"\\n\\t\\t     src=\"/images/test-sites/e-commerce/items/cart2.png\">\\n\\t\\t<div class=\"caption\">\\n\\t\\t\\t<h4 class=\"pull-right price\">$1212.16</h4>\\n\\t\\t\\t<h4>\\n\\t\\t\\t\\t\\t\\t\\t\\t\\t<a href=\"/test-sites/e-commerce/allinone/product/610\" class=\"title\" title=\"Lenovo IdeaPad Miix 510 Platinum Silver\">Lenovo IdeaPad M...</a>\\n\\t\\t\\t\\t\\t\\t\\t</h4>\\n\\t\\t\\t<p class=\"description\">Lenovo IdeaPad Miix 510 Platinum Silver, 12.2&quot; IPS Touch, Core i5-7200U, 8GB, 256GB SSD, 4G, Windows 10 Pro</p>\\n\\n\\t\\t</div>\\n\\t\\t<div class=\"ratings\">\\n\\t\\t\\t<p class=\"pull-right\">0 reviews</p>\\n\\t\\t\\t<p data-rating=\"4\">\\n\\t\\t\\t\\t\\t\\t\\t\\t<span class=\"glyphicon glyphicon-star\"></span>\\n\\t\\t\\t\\t\\t\\t\\t\\t<span class=\"glyphicon glyphicon-star\"></span>\\n\\t\\t\\t\\t\\t\\t\\t\\t<span class=\"glyphicon glyphicon-star\"></span>\\n\\t\\t\\t\\t\\t\\t\\t\\t<span class=\"glyphicon glyphicon-star\"></span>\\n\\t\\t\\t\\t\\t\\t\\t</p>\\n\\t\\t</div>\\n\\t</div>\\n</div>\\n\\t\\t\\t<div class=\"col-sm-4 col-lg-4 col-md-4\">\\n\\t<div class=\"thumbnail\">\\n\\t\\t<img class=\"img-responsive\" alt=\"item\"\\n\\t\\t     src=\"/images/test-sites/e-commerce/items/cart2.png\">\\n\\t\\t<div class=\"caption\">\\n\\t\\t\\t<h4 class=\"pull-right price\">$1221.58</h4>\\n\\t\\t\\t<h4>\\n\\t\\t\\t\\t\\t\\t\\t\\t\\t<a href=\"/test-sites/e-commerce/allinone/product/611\" class=\"title\" title=\"Acer Predator Helios 300 (PH317-51)\">Acer Predator He...</a>\\n\\t\\t\\t\\t\\t\\t\\t</h4>\\n\\t\\t\\t<p class=\"description\">Acer Predator Helios 300 (PH317-51), 17.3&quot; FHD IPS, Core i7-7700HQ, 8GB, 1TB + 128GB SSD, GeForce GTX 1050 Ti 4GB, Windows 10 Home</p>\\n\\n\\t\\t</div>\\n\\t\\t<div class=\"ratings\">\\n\\t\\t\\t<p class=\"pull-right\">9 reviews</p>\\n\\t\\t\\t<p data-rating=\"1\">\\n\\t\\t\\t\\t\\t\\t\\t\\t<span class=\"glyphicon glyphicon-star\"></span>\\n\\t\\t\\t\\t\\t\\t\\t</p>\\n\\t\\t</div>\\n\\t</div>\\n</div>\\n\\t\\t\\t<div class=\"col-sm-4 col-lg-4 col-md-4\">\\n\\t<div class=\"thumbnail\">\\n\\t\\t<img class=\"img-responsive\" alt=\"item\"\\n\\t\\t     src=\"/images/test-sites/e-commerce/items/cart2.png\">\\n\\t\\t<div class=\"caption\">\\n\\t\\t\\t<h4 class=\"pull-right price\">$1223.99</h4>\\n\\t\\t\\t<h4>\\n\\t\\t\\t\\t\\t\\t\\t\\t\\t<a href=\"/test-sites/e-commerce/allinone/product/528\" class=\"title\" title=\"ThinkPad Yoga\">ThinkPad Yoga</a>\\n\\t\\t\\t\\t\\t\\t\\t</h4>\\n\\t\\t\\t<p class=\"description\">12.5&quot; Touch, Core i5 4200U, 8GB, 500GB + 16GB SSD Cache, Windows</p>\\n\\n\\t\\t</div>\\n\\t\\t<div class=\"ratings\">\\n\\t\\t\\t<p class=\"pull-right\">2 reviews</p>\\n\\t\\t\\t<p data-rating=\"3\">\\n\\t\\t\\t\\t\\t\\t\\t\\t<span class=\"glyphicon glyphicon-star\"></span>\\n\\t\\t\\t\\t\\t\\t\\t\\t<span class=\"glyphicon glyphicon-star\"></span>\\n\\t\\t\\t\\t\\t\\t\\t\\t<span class=\"glyphicon glyphicon-star\"></span>\\n\\t\\t\\t\\t\\t\\t\\t</p>\\n\\t\\t</div>\\n\\t</div>\\n</div>\\n\\t\\t\\t<div class=\"col-sm-4 col-lg-4 col-md-4\">\\n\\t<div class=\"thumbnail\">\\n\\t\\t<img class=\"img-responsive\" alt=\"item\"\\n\\t\\t     src=\"/images/test-sites/e-commerce/items/cart2.png\">\\n\\t\\t<div class=\"caption\">\\n\\t\\t\\t<h4 class=\"pull-right price\">$1235.49</h4>\\n\\t\\t\\t<h4>\\n\\t\\t\\t\\t\\t\\t\\t\\t\\t<a href=\"/test-sites/e-commerce/allinone/product/612\" class=\"title\" title=\"Asus VivoBook Pro 15 N580VN-FI006T Gold Metal\">Asus VivoBook Pr...</a>\\n\\t\\t\\t\\t\\t\\t\\t</h4>\\n\\t\\t\\t<p class=\"description\">Asus VivoBook Pro 15 N580VN-FI006T Gold Metal, 15.6&quot; UHD, Core i7-7700HQ, 16GB, 1TB + 256GB SSD, GeForce MX150 2GB, Windows 10 Home, Eng kbd</p>\\n\\n\\t\\t</div>\\n\\t\\t<div class=\"ratings\">\\n\\t\\t\\t<p class=\"pull-right\">10 reviews</p>\\n\\t\\t\\t<p data-rating=\"2\">\\n\\t\\t\\t\\t\\t\\t\\t\\t<span class=\"glyphicon glyphicon-star\"></span>\\n\\t\\t\\t\\t\\t\\t\\t\\t<span class=\"glyphicon glyphicon-star\"></span>\\n\\t\\t\\t\\t\\t\\t\\t</p>\\n\\t\\t</div>\\n\\t</div>\\n</div>\\n\\t\\t\\t<div class=\"col-sm-4 col-lg-4 col-md-4\">\\n\\t<div class=\"thumbnail\">\\n\\t\\t<img class=\"img-responsive\" alt=\"item\"\\n\\t\\t     src=\"/images/test-sites/e-commerce/items/cart2.png\">\\n\\t\\t<div class=\"caption\">\\n\\t\\t\\t<h4 class=\"pull-right price\">$1238.37</h4>\\n\\t\\t\\t<h4>\\n\\t\\t\\t\\t\\t\\t\\t\\t\\t<a href=\"/test-sites/e-commerce/allinone/product/613\" class=\"title\" title=\"Dell Latitude 5480\">Dell Latitude 54...</a>\\n\\t\\t\\t\\t\\t\\t\\t</h4>\\n\\t\\t\\t<p class=\"description\">Dell Latitude 5480, 14&quot; FHD, Core i7-7600U, 8GB, 256GB SSD, Linux</p>\\n\\n\\t\\t</div>\\n\\t\\t<div class=\"ratings\">\\n\\t\\t\\t<p class=\"pull-right\">0 reviews</p>\\n\\t\\t\\t<p data-rating=\"2\">\\n\\t\\t\\t\\t\\t\\t\\t\\t<span class=\"glyphicon glyphicon-star\"></span>\\n\\t\\t\\t\\t\\t\\t\\t\\t<span class=\"glyphicon glyphicon-star\"></span>\\n\\t\\t\\t\\t\\t\\t\\t</p>\\n\\t\\t</div>\\n\\t</div>\\n</div>\\n\\t\\t\\t<div class=\"col-sm-4 col-lg-4 col-md-4\">\\n\\t<div class=\"thumbnail\">\\n\\t\\t<img class=\"img-responsive\" alt=\"item\"\\n\\t\\t     src=\"/images/test-sites/e-commerce/items/cart2.png\">\\n\\t\\t<div class=\"caption\">\\n\\t\\t\\t<h4 class=\"pull-right price\">$1239.20</h4>\\n\\t\\t\\t<h4>\\n\\t\\t\\t\\t\\t\\t\\t\\t\\t<a href=\"/test-sites/e-commerce/allinone/product/614\" class=\"title\" title=\"Asus ZenBook UX530UX-FY040T Blue\">Asus ZenBook UX5...</a>\\n\\t\\t\\t\\t\\t\\t\\t</h4>\\n\\t\\t\\t<p class=\"description\">Asus ZenBook UX530UX-FY040T Blue, 15.6&quot; FHD, Core i7-7500U, 8GB, 512GB SSD, GeForce GTX950M 2GB, Windows 10 Home, Eng kbd</p>\\n\\n\\t\\t</div>\\n\\t\\t<div class=\"ratings\">\\n\\t\\t\\t<p class=\"pull-right\">14 reviews</p>\\n\\t\\t\\t<p data-rating=\"1\">\\n\\t\\t\\t\\t\\t\\t\\t\\t<span class=\"glyphicon glyphicon-star\"></span>\\n\\t\\t\\t\\t\\t\\t\\t</p>\\n\\t\\t</div>\\n\\t</div>\\n</div>\\n\\t\\t\\t<div class=\"col-sm-4 col-lg-4 col-md-4\">\\n\\t<div class=\"thumbnail\">\\n\\t\\t<img class=\"img-responsive\" alt=\"item\"\\n\\t\\t     src=\"/images/test-sites/e-commerce/items/cart2.png\">\\n\\t\\t<div class=\"caption\">\\n\\t\\t\\t<h4 class=\"pull-right price\">$1244.99</h4>\\n\\t\\t\\t<h4>\\n\\t\\t\\t\\t\\t\\t\\t\\t\\t<a href=\"/test-sites/e-commerce/allinone/product/526\" class=\"title\" title=\"ThinkPad X230\">ThinkPad X230</a>\\n\\t\\t\\t\\t\\t\\t\\t</h4>\\n\\t\\t\\t<p class=\"description\">12.5&quot;, Core i5 2.6GHz, 8GB, 180GB SSD, Win7 Pro 64bit</p>\\n\\n\\t\\t</div>\\n\\t\\t<div class=\"ratings\">\\n\\t\\t\\t<p class=\"pull-right\">10 reviews</p>\\n\\t\\t\\t<p data-rating=\"3\">\\n\\t\\t\\t\\t\\t\\t\\t\\t<span class=\"glyphicon glyphicon-star\"></span>\\n\\t\\t\\t\\t\\t\\t\\t\\t<span class=\"glyphicon glyphicon-star\"></span>\\n\\t\\t\\t\\t\\t\\t\\t\\t<span class=\"glyphicon glyphicon-star\"></span>\\n\\t\\t\\t\\t\\t\\t\\t</p>\\n\\t\\t</div>\\n\\t</div>\\n</div>\\n\\t\\t\\t<div class=\"col-sm-4 col-lg-4 col-md-4\">\\n\\t<div class=\"thumbnail\">\\n\\t\\t<img class=\"img-responsive\" alt=\"item\"\\n\\t\\t     src=\"/images/test-sites/e-commerce/items/cart2.png\">\\n\\t\\t<div class=\"caption\">\\n\\t\\t\\t<h4 class=\"pull-right price\">$1259.00</h4>\\n\\t\\t\\t<h4>\\n\\t\\t\\t\\t\\t\\t\\t\\t\\t<a href=\"/test-sites/e-commerce/allinone/product/615\" class=\"title\" title=\"Asus ROG Strix GL753VE-GC096T\">Asus ROG Strix G...</a>\\n\\t\\t\\t\\t\\t\\t\\t</h4>\\n\\t\\t\\t<p class=\"description\">Asus ROG Strix GL753VE-GC096T, 17.3&quot; FHD, Core i7-7700HQ, 8GB, 1TB + 128GB SSD, GeForce GTX 1050 Ti 4GB, Windows 10 Home, Eng kbd</p>\\n\\n\\t\\t</div>\\n\\t\\t<div class=\"ratings\">\\n\\t\\t\\t<p class=\"pull-right\">7 reviews</p>\\n\\t\\t\\t<p data-rating=\"4\">\\n\\t\\t\\t\\t\\t\\t\\t\\t<span class=\"glyphicon glyphicon-star\"></span>\\n\\t\\t\\t\\t\\t\\t\\t\\t<span class=\"glyphicon glyphicon-star\"></span>\\n\\t\\t\\t\\t\\t\\t\\t\\t<span class=\"glyphicon glyphicon-star\"></span>\\n\\t\\t\\t\\t\\t\\t\\t\\t<span class=\"glyphicon glyphicon-star\"></span>\\n\\t\\t\\t\\t\\t\\t\\t</p>\\n\\t\\t</div>\\n\\t</div>\\n</div>\\n\\t\\t\\t<div class=\"col-sm-4 col-lg-4 col-md-4\">\\n\\t<div class=\"thumbnail\">\\n\\t\\t<img class=\"img-responsive\" alt=\"item\"\\n\\t\\t     src=\"/images/test-sites/e-commerce/items/cart2.png\">\\n\\t\\t<div class=\"caption\">\\n\\t\\t\\t<h4 class=\"pull-right price\">$1260.13</h4>\\n\\t\\t\\t<h4>\\n\\t\\t\\t\\t\\t\\t\\t\\t\\t<a href=\"/test-sites/e-commerce/allinone/product/616\" class=\"title\" title=\"Apple MacBook Air 13&quot;\">Apple MacBook Ai...</a>\\n\\t\\t\\t\\t\\t\\t\\t</h4>\\n\\t\\t\\t<p class=\"description\">Apple MacBook Air 13&quot;, i5 1.8GHz, 8GB, 256GB SSD, Intel HD 6000, ENG</p>\\n\\n\\t\\t</div>\\n\\t\\t<div class=\"ratings\">\\n\\t\\t\\t<p class=\"pull-right\">8 reviews</p>\\n\\t\\t\\t<p data-rating=\"4\">\\n\\t\\t\\t\\t\\t\\t\\t\\t<span class=\"glyphicon glyphicon-star\"></span>\\n\\t\\t\\t\\t\\t\\t\\t\\t<span class=\"glyphicon glyphicon-star\"></span>\\n\\t\\t\\t\\t\\t\\t\\t\\t<span class=\"glyphicon glyphicon-star\"></span>\\n\\t\\t\\t\\t\\t\\t\\t\\t<span class=\"glyphicon glyphicon-star\"></span>\\n\\t\\t\\t\\t\\t\\t\\t</p>\\n\\t\\t</div>\\n\\t</div>\\n</div>\\n\\t\\t\\t<div class=\"col-sm-4 col-lg-4 col-md-4\">\\n\\t<div class=\"thumbnail\">\\n\\t\\t<img class=\"img-responsive\" alt=\"item\"\\n\\t\\t     src=\"/images/test-sites/e-commerce/items/cart2.png\">\\n\\t\\t<div class=\"caption\">\\n\\t\\t\\t<h4 class=\"pull-right price\">$1271.06</h4>\\n\\t\\t\\t<h4>\\n\\t\\t\\t\\t\\t\\t\\t\\t\\t<a href=\"/test-sites/e-commerce/allinone/product/617\" class=\"title\" title=\"Dell Latitude 5480\">Dell Latitude 54...</a>\\n\\t\\t\\t\\t\\t\\t\\t</h4>\\n\\t\\t\\t<p class=\"description\">Dell Latitude 5480, 14&quot; FHD, Core i7-7600U, 8GB, 1TB, GeForce GT930MX, Windows 10 Pro</p>\\n\\n\\t\\t</div>\\n\\t\\t<div class=\"ratings\">\\n\\t\\t\\t<p class=\"pull-right\">13 reviews</p>\\n\\t\\t\\t<p data-rating=\"1\">\\n\\t\\t\\t\\t\\t\\t\\t\\t<span class=\"glyphicon glyphicon-star\"></span>\\n\\t\\t\\t\\t\\t\\t\\t</p>\\n\\t\\t</div>\\n\\t</div>\\n</div>\\n\\t\\t\\t<div class=\"col-sm-4 col-lg-4 col-md-4\">\\n\\t<div class=\"thumbnail\">\\n\\t\\t<img class=\"img-responsive\" alt=\"item\"\\n\\t\\t     src=\"/images/test-sites/e-commerce/items/cart2.png\">\\n\\t\\t<div class=\"caption\">\\n\\t\\t\\t<h4 class=\"pull-right price\">$1273.11</h4>\\n\\t\\t\\t<h4>\\n\\t\\t\\t\\t\\t\\t\\t\\t\\t<a href=\"/test-sites/e-commerce/allinone/product/618\" class=\"title\" title=\"Hewlett Packard Spectre 13-v106na Dark Ash Silver\">Hewlett Packard...</a>\\n\\t\\t\\t\\t\\t\\t\\t</h4>\\n\\t\\t\\t<p class=\"description\">Hewlett Packard Spectre 13-v106na Dark Ash Silver, 13.3&quot; FHD IPS, Core i5-7200U, 8GB, 256GB SSD, Windows 10 Home</p>\\n\\n\\t\\t</div>\\n\\t\\t<div class=\"ratings\">\\n\\t\\t\\t<p class=\"pull-right\">8 reviews</p>\\n\\t\\t\\t<p data-rating=\"3\">\\n\\t\\t\\t\\t\\t\\t\\t\\t<span class=\"glyphicon glyphicon-star\"></span>\\n\\t\\t\\t\\t\\t\\t\\t\\t<span class=\"glyphicon glyphicon-star\"></span>\\n\\t\\t\\t\\t\\t\\t\\t\\t<span class=\"glyphicon glyphicon-star\"></span>\\n\\t\\t\\t\\t\\t\\t\\t</p>\\n\\t\\t</div>\\n\\t</div>\\n</div>\\n\\t\\t\\t<div class=\"col-sm-4 col-lg-4 col-md-4\">\\n\\t<div class=\"thumbnail\">\\n\\t\\t<img class=\"img-responsive\" alt=\"item\"\\n\\t\\t     src=\"/images/test-sites/e-commerce/items/cart2.png\">\\n\\t\\t<div class=\"caption\">\\n\\t\\t\\t<h4 class=\"pull-right price\">$1281.99</h4>\\n\\t\\t\\t<h4>\\n\\t\\t\\t\\t\\t\\t\\t\\t\\t<a href=\"/test-sites/e-commerce/allinone/product/525\" class=\"title\" title=\"Dell XPS 13\">Dell XPS 13</a>\\n\\t\\t\\t\\t\\t\\t\\t</h4>\\n\\t\\t\\t<p class=\"description\">13.3&quot; Touch, Core i5-4210U, 8GB, 128GB SSD, Windows 8.1</p>\\n\\n\\t\\t</div>\\n\\t\\t<div class=\"ratings\">\\n\\t\\t\\t<p class=\"pull-right\">4 reviews</p>\\n\\t\\t\\t<p data-rating=\"3\">\\n\\t\\t\\t\\t\\t\\t\\t\\t<span class=\"glyphicon glyphicon-star\"></span>\\n\\t\\t\\t\\t\\t\\t\\t\\t<span class=\"glyphicon glyphicon-star\"></span>\\n\\t\\t\\t\\t\\t\\t\\t\\t<span class=\"glyphicon glyphicon-star\"></span>\\n\\t\\t\\t\\t\\t\\t\\t</p>\\n\\t\\t</div>\\n\\t</div>\\n</div>\\n\\t\\t\\t<div class=\"col-sm-4 col-lg-4 col-md-4\">\\n\\t<div class=\"thumbnail\">\\n\\t\\t<img class=\"img-responsive\" alt=\"item\"\\n\\t\\t     src=\"/images/test-sites/e-commerce/items/cart2.png\">\\n\\t\\t<div class=\"caption\">\\n\\t\\t\\t<h4 class=\"pull-right price\">$1294.74</h4>\\n\\t\\t\\t<h4>\\n\\t\\t\\t\\t\\t\\t\\t\\t\\t<a href=\"/test-sites/e-commerce/allinone/product/619\" class=\"title\" title=\"Toshiba Portege Z30-C-16K Grey\">Toshiba Portege...</a>\\n\\t\\t\\t\\t\\t\\t\\t</h4>\\n\\t\\t\\t<p class=\"description\">Toshiba Portege Z30-C-16K Grey, 13.3&quot; FHD, Core i5-6200U, 8GB, 256GB SSD, 4G, Windows 10 Pro</p>\\n\\n\\t\\t</div>\\n\\t\\t<div class=\"ratings\">\\n\\t\\t\\t<p class=\"pull-right\">6 reviews</p>\\n\\t\\t\\t<p data-rating=\"1\">\\n\\t\\t\\t\\t\\t\\t\\t\\t<span class=\"glyphicon glyphicon-star\"></span>\\n\\t\\t\\t\\t\\t\\t\\t</p>\\n\\t\\t</div>\\n\\t</div>\\n</div>\\n\\t\\t\\t<div class=\"col-sm-4 col-lg-4 col-md-4\">\\n\\t<div class=\"thumbnail\">\\n\\t\\t<img class=\"img-responsive\" alt=\"item\"\\n\\t\\t     src=\"/images/test-sites/e-commerce/items/cart2.png\">\\n\\t\\t<div class=\"caption\">\\n\\t\\t\\t<h4 class=\"pull-right price\">$1299.00</h4>\\n\\t\\t\\t<h4>\\n\\t\\t\\t\\t\\t\\t\\t\\t\\t<a href=\"/test-sites/e-commerce/allinone/product/620\" class=\"title\" title=\"MSI GL62VR 7RFX\">MSI GL62VR 7RFX</a>\\n\\t\\t\\t\\t\\t\\t\\t</h4>\\n\\t\\t\\t<p class=\"description\">MSI GL62VR 7RFX, 15.6&quot; FHD, Core i7-7700HQ, 8GB, 1TB + 256GB SSD, GeForce GTX 1060 3GB, Windows 10 Home</p>\\n\\n\\t\\t</div>\\n\\t\\t<div class=\"ratings\">\\n\\t\\t\\t<p class=\"pull-right\">1 reviews</p>\\n\\t\\t\\t<p data-rating=\"3\">\\n\\t\\t\\t\\t\\t\\t\\t\\t<span class=\"glyphicon glyphicon-star\"></span>\\n\\t\\t\\t\\t\\t\\t\\t\\t<span class=\"glyphicon glyphicon-star\"></span>\\n\\t\\t\\t\\t\\t\\t\\t\\t<span class=\"glyphicon glyphicon-star\"></span>\\n\\t\\t\\t\\t\\t\\t\\t</p>\\n\\t\\t</div>\\n\\t</div>\\n</div>\\n\\t\\t\\t<div class=\"col-sm-4 col-lg-4 col-md-4\">\\n\\t<div class=\"thumbnail\">\\n\\t\\t<img class=\"img-responsive\" alt=\"item\"\\n\\t\\t     src=\"/images/test-sites/e-commerce/items/cart2.png\">\\n\\t\\t<div class=\"caption\">\\n\\t\\t\\t<h4 class=\"pull-right price\">$1310.39</h4>\\n\\t\\t\\t<h4>\\n\\t\\t\\t\\t\\t\\t\\t\\t\\t<a href=\"/test-sites/e-commerce/allinone/product/621\" class=\"title\" title=\"Dell Latitude 5480\">Dell Latitude 54...</a>\\n\\t\\t\\t\\t\\t\\t\\t</h4>\\n\\t\\t\\t<p class=\"description\">Dell Latitude 5480, 14&quot; FHD, Core i7-7600U, 8GB, 256GB SSD, Windows 10 Pro</p>\\n\\n\\t\\t</div>\\n\\t\\t<div class=\"ratings\">\\n\\t\\t\\t<p class=\"pull-right\">8 reviews</p>\\n\\t\\t\\t<p data-rating=\"3\">\\n\\t\\t\\t\\t\\t\\t\\t\\t<span class=\"glyphicon glyphicon-star\"></span>\\n\\t\\t\\t\\t\\t\\t\\t\\t<span class=\"glyphicon glyphicon-star\"></span>\\n\\t\\t\\t\\t\\t\\t\\t\\t<span class=\"glyphicon glyphicon-star\"></span>\\n\\t\\t\\t\\t\\t\\t\\t</p>\\n\\t\\t</div>\\n\\t</div>\\n</div>\\n\\t\\t\\t<div class=\"col-sm-4 col-lg-4 col-md-4\">\\n\\t<div class=\"thumbnail\">\\n\\t\\t<img class=\"img-responsive\" alt=\"item\"\\n\\t\\t     src=\"/images/test-sites/e-commerce/items/cart2.png\">\\n\\t\\t<div class=\"caption\">\\n\\t\\t\\t<h4 class=\"pull-right price\">$1311.99</h4>\\n\\t\\t\\t<h4>\\n\\t\\t\\t\\t\\t\\t\\t\\t\\t<a href=\"/test-sites/e-commerce/allinone/product/520\" class=\"title\" title=\"ThinkPad X240\">ThinkPad X240</a>\\n\\t\\t\\t\\t\\t\\t\\t</h4>\\n\\t\\t\\t<p class=\"description\">12.5&quot;, Core i5-4300U, 8GB, 240GB SSD, Win7 Pro 64bit</p>\\n\\n\\t\\t</div>\\n\\t\\t<div class=\"ratings\">\\n\\t\\t\\t<p class=\"pull-right\">12 reviews</p>\\n\\t\\t\\t<p data-rating=\"3\">\\n\\t\\t\\t\\t\\t\\t\\t\\t<span class=\"glyphicon glyphicon-star\"></span>\\n\\t\\t\\t\\t\\t\\t\\t\\t<span class=\"glyphicon glyphicon-star\"></span>\\n\\t\\t\\t\\t\\t\\t\\t\\t<span class=\"glyphicon glyphicon-star\"></span>\\n\\t\\t\\t\\t\\t\\t\\t</p>\\n\\t\\t</div>\\n\\t</div>\\n</div>\\n\\t\\t\\t<div class=\"col-sm-4 col-lg-4 col-md-4\">\\n\\t<div class=\"thumbnail\">\\n\\t\\t<img class=\"img-responsive\" alt=\"item\"\\n\\t\\t     src=\"/images/test-sites/e-commerce/items/cart2.png\">\\n\\t\\t<div class=\"caption\">\\n\\t\\t\\t<h4 class=\"pull-right price\">$1326.83</h4>\\n\\t\\t\\t<h4>\\n\\t\\t\\t\\t\\t\\t\\t\\t\\t<a href=\"/test-sites/e-commerce/allinone/product/622\" class=\"title\" title=\"Hewlett Packard ProBook 640 G3\">Hewlett Packard...</a>\\n\\t\\t\\t\\t\\t\\t\\t</h4>\\n\\t\\t\\t<p class=\"description\">Hewlett Packard ProBook 640 G3, 14&quot; FHD, Core i7-7600U, 8GB, 256GB SSD, Windows 10 Pro</p>\\n\\n\\t\\t</div>\\n\\t\\t<div class=\"ratings\">\\n\\t\\t\\t<p class=\"pull-right\">2 reviews</p>\\n\\t\\t\\t<p data-rating=\"1\">\\n\\t\\t\\t\\t\\t\\t\\t\\t<span class=\"glyphicon glyphicon-star\"></span>\\n\\t\\t\\t\\t\\t\\t\\t</p>\\n\\t\\t</div>\\n\\t</div>\\n</div>\\n\\t\\t\\t<div class=\"col-sm-4 col-lg-4 col-md-4\">\\n\\t<div class=\"thumbnail\">\\n\\t\\t<img class=\"img-responsive\" alt=\"item\"\\n\\t\\t     src=\"/images/test-sites/e-commerce/items/cart2.png\">\\n\\t\\t<div class=\"caption\">\\n\\t\\t\\t<h4 class=\"pull-right price\">$1333.00</h4>\\n\\t\\t\\t<h4>\\n\\t\\t\\t\\t\\t\\t\\t\\t\\t<a href=\"/test-sites/e-commerce/allinone/product/623\" class=\"title\" title=\"Apple MacBook Pro 13&quot; Space Gray\">Apple MacBook Pr...</a>\\n\\t\\t\\t\\t\\t\\t\\t</h4>\\n\\t\\t\\t<p class=\"description\">Apple MacBook Pro 13&quot; Space Gray, Core i5 2.3GHz, 8GB, 128GB SSD, Iris Plus 640, ENG</p>\\n\\n\\t\\t</div>\\n\\t\\t<div class=\"ratings\">\\n\\t\\t\\t<p class=\"pull-right\">0 reviews</p>\\n\\t\\t\\t<p data-rating=\"1\">\\n\\t\\t\\t\\t\\t\\t\\t\\t<span class=\"glyphicon glyphicon-star\"></span>\\n\\t\\t\\t\\t\\t\\t\\t</p>\\n\\t\\t</div>\\n\\t</div>\\n</div>\\n\\t\\t\\t<div class=\"col-sm-4 col-lg-4 col-md-4\">\\n\\t<div class=\"thumbnail\">\\n\\t\\t<img class=\"img-responsive\" alt=\"item\"\\n\\t\\t     src=\"/images/test-sites/e-commerce/items/cart2.png\">\\n\\t\\t<div class=\"caption\">\\n\\t\\t\\t<h4 class=\"pull-right price\">$1337.28</h4>\\n\\t\\t\\t<h4>\\n\\t\\t\\t\\t\\t\\t\\t\\t\\t<a href=\"/test-sites/e-commerce/allinone/product/624\" class=\"title\" title=\"Dell Latitude 5580\">Dell Latitude 55...</a>\\n\\t\\t\\t\\t\\t\\t\\t</h4>\\n\\t\\t\\t<p class=\"description\">Dell Latitude 5580, 15.6&quot; FHD, Core i7-7600U, 8GB, 256GB SSD, GeForce GT930MX, Windows 10 Pro</p>\\n\\n\\t\\t</div>\\n\\t\\t<div class=\"ratings\">\\n\\t\\t\\t<p class=\"pull-right\">6 reviews</p>\\n\\t\\t\\t<p data-rating=\"1\">\\n\\t\\t\\t\\t\\t\\t\\t\\t<span class=\"glyphicon glyphicon-star\"></span>\\n\\t\\t\\t\\t\\t\\t\\t</p>\\n\\t\\t</div>\\n\\t</div>\\n</div>\\n\\t\\t\\t<div class=\"col-sm-4 col-lg-4 col-md-4\">\\n\\t<div class=\"thumbnail\">\\n\\t\\t<img class=\"img-responsive\" alt=\"item\"\\n\\t\\t     src=\"/images/test-sites/e-commerce/items/cart2.png\">\\n\\t\\t<div class=\"caption\">\\n\\t\\t\\t<h4 class=\"pull-right price\">$1338.37</h4>\\n\\t\\t\\t<h4>\\n\\t\\t\\t\\t\\t\\t\\t\\t\\t<a href=\"/test-sites/e-commerce/allinone/product/625\" class=\"title\" title=\"Dell Latitude 5480\">Dell Latitude 54...</a>\\n\\t\\t\\t\\t\\t\\t\\t</h4>\\n\\t\\t\\t<p class=\"description\">Dell Latitude 5480, 14&quot; FHD, Core i7-7600U, 8GB, 256GB SSD, Linux + Windows 10 Home</p>\\n\\n\\t\\t</div>\\n\\t\\t<div class=\"ratings\">\\n\\t\\t\\t<p class=\"pull-right\">11 reviews</p>\\n\\t\\t\\t<p data-rating=\"2\">\\n\\t\\t\\t\\t\\t\\t\\t\\t<span class=\"glyphicon glyphicon-star\"></span>\\n\\t\\t\\t\\t\\t\\t\\t\\t<span class=\"glyphicon glyphicon-star\"></span>\\n\\t\\t\\t\\t\\t\\t\\t</p>\\n\\t\\t</div>\\n\\t</div>\\n</div>\\n\\t\\t\\t<div class=\"col-sm-4 col-lg-4 col-md-4\">\\n\\t<div class=\"thumbnail\">\\n\\t\\t<img class=\"img-responsive\" alt=\"item\"\\n\\t\\t     src=\"/images/test-sites/e-commerce/items/cart2.png\">\\n\\t\\t<div class=\"caption\">\\n\\t\\t\\t<h4 class=\"pull-right price\">$1341.22</h4>\\n\\t\\t\\t<h4>\\n\\t\\t\\t\\t\\t\\t\\t\\t\\t<a href=\"/test-sites/e-commerce/allinone/product/626\" class=\"title\" title=\"Dell Latitude 5580\">Dell Latitude 55...</a>\\n\\t\\t\\t\\t\\t\\t\\t</h4>\\n\\t\\t\\t<p class=\"description\">Dell Latitude 5580, 15.6&quot; FHD, Core i7-7600U, 16GB, 256GB SSD, GeForce GT930MX, Linux</p>\\n\\n\\t\\t</div>\\n\\t\\t<div class=\"ratings\">\\n\\t\\t\\t<p class=\"pull-right\">3 reviews</p>\\n\\t\\t\\t<p data-rating=\"3\">\\n\\t\\t\\t\\t\\t\\t\\t\\t<span class=\"glyphicon glyphicon-star\"></span>\\n\\t\\t\\t\\t\\t\\t\\t\\t<span class=\"glyphicon glyphicon-star\"></span>\\n\\t\\t\\t\\t\\t\\t\\t\\t<span class=\"glyphicon glyphicon-star\"></span>\\n\\t\\t\\t\\t\\t\\t\\t</p>\\n\\t\\t</div>\\n\\t</div>\\n</div>\\n\\t\\t\\t<div class=\"col-sm-4 col-lg-4 col-md-4\">\\n\\t<div class=\"thumbnail\">\\n\\t\\t<img class=\"img-responsive\" alt=\"item\"\\n\\t\\t     src=\"/images/test-sites/e-commerce/items/cart2.png\">\\n\\t\\t<div class=\"caption\">\\n\\t\\t\\t<h4 class=\"pull-right price\">$1347.78</h4>\\n\\t\\t\\t<h4>\\n\\t\\t\\t\\t\\t\\t\\t\\t\\t<a href=\"/test-sites/e-commerce/allinone/product/627\" class=\"title\" title=\"Apple MacBook Air 13&quot;\">Apple MacBook Ai...</a>\\n\\t\\t\\t\\t\\t\\t\\t</h4>\\n\\t\\t\\t<p class=\"description\">Apple MacBook Air 13&quot;, Intel Core i5 1.8GHz, 8GB, 256GB SSD, Intel HD 6000, RUS</p>\\n\\n\\t\\t</div>\\n\\t\\t<div class=\"ratings\">\\n\\t\\t\\t<p class=\"pull-right\">11 reviews</p>\\n\\t\\t\\t<p data-rating=\"2\">\\n\\t\\t\\t\\t\\t\\t\\t\\t<span class=\"glyphicon glyphicon-star\"></span>\\n\\t\\t\\t\\t\\t\\t\\t\\t<span class=\"glyphicon glyphicon-star\"></span>\\n\\t\\t\\t\\t\\t\\t\\t</p>\\n\\t\\t</div>\\n\\t</div>\\n</div>\\n\\t\\t\\t<div class=\"col-sm-4 col-lg-4 col-md-4\">\\n\\t<div class=\"thumbnail\">\\n\\t\\t<img class=\"img-responsive\" alt=\"item\"\\n\\t\\t     src=\"/images/test-sites/e-commerce/items/cart2.png\">\\n\\t\\t<div class=\"caption\">\\n\\t\\t\\t<h4 class=\"pull-right price\">$1349.23</h4>\\n\\t\\t\\t<h4>\\n\\t\\t\\t\\t\\t\\t\\t\\t\\t<a href=\"/test-sites/e-commerce/allinone/product/628\" class=\"title\" title=\"Lenovo ThinkPad T470\">Lenovo ThinkPad...</a>\\n\\t\\t\\t\\t\\t\\t\\t</h4>\\n\\t\\t\\t<p class=\"description\">Lenovo ThinkPad T470, 14&quot; FHD IPS, Core i5-7200U, 8GB, 256GB SSD, Windows 10 Pro</p>\\n\\n\\t\\t</div>\\n\\t\\t<div class=\"ratings\">\\n\\t\\t\\t<p class=\"pull-right\">5 reviews</p>\\n\\t\\t\\t<p data-rating=\"1\">\\n\\t\\t\\t\\t\\t\\t\\t\\t<span class=\"glyphicon glyphicon-star\"></span>\\n\\t\\t\\t\\t\\t\\t\\t</p>\\n\\t\\t</div>\\n\\t</div>\\n</div>\\n\\t\\t\\t<div class=\"col-sm-4 col-lg-4 col-md-4\">\\n\\t<div class=\"thumbnail\">\\n\\t\\t<img class=\"img-responsive\" alt=\"item\"\\n\\t\\t     src=\"/images/test-sites/e-commerce/items/cart2.png\">\\n\\t\\t<div class=\"caption\">\\n\\t\\t\\t<h4 class=\"pull-right price\">$1362.24</h4>\\n\\t\\t\\t<h4>\\n\\t\\t\\t\\t\\t\\t\\t\\t\\t<a href=\"/test-sites/e-commerce/allinone/product/629\" class=\"title\" title=\"Lenovo ThinkPad Yoga 370 Black\">Lenovo ThinkPad...</a>\\n\\t\\t\\t\\t\\t\\t\\t</h4>\\n\\t\\t\\t<p class=\"description\">Lenovo ThinkPad Yoga 370 Black, 13.3&quot; FHD IPS Touch, Core i5-7200U, 8GB, 256GB SSD, 4G, Windows 10 Pro</p>\\n\\n\\t\\t</div>\\n\\t\\t<div class=\"ratings\">\\n\\t\\t\\t<p class=\"pull-right\">12 reviews</p>\\n\\t\\t\\t<p data-rating=\"2\">\\n\\t\\t\\t\\t\\t\\t\\t\\t<span class=\"glyphicon glyphicon-star\"></span>\\n\\t\\t\\t\\t\\t\\t\\t\\t<span class=\"glyphicon glyphicon-star\"></span>\\n\\t\\t\\t\\t\\t\\t\\t</p>\\n\\t\\t</div>\\n\\t</div>\\n</div>\\n\\t\\t\\t<div class=\"col-sm-4 col-lg-4 col-md-4\">\\n\\t<div class=\"thumbnail\">\\n\\t\\t<img class=\"img-responsive\" alt=\"item\"\\n\\t\\t     src=\"/images/test-sites/e-commerce/items/cart2.png\">\\n\\t\\t<div class=\"caption\">\\n\\t\\t\\t<h4 class=\"pull-right price\">$1366.32</h4>\\n\\t\\t\\t<h4>\\n\\t\\t\\t\\t\\t\\t\\t\\t\\t<a href=\"/test-sites/e-commerce/allinone/product/630\" class=\"title\" title=\"Toshiba Portege X20W-D-10V Black/Blue\">Toshiba Portege...</a>\\n\\t\\t\\t\\t\\t\\t\\t</h4>\\n\\t\\t\\t<p class=\"description\">Toshiba Portege X20W-D-10V Black/Blue, 12.5&quot; FHD Touch, Core i7-7500U, 8GB, 512GB SSD, Windows 10 Pro</p>\\n\\n\\t\\t</div>\\n\\t\\t<div class=\"ratings\">\\n\\t\\t\\t<p class=\"pull-right\">11 reviews</p>\\n\\t\\t\\t<p data-rating=\"1\">\\n\\t\\t\\t\\t\\t\\t\\t\\t<span class=\"glyphicon glyphicon-star\"></span>\\n\\t\\t\\t\\t\\t\\t\\t</p>\\n\\t\\t</div>\\n\\t</div>\\n</div>\\n\\t\\t\\t<div class=\"col-sm-4 col-lg-4 col-md-4\">\\n\\t<div class=\"thumbnail\">\\n\\t\\t<img class=\"img-responsive\" alt=\"item\"\\n\\t\\t     src=\"/images/test-sites/e-commerce/items/cart2.png\">\\n\\t\\t<div class=\"caption\">\\n\\t\\t\\t<h4 class=\"pull-right price\">$1381.13</h4>\\n\\t\\t\\t<h4>\\n\\t\\t\\t\\t\\t\\t\\t\\t\\t<a href=\"/test-sites/e-commerce/allinone/product/631\" class=\"title\" title=\"Asus ASUSPRO B9440UA-GV0279R Gray\">Asus ASUSPRO B94...</a>\\n\\t\\t\\t\\t\\t\\t\\t</h4>\\n\\t\\t\\t<p class=\"description\">Asus ASUSPRO B9440UA-GV0279R Gray, 14&quot; FHD, Core i7-7500U, 16GB, 512GB SSD, Windows 10 Pro, Eng kbd</p>\\n\\n\\t\\t</div>\\n\\t\\t<div class=\"ratings\">\\n\\t\\t\\t<p class=\"pull-right\">4 reviews</p>\\n\\t\\t\\t<p data-rating=\"1\">\\n\\t\\t\\t\\t\\t\\t\\t\\t<span class=\"glyphicon glyphicon-star\"></span>\\n\\t\\t\\t\\t\\t\\t\\t</p>\\n\\t\\t</div>\\n\\t</div>\\n</div>\\n\\t\\t\\t<div class=\"col-sm-4 col-lg-4 col-md-4\">\\n\\t<div class=\"thumbnail\">\\n\\t\\t<img class=\"img-responsive\" alt=\"item\"\\n\\t\\t     src=\"/images/test-sites/e-commerce/items/cart2.png\">\\n\\t\\t<div class=\"caption\">\\n\\t\\t\\t<h4 class=\"pull-right price\">$1399.00</h4>\\n\\t\\t\\t<h4>\\n\\t\\t\\t\\t\\t\\t\\t\\t\\t<a href=\"/test-sites/e-commerce/allinone/product/541\" class=\"title\" title=\"Lenovo Legion Y720\">Lenovo Legion Y7...</a>\\n\\t\\t\\t\\t\\t\\t\\t</h4>\\n\\t\\t\\t<p class=\"description\">Lenovo Legion Y720, 15.6&quot; FHD IPS, Core i7-7700HQ, 8GB, 128GB SSD + 2TB HDD, GeForce GTX 1060 6GB, DOS, RGB backlit keyboard</p>\\n\\n\\t\\t</div>\\n\\t\\t<div class=\"ratings\">\\n\\t\\t\\t<p class=\"pull-right\">8 reviews</p>\\n\\t\\t\\t<p data-rating=\"3\">\\n\\t\\t\\t\\t\\t\\t\\t\\t<span class=\"glyphicon glyphicon-star\"></span>\\n\\t\\t\\t\\t\\t\\t\\t\\t<span class=\"glyphicon glyphicon-star\"></span>\\n\\t\\t\\t\\t\\t\\t\\t\\t<span class=\"glyphicon glyphicon-star\"></span>\\n\\t\\t\\t\\t\\t\\t\\t</p>\\n\\t\\t</div>\\n\\t</div>\\n</div>\\n\\t\\t\\t<div class=\"col-sm-4 col-lg-4 col-md-4\">\\n\\t<div class=\"thumbnail\">\\n\\t\\t<img class=\"img-responsive\" alt=\"item\"\\n\\t\\t     src=\"/images/test-sites/e-commerce/items/cart2.png\">\\n\\t\\t<div class=\"caption\">\\n\\t\\t\\t<h4 class=\"pull-right price\">$1399.00</h4>\\n\\t\\t\\t<h4>\\n\\t\\t\\t\\t\\t\\t\\t\\t\\t<a href=\"/test-sites/e-commerce/allinone/product/632\" class=\"title\" title=\"Asus ROG Strix GL702VM-GC146T\">Asus ROG Strix G...</a>\\n\\t\\t\\t\\t\\t\\t\\t</h4>\\n\\t\\t\\t<p class=\"description\">Asus ROG Strix GL702VM-GC146T, 17.3&quot; FHD, Core i7-7700HQ, 8GB, 1TB + 128GB SSD, GeForce GTX 1060 3GB, Windows 10 Home, Eng kbd</p>\\n\\n\\t\\t</div>\\n\\t\\t<div class=\"ratings\">\\n\\t\\t\\t<p class=\"pull-right\">10 reviews</p>\\n\\t\\t\\t<p data-rating=\"3\">\\n\\t\\t\\t\\t\\t\\t\\t\\t<span class=\"glyphicon glyphicon-star\"></span>\\n\\t\\t\\t\\t\\t\\t\\t\\t<span class=\"glyphicon glyphicon-star\"></span>\\n\\t\\t\\t\\t\\t\\t\\t\\t<span class=\"glyphicon glyphicon-star\"></span>\\n\\t\\t\\t\\t\\t\\t\\t</p>\\n\\t\\t</div>\\n\\t</div>\\n</div>\\n\\t\\t\\t<div class=\"col-sm-4 col-lg-4 col-md-4\">\\n\\t<div class=\"thumbnail\">\\n\\t\\t<img class=\"img-responsive\" alt=\"item\"\\n\\t\\t     src=\"/images/test-sites/e-commerce/items/cart2.png\">\\n\\t\\t<div class=\"caption\">\\n\\t\\t\\t<h4 class=\"pull-right price\">$1769.00</h4>\\n\\t\\t\\t<h4>\\n\\t\\t\\t\\t\\t\\t\\t\\t\\t<a href=\"/test-sites/e-commerce/allinone/product/542\" class=\"title\" title=\"Asus ROG Strix GL702ZC-GC154T\">Asus ROG Strix G...</a>\\n\\t\\t\\t\\t\\t\\t\\t</h4>\\n\\t\\t\\t<p class=\"description\">Asus ROG Strix GL702ZC-GC154T, 17.3&quot; FHD, Ryzen 7 1700, 16GB, 256GB + 1TB HDD, Radeon RX 580 4GB, Windows 10 Home</p>\\n\\n\\t\\t</div>\\n\\t\\t<div class=\"ratings\">\\n\\t\\t\\t<p class=\"pull-right\">7 reviews</p>\\n\\t\\t\\t<p data-rating=\"4\">\\n\\t\\t\\t\\t\\t\\t\\t\\t<span class=\"glyphicon glyphicon-star\"></span>\\n\\t\\t\\t\\t\\t\\t\\t\\t<span class=\"glyphicon glyphicon-star\"></span>\\n\\t\\t\\t\\t\\t\\t\\t\\t<span class=\"glyphicon glyphicon-star\"></span>\\n\\t\\t\\t\\t\\t\\t\\t\\t<span class=\"glyphicon glyphicon-star\"></span>\\n\\t\\t\\t\\t\\t\\t\\t</p>\\n\\t\\t</div>\\n\\t</div>\\n</div>\\n\\t\\t\\t<div class=\"col-sm-4 col-lg-4 col-md-4\">\\n\\t<div class=\"thumbnail\">\\n\\t\\t<img class=\"img-responsive\" alt=\"item\"\\n\\t\\t     src=\"/images/test-sites/e-commerce/items/cart2.png\">\\n\\t\\t<div class=\"caption\">\\n\\t\\t\\t<h4 class=\"pull-right price\">$1769.00</h4>\\n\\t\\t\\t<h4>\\n\\t\\t\\t\\t\\t\\t\\t\\t\\t<a href=\"/test-sites/e-commerce/allinone/product/543\" class=\"title\" title=\"Asus ROG Strix GL702ZC-GC209T\">Asus ROG Strix G...</a>\\n\\t\\t\\t\\t\\t\\t\\t</h4>\\n\\t\\t\\t<p class=\"description\">Asus ROG Strix GL702ZC-GC209T, 17.3&quot; FHD IPS, Ryzen 7 1700, 16GB, 256GB SSD + 1TB HDD, Radeon RX 580 4GB, Windows 10 Home</p>\\n\\n\\t\\t</div>\\n\\t\\t<div class=\"ratings\">\\n\\t\\t\\t<p class=\"pull-right\">8 reviews</p>\\n\\t\\t\\t<p data-rating=\"1\">\\n\\t\\t\\t\\t\\t\\t\\t\\t<span class=\"glyphicon glyphicon-star\"></span>\\n\\t\\t\\t\\t\\t\\t\\t</p>\\n\\t\\t</div>\\n\\t</div>\\n</div>\\n\\t\\t\\t<div class=\"col-sm-4 col-lg-4 col-md-4\">\\n\\t<div class=\"thumbnail\">\\n\\t\\t<img class=\"img-responsive\" alt=\"item\"\\n\\t\\t     src=\"/images/test-sites/e-commerce/items/cart2.png\">\\n\\t\\t<div class=\"caption\">\\n\\t\\t\\t<h4 class=\"pull-right price\">$1799.00</h4>\\n\\t\\t\\t<h4>\\n\\t\\t\\t\\t\\t\\t\\t\\t\\t<a href=\"/test-sites/e-commerce/allinone/product/544\" class=\"title\" title=\"Asus ROG Strix SCAR Edition GL503VM-ED115T\">Asus ROG Strix S...</a>\\n\\t\\t\\t\\t\\t\\t\\t</h4>\\n\\t\\t\\t<p class=\"description\">Asus ROG Strix SCAR Edition GL503VM-ED115T, 15.6&quot; FHD 120Hz, Core i7-7700HQ, 16GB, 256GB SSD + 1TB SSHD, GeForce GTX 1060 6GB, Windows 10 Home</p>\\n\\n\\t\\t</div>\\n\\t\\t<div class=\"ratings\">\\n\\t\\t\\t<p class=\"pull-right\">8 reviews</p>\\n\\t\\t\\t<p data-rating=\"3\">\\n\\t\\t\\t\\t\\t\\t\\t\\t<span class=\"glyphicon glyphicon-star\"></span>\\n\\t\\t\\t\\t\\t\\t\\t\\t<span class=\"glyphicon glyphicon-star\"></span>\\n\\t\\t\\t\\t\\t\\t\\t\\t<span class=\"glyphicon glyphicon-star\"></span>\\n\\t\\t\\t\\t\\t\\t\\t</p>\\n\\t\\t</div>\\n\\t</div>\\n</div>\\n\\t</div>\\n\\n\\n\\n\\t\\t\\t</div>\\n\\t\\t</div>\\n\\t</div>\\n\\t<div class=\"clearfix\"></div>\\n\\t<div class=\"push\"></div>\\n</div>\\n\\n<div class=\"container-fluid footer\" id=\"layout-footer\">\\n\\t<div class=\"container\">\\n\\t\\t<div class=\"row\">\\n\\t\\t\\t<div class=\"col-md-3\">\\n\\t\\t\\t\\t<ul>\\n\\t\\t\\t\\t\\t<li><p>Products</p></li>\\n\\t\\t\\t\\t\\t<li>\\n\\t\\t\\t\\t\\t\\t<a href=\"/\">Web Scraper browser extension</a>\\n\\t\\t\\t\\t\\t</li>\\n\\t\\t\\t\\t\\t<li>\\n\\t\\t\\t\\t\\t\\t<a href=\"/pricing\">Web Scraper Cloud</a>\\n\\t\\t\\t\\t\\t</li>\\n\\t\\t\\t\\t\\t\\t\\t\\t\\t\\t\\n\\t\\t\\t\\t\\t\\n\\t\\t\\t\\t</ul>\\n\\t\\t\\t</div>\\n\\t\\t\\t<div class=\"col-md-3\">\\n\\t\\t\\t\\t<ul>\\n\\t\\t\\t\\t\\t<li><p>Company</p></li>\\n\\t\\t\\t\\t\\t\\n\\t\\t\\t\\t\\t<li><a href=\"/contact\">Contact</a>\\n\\t\\t\\t\\t\\t</li>\\n\\t\\t\\t\\t\\t\\n\\t\\t\\t\\t\\t<li>\\n\\t\\t\\t\\t\\t\\t<a href=\"/privacy-policy\">Website Privacy Policy</a>\\n\\t\\t\\t\\t\\t</li>\\n\\t\\t\\t\\t\\t<li>\\n\\t\\t\\t\\t\\t\\t<a href=\"/extension-privacy-policy\">Browser Extension Privacy Policy</a>\\n\\t\\t\\t\\t\\t</li>\\n\\t\\t\\t\\t\\t<li>\\n\\t\\t\\t\\t\\t\\t<a href=\"http://webscraperio.us-east-1.elasticbeanstalk.com/downloads/Web_Scraper_Media_Kit.zip\">Media kit</a>\\n\\t\\t\\t\\t\\t</li>\\n\\t\\t\\t\\t\\t\\n\\t\\t\\t\\t\\t<li><a href=\"/jobs\">Jobs</a></li>\\n\\t\\t\\t\\t</ul>\\n\\t\\t\\t</div>\\n\\t\\t\\t<div class=\"col-md-3\">\\n\\t\\t\\t\\t<ul>\\n\\t\\t\\t\\t\\t<li><p>Resources</p></li>\\n\\t\\t\\t\\t\\t<li><a href=\"/blog\">Blog</a></li>\\n\\t\\t\\t\\t\\t<li>\\n\\t\\t\\t\\t\\t\\t<a href=\"/documentation\">Documentation</a>\\n\\t\\t\\t\\t\\t</li>\\n\\t\\t\\t\\t\\t<li>\\n\\t\\t\\t\\t\\t\\t<a href=\"/tutorials\">Video Tutorials</a>\\n\\t\\t\\t\\t\\t</li>\\n\\t\\t\\t\\t\\t<li>\\n\\t\\t\\t\\t\\t\\t<a href=\"/screenshots\">Screenshots</a>\\n\\t\\t\\t\\t\\t</li>\\n\\t\\t\\t\\t\\t<li>\\n\\t\\t\\t\\t\\t\\t<a href=\"/test-sites\">Test Sites</a>\\n\\t\\t\\t\\t\\t</li>\\n\\t\\t\\t\\t\\t<li>\\n\\t\\t\\t\\t\\t\\t<a target=\"_blank\" href=\"https://forum.webscraper.io/\" rel=\"noopener\">Forum</a>\\n\\t\\t\\t\\t\\t</li>\\n\\t\\t\\t\\t</ul>\\n\\t\\t\\t</div>\\n\\t\\t\\t<div class=\"col-md-3\">\\n\\t\\t\\t\\t<ul>\\n\\t\\t\\t\\t\\t<li><p>CONTACT US</p></li>\\n\\t\\t\\t\\t\\t<li>\\n\\t\\t\\t\\t\\t\\t<a href=\"mailto:info@webscraper.io\">info@webscraper.io</a>\\n\\t\\t\\t\\t\\t</li>\\n\\t\\t\\t\\t\\t\\n\\t\\t\\t\\t\\t<li>Rupniecibas iela 30,<br> Riga, Latvia, LV-1045</li>\\n\\t\\t\\t\\t</ul>\\n\\t\\t\\t\\t<ul class=\"smedia\">\\n\\t\\t\\t\\t\\t<li>\\n\\t\\t\\t\\t\\t\\t<a href=\"https://www.facebook.com/webscraperio/\" target=\"_blank\" rel=\"noopener\"><img src=\"/img/fbicon.png\" alt=\"Web Scraper on Facebook\"></a>\\n\\t\\t\\t\\t\\t</li>\\n\\t\\t\\t\\t\\t<li>\\n\\t\\t\\t\\t\\t\\t<a href=\"https://twitter.com/webscraperio\" target=\"_blank\" rel=\"noopener\"><img src=\"/img/twicon.png\" alt=\"Web Scraper on Twitter\"></a>\\n\\t\\t\\t\\t\\t</li>\\n\\t\\t\\t\\t\\t\\n\\n\\t\\t\\t\\t</ul>\\n\\t\\t\\t</div>\\n\\t\\t</div>\\n\\t\\t<div class=\"row\">\\n\\t\\t\\t<div class=\"col-md-12\">\\n\\t\\t\\t\\t<p class=\"copyright\">Copyright &copy 2022\\n\\t\\t\\t\\t\\t<a href=\"#\">Web Scraper</a> | All rights\\n\\t\\t\\t\\t\\treserved | Made by zoom59</p>\\n\\t\\t\\t</div>\\n\\t\\t</div>\\n\\t</div>\\n</div>\\n\\n\\n</body>\\n</html>\\n'"
            ],
            "application/vnd.google.colaboratory.intrinsic+json": {
              "type": "string"
            }
          },
          "metadata": {},
          "execution_count": 25
        }
      ]
    },
    {
      "cell_type": "code",
      "source": [
        "titles = []\n",
        "prices = []\n",
        "ratings = []\n",
        "url = 'https://webscraper.io/test-sites/e-commerce/allinone/computers/laptops'\n",
        "request = requests.get(url)\n",
        "soup = BeautifulSoup(request.text,\"html.parser\")\n",
        "for product in soup.find_all('div',{'class':'col-sm-4 col-lg-4 col-md-4'}):\n",
        "  for pr in product.find_all('div',{'class':'caption'}):\n",
        "    for p in pr.find_all('h4', {'class': 'pull-right price'}):\n",
        "      prices.append(p.text)\n",
        "    for title in pr.find_all('a' , {'title'}):\n",
        "      titles.append(title.get('title'))\n",
        "for rt in product.find_all('div', {'class': 'ratings'}):\n",
        "    ratings.append(len(rt.find_all('span', {'class': 'glyphicon glyphicon-star'})))\n",
        "\n",
        "product_df = pd.DataFrame(zip(titles,prices,ratings), columns = [\"Titles\",\"Prices\",\"Ratings\"])\n",
        "product_df.to_csv(\"ecommerce.csv\",index =False)"
      ],
      "metadata": {
        "id": "FW_Xh1CGKOPw"
      },
      "execution_count": null,
      "outputs": []
    }
  ]
}